{
  "nbformat": 4,
  "nbformat_minor": 0,
  "metadata": {
    "colab": {
      "name": "AN6001 individual assignment Wang Jingyi",
      "provenance": [],
      "collapsed_sections": []
    },
    "kernelspec": {
      "name": "python3",
      "display_name": "Python 3"
    }
  },
  "cells": [
    {
      "cell_type": "markdown",
      "metadata": {
        "id": "2ouNJ05dnSXu"
      },
      "source": [
        " 1. import original data"
      ]
    },
    {
      "cell_type": "code",
      "metadata": {
        "id": "gnmExJOCIOFZ",
        "outputId": "cd0c18f3-1b12-419e-8a93-31f4d5ee1728",
        "colab": {
          "base_uri": "https://localhost:8080/",
          "height": 305
        }
      },
      "source": [
        "from keras.models import Sequential\n",
        "from keras.layers import Dense, Dropout\n",
        "from sklearn.metrics import classification_report, confusion_matrix\n",
        "from sklearn.model_selection import train_test_split\n",
        "import numpy as np\n",
        "import pandas as pd\n",
        "from sklearn import linear_model\n",
        "from sklearn import preprocessing\n",
        "from sklearn import tree\n",
        "from sklearn.ensemble import RandomForestClassifier,GradientBoostingClassifier\n",
        "\n",
        "df = pd.read_csv(\"/content/drive/My Drive/NCDB_2014.csv\")  \n",
        "print(df)\n",
        "#check duplicates\n",
        "df=df.drop_duplicates()"
      ],
      "execution_count": 361,
      "outputs": [
        {
          "output_type": "stream",
          "text": [
            "/usr/local/lib/python3.6/dist-packages/IPython/core/interactiveshell.py:2718: DtypeWarning: Columns (1,2,5,12) have mixed types.Specify dtype option on import or set low_memory=False.\n",
            "  interactivity=interactivity, compiler=compiler, result=result)\n"
          ],
          "name": "stderr"
        },
        {
          "output_type": "stream",
          "text": [
            "        C_YEAR C_MNTH C_WDAY C_HOUR  C_SEV  ... P_AGE P_PSN P_ISEV P_SAFE P_USER\n",
            "0         2014      1      1     10      2  ...    75    11      2     NN      1\n",
            "1         2014      1      1     12      2  ...    21    11      2     02      1\n",
            "2         2014      1      1     00      2  ...    34    11      2     02      1\n",
            "3         2014      1      1     17      2  ...    50    11      2     02      1\n",
            "4         2014      1      1     17      2  ...    63    11      1     NN      1\n",
            "...        ...    ...    ...    ...    ...  ...   ...   ...    ...    ...    ...\n",
            "297607    2014     UU      U     UU      2  ...    24    11      1     NN      1\n",
            "297608    2014     UU      U     23      2  ...    29    96      2     09      5\n",
            "297609    2014     UU      U     14      2  ...    UU    11      2     01      1\n",
            "297610    2014     UU      U     22      1  ...    67    12      3     01      U\n",
            "297611    2014     UU      U     22      1  ...    10    98      1     01      U\n",
            "\n",
            "[297612 rows x 22 columns]\n"
          ],
          "name": "stdout"
        }
      ]
    },
    {
      "cell_type": "code",
      "metadata": {
        "id": "-QMOWcPnZXFp"
      },
      "source": [
        "#plot_confusion_matrix function\n",
        "from itertools import product\n",
        "\n",
        "def plot_confusion_matrix(cm):\n",
        "    fig, ax = plt.subplots()\n",
        "    cmap = \"coolwarm\"\n",
        "    im_ = ax.imshow(cm,interpolation = \"nearest\",cmap = \"coolwarm\")\n",
        "    xlen, ylen = cm.shape\n",
        "    thresh = (cm.max() + cm.min()) / xlen\n",
        "    display_labels = (0,1)\n",
        "    cmap_min, cmap_max = im_.cmap(0), im_.cmap(256)\n",
        "    for i,j in product(range(xlen),range(xlen)):\n",
        "        color = cmap_max if cm[i,j] < thresh else cmap_min\n",
        "        ax.text(j,i,format(cm[i,j],\".0f\"),ha = \"center\",va = \"center\",color = \"black\")\n",
        "    fig.colorbar(im_,ax = ax)\n",
        "    ax.set(xticks = np.arange(xlen),\n",
        "        yticks = np.arange(ylen),\n",
        "        xticklabels = display_labels,\n",
        "        yticklabels = display_labels,\n",
        "        ylabel = \"True label\",\n",
        "        xlabel = \"Predicted label\")\n",
        "    ax.set_ylim((2 - 0.5,-0.5))\n",
        "    plt.show()\n",
        "    return None"
      ],
      "execution_count": 362,
      "outputs": []
    },
    {
      "cell_type": "code",
      "metadata": {
        "id": "ws-y1UZcunfu"
      },
      "source": [
        "# draw ROC curve function\n",
        "from sklearn.metrics import roc_curve\n",
        "from sklearn.metrics import roc_auc_score\n",
        "from sklearn.metrics import confusion_matrix\n",
        "import matplotlib.pyplot as plt\n",
        "\n",
        "\n",
        "def plot_roc_curve(test_y, probs):\n",
        "    # generate a no skill prediction (majority class)\n",
        "    ns_probs = [0 for _ in range(len(test_y))]\n",
        "    # calculate scores\n",
        "    ns_auc = roc_auc_score(test_y, ns_probs)\n",
        "    auc = roc_auc_score(test_y, probs)\n",
        "    # summarize scores\n",
        "    print('No Skill: ROC AUC=%.3f' % (ns_auc))\n",
        "    print('Logistic: ROC AUC=%.3f' % (auc))\n",
        "    # calculate roc curves\n",
        "    ns_fpr, ns_tpr, _ = roc_curve(test_y, ns_probs)\n",
        "    fpr, tpr, _ = roc_curve(test_y, probs)\n",
        "\n",
        "    # plot the roc curve for the model\n",
        "    plt.plot(ns_fpr, ns_tpr, linestyle='--', label='No Skill')\n",
        "    plt.plot(fpr, tpr, linestyle='--', label='Model')\n",
        "    # axis labels\n",
        "    plt.xlabel('False Positive Rate')\n",
        "    plt.ylabel('True Positive Rate')\n",
        "    # show the legend\n",
        "    plt.ylim((0,1))\n",
        "    plt.xlim((0,1))\n",
        "    plt.legend()\n",
        "    # show the plot\n",
        "    plt.show()"
      ],
      "execution_count": 363,
      "outputs": []
    },
    {
      "cell_type": "markdown",
      "metadata": {
        "id": "IdIWM_T8PIYM"
      },
      "source": [
        "**1. government prodiction model**"
      ]
    },
    {
      "cell_type": "code",
      "metadata": {
        "id": "swzYIe5tPcaT",
        "outputId": "fd4c101e-1fbb-4700-8e2f-165e31b011fd",
        "colab": {
          "base_uri": "https://localhost:8080/",
          "height": 269
        }
      },
      "source": [
        "#get needed factors from df\n",
        "govdata=df[df.columns[df.columns.isin(['C_MNTH','C_WDAY','C_HOUR','C_VEHS','C_CONF','C_RCFG', 'C_WTHR','C_RSUR','C_RALN','C_TRAF','C_SEV'])]]\n",
        "govdata=govdata.drop_duplicates()\n",
        "print(govdata)"
      ],
      "execution_count": 524,
      "outputs": [
        {
          "output_type": "stream",
          "text": [
            "       C_MNTH C_WDAY C_HOUR  C_SEV C_VEHS  ... C_RCFG C_WTHR C_RSUR C_RALN C_TRAF\n",
            "0           1      1     10      2      1  ...     03      1      3      2     18\n",
            "1           1      1     12      2      1  ...     UU      1      5      1     UU\n",
            "2           1      1     00      2      1  ...     UU      7      3      1     UU\n",
            "3           1      1     17      2      2  ...     UU      1      1      1     18\n",
            "5           1      1     22      2      1  ...     05      1      3      1     18\n",
            "...       ...    ...    ...    ...    ...  ...    ...    ...    ...    ...    ...\n",
            "297585     12      7     19      2     01  ...     01      1      3      4     18\n",
            "297588     UU      U     UU      2     UU  ...     01      U      U      U     UU\n",
            "297608     UU      U     23      2     01  ...     05      1      1      U     18\n",
            "297609     UU      U     14      2     01  ...     01      1      5      4     18\n",
            "297610     UU      U     22      1     01  ...     01      2      4      Q     18\n",
            "\n",
            "[98772 rows x 11 columns]\n"
          ],
          "name": "stdout"
        }
      ]
    },
    {
      "cell_type": "markdown",
      "metadata": {
        "id": "6PtNsa7snzy0"
      },
      "source": [
        "1.1 data cleaning and processing"
      ]
    },
    {
      "cell_type": "code",
      "metadata": {
        "id": "2kdGYLVpNNJ6",
        "outputId": "6209aaf9-e93d-41f3-a999-a3f02b1ff01a",
        "colab": {
          "base_uri": "https://localhost:8080/",
          "height": 35
        }
      },
      "source": [
        "#check na\n",
        "x =  govdata.isnull().sum().sum()\n",
        "print(x)"
      ],
      "execution_count": 525,
      "outputs": [
        {
          "output_type": "stream",
          "text": [
            "0\n"
          ],
          "name": "stdout"
        }
      ]
    },
    {
      "cell_type": "code",
      "metadata": {
        "id": "byK4Sa0LPGbs"
      },
      "source": [
        "#because Q,U,X cannot give info，thus replace with nan and then drop \n",
        "govdata = govdata.replace('Q',np.nan)\n",
        "govdata = govdata.replace('U',np.nan)\n",
        "govdata = govdata.replace('X',np.nan)\n",
        "govdata = govdata.replace('QQ',np.nan)\n",
        "govdata = govdata.replace('UU',np.nan)\n",
        "govdata = govdata.replace('XX',np.nan)"
      ],
      "execution_count": 526,
      "outputs": []
    },
    {
      "cell_type": "code",
      "metadata": {
        "id": "q-SllSPGbFRF"
      },
      "source": [
        "govdata=govdata.dropna()"
      ],
      "execution_count": 527,
      "outputs": []
    },
    {
      "cell_type": "code",
      "metadata": {
        "id": "z2gJs5fKbnb6"
      },
      "source": [
        "#turn string type into numeric\n",
        "govdata=govdata.apply(pd.to_numeric,errors='ignore')"
      ],
      "execution_count": 528,
      "outputs": []
    },
    {
      "cell_type": "code",
      "metadata": {
        "id": "p_URGAnkbs5u",
        "outputId": "3bef061c-dde2-42ed-d5a3-253277361a53",
        "colab": {
          "base_uri": "https://localhost:8080/",
          "height": 593
        }
      },
      "source": [
        "#check the dataset\n",
        "print(\"info\")\n",
        "govdata.info()\n",
        "print(\"describe\")\n",
        "print(govdata.describe().T)"
      ],
      "execution_count": 529,
      "outputs": [
        {
          "output_type": "stream",
          "text": [
            "info\n",
            "<class 'pandas.core.frame.DataFrame'>\n",
            "Int64Index: 69238 entries, 0 to 297585\n",
            "Data columns (total 11 columns):\n",
            " #   Column  Non-Null Count  Dtype\n",
            "---  ------  --------------  -----\n",
            " 0   C_MNTH  69238 non-null  int64\n",
            " 1   C_WDAY  69238 non-null  int64\n",
            " 2   C_HOUR  69238 non-null  int64\n",
            " 3   C_SEV   69238 non-null  int64\n",
            " 4   C_VEHS  69238 non-null  int64\n",
            " 5   C_CONF  69238 non-null  int64\n",
            " 6   C_RCFG  69238 non-null  int64\n",
            " 7   C_WTHR  69238 non-null  int64\n",
            " 8   C_RSUR  69238 non-null  int64\n",
            " 9   C_RALN  69238 non-null  int64\n",
            " 10  C_TRAF  69238 non-null  int64\n",
            "dtypes: int64(11)\n",
            "memory usage: 6.3 MB\n",
            "describe\n",
            "          count       mean        std  min  25%   50%   75%   max\n",
            "C_MNTH  69238.0   6.626275   3.575225  1.0  3.0   7.0  10.0  12.0\n",
            "C_WDAY  69238.0   3.912837   1.920397  1.0  2.0   4.0   5.0   7.0\n",
            "C_HOUR  69238.0  13.286577   5.335521  0.0  9.0  14.0  17.0  23.0\n",
            "C_SEV   69238.0   1.982105   0.132570  1.0  2.0   2.0   2.0   2.0\n",
            "C_VEHS  69238.0   1.824605   0.836730  1.0  1.0   2.0   2.0  57.0\n",
            "C_CONF  69238.0  20.547373  12.739186  1.0  6.0  21.0  33.0  41.0\n",
            "C_RCFG  69238.0   1.673575   0.856076  1.0  1.0   2.0   2.0  10.0\n",
            "C_WTHR  69238.0   1.727678   1.251302  1.0  1.0   1.0   2.0   7.0\n",
            "C_RSUR  69238.0   1.806826   1.311893  1.0  1.0   1.0   2.0   9.0\n",
            "C_RALN  69238.0   1.542274   1.055542  1.0  1.0   1.0   2.0   6.0\n",
            "C_TRAF  69238.0  11.060343   8.003767  1.0  1.0  18.0  18.0  18.0\n"
          ],
          "name": "stdout"
        }
      ]
    },
    {
      "cell_type": "code",
      "metadata": {
        "id": "IQ-KyGStJ0HV"
      },
      "source": [
        "#cut categorical variables into range\n",
        "govdata['C_MONTH']=pd.cut(govdata['C_MNTH'],[-1,3,6,9,12],labels=['Q1','Q2','Q3','Q4'])\n",
        "govdata['C_TIME']=pd.cut(govdata['C_HOUR'],[-1,3,7,11,15,19,23],labels=['[0,3]','[4,7]','[8,11]','[12,15]','[16,19]','[20,23]'])\n",
        "govdata['C_CONFC']=pd.cut(govdata['C_CONF'],[-1,6,25,36,41],labels=['SingleVeh','TwoVehSame','TwoVehDif','TwoVehPar'])\n"
      ],
      "execution_count": 530,
      "outputs": []
    },
    {
      "cell_type": "code",
      "metadata": {
        "id": "gG0dR9fsMRW-",
        "outputId": "5f704a46-a250-434c-efda-2493e3d14411",
        "colab": {
          "base_uri": "https://localhost:8080/",
          "height": 269
        }
      },
      "source": [
        "#reselect the data column\n",
        "govdata=govdata[govdata.columns[govdata.columns.isin(['C_MONTH','C_WDAY','C_TIME','C_CONFC','C_RCFG', 'C_WTHR','C_RSUR','C_RALN','C_TRAF','C_SEV'])]]\n",
        "print(govdata)"
      ],
      "execution_count": 531,
      "outputs": [
        {
          "output_type": "stream",
          "text": [
            "        C_WDAY  C_SEV  C_RCFG  C_WTHR  ...  C_TRAF  C_MONTH   C_TIME     C_CONFC\n",
            "0            1      2       3       1  ...      18       Q1   [8,11]   SingleVeh\n",
            "5            1      2       5       1  ...      18       Q1  [20,23]   SingleVeh\n",
            "6            1      2       2       4  ...      16       Q1  [16,19]   TwoVehDif\n",
            "8            1      2       2       1  ...      18       Q1  [12,15]   TwoVehDif\n",
            "12           1      2       2       1  ...      18       Q1  [16,19]  TwoVehSame\n",
            "...        ...    ...     ...     ...  ...     ...      ...      ...         ...\n",
            "297576       7      2       3       2  ...      18       Q4  [20,23]   TwoVehDif\n",
            "297579       7      2       1       2  ...      18       Q4    [0,3]   SingleVeh\n",
            "297580       7      2       1       2  ...      18       Q4  [16,19]   SingleVeh\n",
            "297582       7      2       1       1  ...      18       Q4  [12,15]   TwoVehPar\n",
            "297585       7      2       1       1  ...      18       Q4  [16,19]   SingleVeh\n",
            "\n",
            "[69238 rows x 10 columns]\n"
          ],
          "name": "stdout"
        }
      ]
    },
    {
      "cell_type": "code",
      "metadata": {
        "id": "5AObS4MXNTk1"
      },
      "source": [
        "#get dummy for categorical x variables\n",
        "govdata= pd.get_dummies(govdata, columns = ['C_MONTH','C_WDAY','C_TIME','C_CONFC','C_RCFG', 'C_WTHR','C_RSUR','C_RALN','C_TRAF'], drop_first= True)\n",
        "#swith y in 0 and 1\n",
        "govdata.loc[govdata['C_SEV'] == 2,'C_SEV'] = 0"
      ],
      "execution_count": 532,
      "outputs": []
    },
    {
      "cell_type": "code",
      "metadata": {
        "id": "Xc7s3dpEhMzN",
        "outputId": "dbc7047b-7a7a-487d-a42c-a308644198ad",
        "colab": {
          "base_uri": "https://localhost:8080/",
          "height": 89
        }
      },
      "source": [
        "#check the imbalanced data problems\n",
        "groups = govdata.groupby('C_SEV')\n",
        "groups.size() "
      ],
      "execution_count": 533,
      "outputs": [
        {
          "output_type": "execute_result",
          "data": {
            "text/plain": [
              "C_SEV\n",
              "0    67999\n",
              "1     1239\n",
              "dtype: int64"
            ]
          },
          "metadata": {
            "tags": []
          },
          "execution_count": 533
        }
      ]
    },
    {
      "cell_type": "code",
      "metadata": {
        "id": "MLWil286HIdv",
        "outputId": "0d678b5c-91ea-4015-8348-e0ddfbe0d32e",
        "colab": {
          "base_uri": "https://localhost:8080/",
          "height": 89
        }
      },
      "source": [
        "#under smapling\n",
        "# Shuffle the Dataset.\n",
        "shuffled_govdata = govdata.sample(frac=1,random_state=4)\n",
        "# Put all the fraud class in a separate dataset.\n",
        "fraud_govdata = shuffled_govdata.loc[shuffled_govdata['C_SEV'] == 1]\n",
        "#random_state make sure generate the same result \n",
        "non_fraud_govdata=shuffled_govdata.loc[shuffled_govdata['C_SEV']== 0].sample(n=1239,random_state=42)\n",
        "# Concatenate both dataframes again\n",
        "normalized_govdata = pd.concat([fraud_govdata, non_fraud_govdata])\n",
        "groups = normalized_govdata.groupby('C_SEV')\n",
        "groups.size()  "
      ],
      "execution_count": 534,
      "outputs": [
        {
          "output_type": "execute_result",
          "data": {
            "text/plain": [
              "C_SEV\n",
              "0    1239\n",
              "1    1239\n",
              "dtype: int64"
            ]
          },
          "metadata": {
            "tags": []
          },
          "execution_count": 534
        }
      ]
    },
    {
      "cell_type": "code",
      "metadata": {
        "id": "HOuQC5bkfqiJ",
        "outputId": "038ddb5f-1a51-4e7f-e3a2-bd711804b396",
        "colab": {
          "base_uri": "https://localhost:8080/",
          "height": 521
        }
      },
      "source": [
        "govdata=normalized_govdata\n",
        "#spilt x and y\n",
        "y=govdata[govdata.columns[govdata.columns.isin(['C_SEV'])]]\n",
        "print(y)\n",
        "X = govdata[govdata.columns[~govdata.columns.isin(['C_SEV'])]]\n",
        "print(X)\n",
        "#spilt train and test set\n",
        "X_train, X_test, y_train, y_test = train_test_split(X, y, test_size=0.20, random_state=2020)"
      ],
      "execution_count": 535,
      "outputs": [
        {
          "output_type": "stream",
          "text": [
            "        C_SEV\n",
            "254004      1\n",
            "216366      1\n",
            "94512       1\n",
            "121761      1\n",
            "90220       1\n",
            "...       ...\n",
            "250450      0\n",
            "207868      0\n",
            "150641      0\n",
            "164719      0\n",
            "14745       0\n",
            "\n",
            "[2478 rows x 1 columns]\n",
            "        C_MONTH_Q2  C_MONTH_Q3  C_MONTH_Q4  ...  C_TRAF_16  C_TRAF_17  C_TRAF_18\n",
            "254004           0           0           1  ...          0          0          1\n",
            "216366           0           1           0  ...          0          0          0\n",
            "94512            1           0           0  ...          0          0          1\n",
            "121761           1           0           0  ...          0          0          1\n",
            "90220            1           0           0  ...          0          0          1\n",
            "...            ...         ...         ...  ...        ...        ...        ...\n",
            "250450           0           0           1  ...          0          0          1\n",
            "207868           0           1           0  ...          0          0          0\n",
            "150641           0           1           0  ...          0          0          0\n",
            "164719           0           1           0  ...          0          0          1\n",
            "14745            0           0           0  ...          0          0          1\n",
            "\n",
            "[2478 rows x 61 columns]\n"
          ],
          "name": "stdout"
        }
      ]
    },
    {
      "cell_type": "code",
      "metadata": {
        "id": "SoZXr7qMWesw",
        "outputId": "7952d129-d513-4eeb-aebe-a6af35cbc71b",
        "colab": {
          "base_uri": "https://localhost:8080/",
          "height": 1000
        }
      },
      "source": [
        "#Model 1 : linear regression\n",
        "#https://scikit-learn.org/stable/modules/generated/sklearn.linear_model.LogisticRegression.html\n",
        "#class sklearn.linear_model.LogisticRegression(penalty='l2', *, dual=False, tol=0.0001, C=1.0, fit_intercept=True, \n",
        "#intercept_scaling=1, class_weight=None, random_state=None, solver='lbfgs', max_iter=100, multi_class='auto', \n",
        "#verbose=0, warm_start=False, n_jobs=None, l1_ratio=None)\n",
        "import matplotlib.pyplot as plt\n",
        "from sklearn.metrics import classification_report\n",
        "\n",
        "linear_classifier = linear_model.LogisticRegression(random_state=123)\n",
        "linear_classifier.fit(X_train, y_train)\n",
        "y_pred_train1 = linear_classifier.predict(X_train)\n",
        "cm1_train = confusion_matrix(y_train,y_pred_train1)\n",
        "print(\"Regression\")\n",
        "print(\"================================\")\n",
        "print(cm1_train)\n",
        "acc_train1 = (cm1_train[0,0] + cm1_train[1,1]) / sum(sum(cm1_train))\n",
        "print(\"Regression TrainSet: Accurarcy %.2f%%\" % (acc_train1*100))\n",
        "print(\"================================\")\n",
        "y_pred1 = linear_classifier.predict(X_test)\n",
        "cm1 = confusion_matrix(y_test,y_pred1)\n",
        "print(cm1)\n",
        "acc1 = (cm1[0,0] + cm1[1,1]) / sum(sum(cm1))\n",
        "print(\"Regression Testset: Accurarcy %.2f%%\" % (acc1*100))\n",
        "print(\"================================\")\n",
        "print(\"================================\")\n",
        "print(\"================================\")\n",
        "\n",
        "#evaluate the result\n",
        "print(\"Confusion matrix:\")\n",
        "plot_confusion_matrix(confusion_matrix(y_test,y_pred1))\n",
        "print(\"Classification report:\")\n",
        "print(classification_report(y_test,y_pred1))\n",
        "plot_roc_curve(y_test,y_pred1)"
      ],
      "execution_count": 477,
      "outputs": [
        {
          "output_type": "stream",
          "text": [
            "/usr/local/lib/python3.6/dist-packages/sklearn/utils/validation.py:760: DataConversionWarning: A column-vector y was passed when a 1d array was expected. Please change the shape of y to (n_samples, ), for example using ravel().\n",
            "  y = column_or_1d(y, warn=True)\n"
          ],
          "name": "stderr"
        },
        {
          "output_type": "stream",
          "text": [
            "Regression\n",
            "================================\n",
            "[[703 290]\n",
            " [318 671]]\n",
            "Regression TrainSet: Accurarcy 69.32%\n",
            "================================\n",
            "[[175  71]\n",
            " [ 71 179]]\n",
            "Regression Testset: Accurarcy 71.37%\n",
            "================================\n",
            "================================\n",
            "================================\n",
            "Confusion matrix:\n"
          ],
          "name": "stdout"
        },
        {
          "output_type": "display_data",
          "data": {
            "image/png": "[encoded data removed]",
            "text/plain": [
              "<Figure size 432x288 with 2 Axes>"
            ]
          },
          "metadata": {
            "tags": [],
            "needs_background": "light"
          }
        },
        {
          "output_type": "stream",
          "text": [
            "Classification report:\n",
            "              precision    recall  f1-score   support\n",
            "\n",
            "           0       0.71      0.71      0.71       246\n",
            "           1       0.72      0.72      0.72       250\n",
            "\n",
            "    accuracy                           0.71       496\n",
            "   macro avg       0.71      0.71      0.71       496\n",
            "weighted avg       0.71      0.71      0.71       496\n",
            "\n",
            "No Skill: ROC AUC=0.500\n",
            "Logistic: ROC AUC=0.714\n"
          ],
          "name": "stdout"
        },
        {
          "output_type": "display_data",
          "data": {
            "image/png": "[encoded data removed]",
            "text/plain": [
              "<Figure size 432x288 with 1 Axes>"
            ]
          },
          "metadata": {
            "tags": [],
            "needs_background": "light"
          }
        }
      ]
    },
    {
      "cell_type": "code",
      "metadata": {
        "id": "pweMvn3r5Ch_",
        "outputId": "f95b2095-5e3f-4d3b-fe14-499b48c2d6eb",
        "colab": {
          "base_uri": "https://localhost:8080/",
          "height": 897
        }
      },
      "source": [
        "#plot the variable importance\n",
        "import matplotlib.pyplot as plt\n",
        "plt.rcParams['font.sans-serif']=['SimHei'] \n",
        "plt.rcParams['axes.unicode_minus']=False \n",
        "\n",
        "coef_LR = pd.Series(modelLR.coef_.flatten(),index = X_test.columns,name = 'Var')\n",
        "\n",
        "plt.figure(figsize=(15,15))\n",
        "coef_LR.sort_values().plot(kind='barh')\n",
        "plt.title(\"Variances Importances\")"
      ],
      "execution_count": 380,
      "outputs": [
        {
          "output_type": "execute_result",
          "data": {
            "text/plain": [
              "Text(0.5, 1.0, 'Variances Importances')"
            ]
          },
          "metadata": {
            "tags": []
          },
          "execution_count": 380
        },
        {
          "output_type": "display_data",
          "data": {
            "image/png": "[encoded data removed]",
            "text/plain": [
              "<Figure size 1080x1080 with 1 Axes>"
            ]
          },
          "metadata": {
            "tags": [],
            "needs_background": "light"
          }
        }
      ]
    },
    {
      "cell_type": "code",
      "metadata": {
        "id": "74FYh9fvW0WZ",
        "outputId": "e9ae4a2e-9ba9-43fa-e0f8-d7af65488a08",
        "colab": {
          "base_uri": "https://localhost:8080/",
          "height": 161
        }
      },
      "source": [
        "#Model 2: decision tree\n",
        "#https://scikit-learn.org/stable/modules/generated/sklearn.tree.DecisionTreeClassifier.html\n",
        "#class sklearn.tree.DecisionTreeClassifier(*, criterion='gini', splitter='best', max_depth=None, min_samples_split=2, \n",
        "#min_samples_leaf=1, min_weight_fraction_leaf=0.0, max_features=None, random_state=None, max_leaf_nodes=None, \n",
        "#min_impurity_decrease=0.0, min_impurity_split=None, class_weight=None, presort='deprecated', ccp_alpha=0.0)\n",
        "\n",
        "clf = tree.DecisionTreeClassifier()\n",
        "clf = clf.fit(X_train, y_train)\n",
        "y_pred_train2 = clf.predict(X_train)\n",
        "cm2_train = confusion_matrix(y_train,y_pred_train2)\n",
        "print(\"Decision Tree\")\n",
        "print(\"================================\")\n",
        "#print(cm2_train)\n",
        "acc_train2 = (cm2_train[0,0] + cm2_train[1,1]) / sum(sum(cm2_train))\n",
        "print(\"Decsion Tree TrainSet: Accurarcy %.2f%%\" % (acc_train2*100))\n",
        "print(\"================================\")\n",
        "y_pred2 = clf.predict(X_test)\n",
        "#cm2 = confusion_matrix(y_test,y_pred2)\n",
        "acc2 = (cm2[0,0] + cm2[1,1]) / sum(sum(cm2))\n",
        "#print(cm2)\n",
        "print(\"Decision Tree Testset: Accurarcy %.2f%%\" % (acc2*100))\n",
        "print(\"================================\")\n",
        "print(\"================================\")\n",
        "print(\"================================\")\n",
        "\n",
        "\n",
        "\n",
        "#children_right = clf.tree_.children_right\n",
        "#feature = clf.tree_.feature   ### At node i, which column am I using\n",
        "#threshold = clf.tree_.threshold ### At node i, which is the threshold\n",
        "#print(n_nodes)\n",
        "#print(children_left)\n",
        "#print(children_right)\n",
        "#print(feature)\n",
        "#tree.plot_tree(clf)"
      ],
      "execution_count": 479,
      "outputs": [
        {
          "output_type": "stream",
          "text": [
            "Decision Tree\n",
            "================================\n",
            "Decsion Tree TrainSet: Accurarcy 95.41%\n",
            "================================\n",
            "Decision Tree Testset: Accurarcy 70.62%\n",
            "================================\n",
            "================================\n",
            "================================\n"
          ],
          "name": "stdout"
        }
      ]
    },
    {
      "cell_type": "code",
      "metadata": {
        "id": "dkOvbOWOXOwP",
        "outputId": "9783741c-fce7-4e09-fa3b-f9b948780cbd",
        "colab": {
          "base_uri": "https://localhost:8080/",
          "height": 609
        }
      },
      "source": [
        "#prune the tree\n",
        "path = clf.cost_complexity_pruning_path(X_train, y_train)\n",
        "ccp_alphas, impurities = path.ccp_alphas, path.impurities\n",
        "import matplotlib.pyplot as plt\n",
        "fig, ax = plt.subplots()\n",
        "ax.plot(ccp_alphas[:-1], impurities[:-1], marker='o', drawstyle=\"steps-post\")\n",
        "ax.set_xlabel(\"effective alpha\")\n",
        "ax.set_ylabel(\"total impurity of leaves\")\n",
        "ax.set_title(\"Total Impurity vs effective alpha for training set\")\n",
        "clfs = []\n",
        "for ccp_alpha in ccp_alphas:\n",
        "    clf = tree.DecisionTreeClassifier(random_state=0, ccp_alpha=ccp_alpha)\n",
        "    clf.fit(X_train, y_train)\n",
        "    clfs.append(clf)\n",
        "print(\"Number of nodes in the last tree is: {} with ccp_alpha: {}\".format(\n",
        "      clfs[-1].tree_.node_count, ccp_alphas[-1]))\n",
        "\n",
        "\n",
        "train_scores = [clf.score(X_train, y_train) for clf in clfs]\n",
        "test_scores = [clf.score(X_test, y_test) for clf in clfs]\n",
        "\n",
        "fig, ax = plt.subplots()\n",
        "ax.set_xlabel(\"alpha\")\n",
        "ax.set_ylabel(\"accuracy\")\n",
        "ax.set_title(\"Accuracy vs alpha for training and testing sets\")\n",
        "ax.plot(ccp_alphas, train_scores, marker='o', label=\"train\",\n",
        "        drawstyle=\"steps-post\")\n",
        "ax.plot(ccp_alphas, test_scores, marker='o', label=\"test\",\n",
        "        drawstyle=\"steps-post\")\n",
        "ax.legend()\n",
        "plt.show()\n",
        "\n",
        "\n",
        "print('My highest validation accuracy: {:.4f}'.format(max(test_scores)))\n",
        "\n",
        "\n",
        "n_nodes = clf.tree_.node_count\n",
        "children_left = clf.tree_.children_left \n"
      ],
      "execution_count": 480,
      "outputs": [
        {
          "output_type": "stream",
          "text": [
            "Number of nodes in the last tree is: 1 with ccp_alpha: 0.029443998308354924\n"
          ],
          "name": "stdout"
        },
        {
          "output_type": "display_data",
          "data": {
            "image/png": "[encoded data removed]",
            "text/plain": [
              "<Figure size 432x288 with 1 Axes>"
            ]
          },
          "metadata": {
            "tags": [],
            "needs_background": "light"
          }
        },
        {
          "output_type": "display_data",
          "data": {
            "image/png": "[encoded data removed]",
            "text/plain": [
              "<Figure size 432x288 with 1 Axes>"
            ]
          },
          "metadata": {
            "tags": [],
            "needs_background": "light"
          }
        },
        {
          "output_type": "stream",
          "text": [
            "My highest validation accuracy: 0.7379\n"
          ],
          "name": "stdout"
        }
      ]
    },
    {
      "cell_type": "code",
      "metadata": {
        "id": "P-3gUJO9x6uP",
        "outputId": "c5740d11-b634-4c43-9d25-bf7624811551",
        "colab": {
          "base_uri": "https://localhost:8080/",
          "height": 779
        }
      },
      "source": [
        "#evaluate the result\n",
        "plot_roc_curve(y_test,y_pred1)\n",
        "print(\"Confusion matrix:\")\n",
        "plot_confusion_matrix(confusion_matrix(y_test,y_pred1))\n",
        "print(\"Classification report:\")\n",
        "print(classification_report(y_test,y_pred1))"
      ],
      "execution_count": 481,
      "outputs": [
        {
          "output_type": "stream",
          "text": [
            "No Skill: ROC AUC=0.500\n",
            "Logistic: ROC AUC=0.714\n"
          ],
          "name": "stdout"
        },
        {
          "output_type": "display_data",
          "data": {
            "image/png": "[encoded data removed]",
            "text/plain": [
              "<Figure size 432x288 with 1 Axes>"
            ]
          },
          "metadata": {
            "tags": [],
            "needs_background": "light"
          }
        },
        {
          "output_type": "stream",
          "text": [
            "Confusion matrix:\n"
          ],
          "name": "stdout"
        },
        {
          "output_type": "display_data",
          "data": {
            "image/png": "[encoded data removed]",
            "text/plain": [
              "<Figure size 432x288 with 2 Axes>"
            ]
          },
          "metadata": {
            "tags": [],
            "needs_background": "light"
          }
        },
        {
          "output_type": "stream",
          "text": [
            "Classification report:\n",
            "              precision    recall  f1-score   support\n",
            "\n",
            "           0       0.71      0.71      0.71       246\n",
            "           1       0.72      0.72      0.72       250\n",
            "\n",
            "    accuracy                           0.71       496\n",
            "   macro avg       0.71      0.71      0.71       496\n",
            "weighted avg       0.71      0.71      0.71       496\n",
            "\n"
          ],
          "name": "stdout"
        }
      ]
    },
    {
      "cell_type": "code",
      "metadata": {
        "id": "n-J48iKqZBwA",
        "outputId": "b96750a2-275c-4eb7-94a6-94bd6e5cc7c1",
        "colab": {
          "base_uri": "https://localhost:8080/",
          "height": 1000
        }
      },
      "source": [
        "#Model 5: neural network\n",
        "#https://www.tensorflow.org/guide/keras/train_and_evaluate\n",
        "from keras.datasets import imdb\n",
        "import numpy as np\n",
        "from keras import models\n",
        "from keras import layers\n",
        "import matplotlib.pyplot as plt\n",
        "\n",
        "\n",
        "model = Sequential()\n",
        "#input_dim=column-1\n",
        "model.add(Dense(10, input_dim=61, activation='relu'))\n",
        "model.add(Dense(20, activation='relu'))\n",
        "model.add(Dense(1, activation='sigmoid'))\n",
        "# Compile mode\n",
        "# https://www.tensorflow.org/guide/keras/train_and_evaluate\n",
        "\n",
        "model.compile(loss='binary_crossentropy', optimizer='Adamax', metrics=['accuracy'])\n",
        "#model.compile(optimizer='rmsprop', loss='binary_crossentropy', metrics=['accuracy'])\n",
        "# Fit the model\n",
        "model.fit(X_train, y_train, epochs=100, batch_size=20)\n",
        "# evaluate the model\n",
        "scores = model.evaluate(X_train, y_train)\n",
        "#print(scores)\n",
        "print(\"Neural Network Trainset: \\n%s: %.2f%%\" % (model.metrics_names[1], scores[1]*100))\n",
        "\n",
        "# evaluate the model\n",
        "scores = model.evaluate(X_test, y_test)\n",
        "print(scores)\n",
        "print(\"Keras: \\n%s: %.2f%%\" % (model.metrics_names[1], scores[1]*100))\n",
        "\n",
        "predictions = model.predict(X_test)\n",
        "print(predictions)\n",
        "print('predictions shape:', predictions.shape)\n",
        "\n",
        "y_pred = (predictions > 0.5)\n",
        "y_pred=y_pred*1 #convert to 0,1 instead of True False\n",
        "matrix = confusion_matrix(y_test, y_pred)\n",
        "print(matrix)\n",
        "\n",
        "\n",
        "history = model.fit(X_train, y_train, epochs=100, batch_size=20, validation_data=(X_test,y_test))\n",
        "history_dict = history.history\n",
        "history_dict.keys()\n",
        "history_dict = history.history\n",
        "loss_values = history_dict['loss']\n",
        "val_loss_values = history_dict['val_loss']\n",
        "epochs = range(1, len(loss_values) + 1)\n",
        "plt.plot(epochs, loss_values, 'bo', label='Training loss')\n",
        "plt.plot(epochs, val_loss_values, 'b', label='Validation loss')\n",
        "plt.title('Training and validation loss')\n",
        "plt.xlabel('Epochs')\n",
        "plt.ylabel('Loss')\n",
        "plt.legend()\n",
        "plt.show()\n",
        "\n",
        "print(\"Confusion matrix:\")\n",
        "plot_confusion_matrix(confusion_matrix(y_test,y_pred))\n",
        "print(\"Classification report:\")\n",
        "print(classification_report(y_test,y_pred))\n",
        "\n",
        "\n",
        "#evaluate the result\n",
        "plot_roc_curve(y_test,y_pred)"
      ],
      "execution_count": 537,
      "outputs": [
        {
          "output_type": "stream",
          "text": [
            "Epoch 1/100\n",
            "100/100 [==============================] - 0s 922us/step - loss: 0.6868 - accuracy: 0.5535\n",
            "Epoch 2/100\n",
            "100/100 [==============================] - 0s 942us/step - loss: 0.6791 - accuracy: 0.6019\n",
            "Epoch 3/100\n",
            "100/100 [==============================] - 0s 1ms/step - loss: 0.6728 - accuracy: 0.6085\n",
            "Epoch 4/100\n",
            "100/100 [==============================] - 0s 966us/step - loss: 0.6667 - accuracy: 0.6181\n",
            "Epoch 5/100\n",
            "100/100 [==============================] - 0s 894us/step - loss: 0.6605 - accuracy: 0.6261\n",
            "Epoch 6/100\n",
            "100/100 [==============================] - 0s 895us/step - loss: 0.6546 - accuracy: 0.6332\n",
            "Epoch 7/100\n",
            "100/100 [==============================] - 0s 920us/step - loss: 0.6488 - accuracy: 0.6347\n",
            "Epoch 8/100\n",
            "100/100 [==============================] - 0s 946us/step - loss: 0.6431 - accuracy: 0.6387\n",
            "Epoch 9/100\n",
            "100/100 [==============================] - 0s 893us/step - loss: 0.6380 - accuracy: 0.6448\n",
            "Epoch 10/100\n",
            "100/100 [==============================] - 0s 1ms/step - loss: 0.6334 - accuracy: 0.6504\n",
            "Epoch 11/100\n",
            "100/100 [==============================] - 0s 959us/step - loss: 0.6292 - accuracy: 0.6529\n",
            "Epoch 12/100\n",
            "100/100 [==============================] - 0s 938us/step - loss: 0.6256 - accuracy: 0.6539\n",
            "Epoch 13/100\n",
            "100/100 [==============================] - 0s 1ms/step - loss: 0.6222 - accuracy: 0.6564\n",
            "Epoch 14/100\n",
            "100/100 [==============================] - 0s 924us/step - loss: 0.6191 - accuracy: 0.6630\n",
            "Epoch 15/100\n",
            "100/100 [==============================] - 0s 923us/step - loss: 0.6166 - accuracy: 0.6640\n",
            "Epoch 16/100\n",
            "100/100 [==============================] - 0s 941us/step - loss: 0.6143 - accuracy: 0.6670\n",
            "Epoch 17/100\n",
            "100/100 [==============================] - 0s 885us/step - loss: 0.6120 - accuracy: 0.6695\n",
            "Epoch 18/100\n",
            "100/100 [==============================] - 0s 1ms/step - loss: 0.6100 - accuracy: 0.6700\n",
            "Epoch 19/100\n",
            "100/100 [==============================] - 0s 1ms/step - loss: 0.6081 - accuracy: 0.6705\n",
            "Epoch 20/100\n",
            "100/100 [==============================] - 0s 933us/step - loss: 0.6064 - accuracy: 0.6695\n",
            "Epoch 21/100\n",
            "100/100 [==============================] - 0s 949us/step - loss: 0.6049 - accuracy: 0.6726\n",
            "Epoch 22/100\n",
            "100/100 [==============================] - 0s 1ms/step - loss: 0.6036 - accuracy: 0.6731\n",
            "Epoch 23/100\n",
            "100/100 [==============================] - 0s 929us/step - loss: 0.6023 - accuracy: 0.6731\n",
            "Epoch 24/100\n",
            "100/100 [==============================] - 0s 968us/step - loss: 0.6014 - accuracy: 0.6761\n",
            "Epoch 25/100\n",
            "100/100 [==============================] - 0s 920us/step - loss: 0.6001 - accuracy: 0.6781\n",
            "Epoch 26/100\n",
            "100/100 [==============================] - 0s 924us/step - loss: 0.5991 - accuracy: 0.6791\n",
            "Epoch 27/100\n",
            "100/100 [==============================] - 0s 1ms/step - loss: 0.5980 - accuracy: 0.6791\n",
            "Epoch 28/100\n",
            "100/100 [==============================] - 0s 928us/step - loss: 0.5969 - accuracy: 0.6821\n",
            "Epoch 29/100\n",
            "100/100 [==============================] - 0s 924us/step - loss: 0.5957 - accuracy: 0.6811\n",
            "Epoch 30/100\n",
            "100/100 [==============================] - 0s 963us/step - loss: 0.5949 - accuracy: 0.6821\n",
            "Epoch 31/100\n",
            "100/100 [==============================] - 0s 918us/step - loss: 0.5939 - accuracy: 0.6837\n",
            "Epoch 32/100\n",
            "100/100 [==============================] - 0s 1ms/step - loss: 0.5928 - accuracy: 0.6837\n",
            "Epoch 33/100\n",
            "100/100 [==============================] - 0s 986us/step - loss: 0.5919 - accuracy: 0.6847\n",
            "Epoch 34/100\n",
            "100/100 [==============================] - 0s 902us/step - loss: 0.5914 - accuracy: 0.6806\n",
            "Epoch 35/100\n",
            "100/100 [==============================] - 0s 991us/step - loss: 0.5901 - accuracy: 0.6882\n",
            "Epoch 36/100\n",
            "100/100 [==============================] - 0s 969us/step - loss: 0.5892 - accuracy: 0.6872\n",
            "Epoch 37/100\n",
            "100/100 [==============================] - 0s 933us/step - loss: 0.5883 - accuracy: 0.6852\n",
            "Epoch 38/100\n",
            "100/100 [==============================] - 0s 903us/step - loss: 0.5876 - accuracy: 0.6877\n",
            "Epoch 39/100\n",
            "100/100 [==============================] - 0s 980us/step - loss: 0.5866 - accuracy: 0.6897\n",
            "Epoch 40/100\n",
            "100/100 [==============================] - 0s 971us/step - loss: 0.5856 - accuracy: 0.6902\n",
            "Epoch 41/100\n",
            "100/100 [==============================] - 0s 977us/step - loss: 0.5850 - accuracy: 0.6937\n",
            "Epoch 42/100\n",
            "100/100 [==============================] - 0s 1ms/step - loss: 0.5842 - accuracy: 0.6922\n",
            "Epoch 43/100\n",
            "100/100 [==============================] - 0s 870us/step - loss: 0.5836 - accuracy: 0.6917\n",
            "Epoch 44/100\n",
            "100/100 [==============================] - 0s 973us/step - loss: 0.5831 - accuracy: 0.6922\n",
            "Epoch 45/100\n",
            "100/100 [==============================] - 0s 1ms/step - loss: 0.5823 - accuracy: 0.6948\n",
            "Epoch 46/100\n",
            "100/100 [==============================] - 0s 946us/step - loss: 0.5818 - accuracy: 0.6917\n",
            "Epoch 47/100\n",
            "100/100 [==============================] - 0s 908us/step - loss: 0.5813 - accuracy: 0.6937\n",
            "Epoch 48/100\n",
            "100/100 [==============================] - 0s 1000us/step - loss: 0.5805 - accuracy: 0.6942\n",
            "Epoch 49/100\n",
            "100/100 [==============================] - 0s 904us/step - loss: 0.5800 - accuracy: 0.6953\n",
            "Epoch 50/100\n",
            "100/100 [==============================] - 0s 903us/step - loss: 0.5793 - accuracy: 0.6983\n",
            "Epoch 51/100\n",
            "100/100 [==============================] - 0s 1ms/step - loss: 0.5786 - accuracy: 0.6973\n",
            "Epoch 52/100\n",
            "100/100 [==============================] - 0s 1ms/step - loss: 0.5781 - accuracy: 0.6937\n",
            "Epoch 53/100\n",
            "100/100 [==============================] - 0s 960us/step - loss: 0.5774 - accuracy: 0.6968\n",
            "Epoch 54/100\n",
            "100/100 [==============================] - 0s 964us/step - loss: 0.5763 - accuracy: 0.6978\n",
            "Epoch 55/100\n",
            "100/100 [==============================] - 0s 941us/step - loss: 0.5759 - accuracy: 0.7008\n",
            "Epoch 56/100\n",
            "100/100 [==============================] - 0s 902us/step - loss: 0.5751 - accuracy: 0.7013\n",
            "Epoch 57/100\n",
            "100/100 [==============================] - 0s 1ms/step - loss: 0.5746 - accuracy: 0.7003\n",
            "Epoch 58/100\n",
            "100/100 [==============================] - 0s 987us/step - loss: 0.5740 - accuracy: 0.7013\n",
            "Epoch 59/100\n",
            "100/100 [==============================] - 0s 929us/step - loss: 0.5732 - accuracy: 0.7028\n",
            "Epoch 60/100\n",
            "100/100 [==============================] - 0s 1ms/step - loss: 0.5729 - accuracy: 0.7013\n",
            "Epoch 61/100\n",
            "100/100 [==============================] - 0s 961us/step - loss: 0.5722 - accuracy: 0.7018\n",
            "Epoch 62/100\n",
            "100/100 [==============================] - 0s 1ms/step - loss: 0.5718 - accuracy: 0.7048\n",
            "Epoch 63/100\n",
            "100/100 [==============================] - 0s 1ms/step - loss: 0.5711 - accuracy: 0.7023\n",
            "Epoch 64/100\n",
            "100/100 [==============================] - 0s 964us/step - loss: 0.5704 - accuracy: 0.7074\n",
            "Epoch 65/100\n",
            "100/100 [==============================] - 0s 918us/step - loss: 0.5697 - accuracy: 0.7053\n",
            "Epoch 66/100\n",
            "100/100 [==============================] - 0s 907us/step - loss: 0.5690 - accuracy: 0.7059\n",
            "Epoch 67/100\n",
            "100/100 [==============================] - 0s 958us/step - loss: 0.5687 - accuracy: 0.7048\n",
            "Epoch 68/100\n",
            "100/100 [==============================] - 0s 966us/step - loss: 0.5679 - accuracy: 0.7074\n",
            "Epoch 69/100\n",
            "100/100 [==============================] - 0s 920us/step - loss: 0.5672 - accuracy: 0.7053\n",
            "Epoch 70/100\n",
            "100/100 [==============================] - 0s 917us/step - loss: 0.5667 - accuracy: 0.7038\n",
            "Epoch 71/100\n",
            "100/100 [==============================] - 0s 1ms/step - loss: 0.5659 - accuracy: 0.7033\n",
            "Epoch 72/100\n",
            "100/100 [==============================] - 0s 1ms/step - loss: 0.5653 - accuracy: 0.7053\n",
            "Epoch 73/100\n",
            "100/100 [==============================] - 0s 972us/step - loss: 0.5649 - accuracy: 0.7043\n",
            "Epoch 74/100\n",
            "100/100 [==============================] - 0s 951us/step - loss: 0.5643 - accuracy: 0.7079\n",
            "Epoch 75/100\n",
            "100/100 [==============================] - 0s 994us/step - loss: 0.5639 - accuracy: 0.7089\n",
            "Epoch 76/100\n",
            "100/100 [==============================] - 0s 934us/step - loss: 0.5629 - accuracy: 0.7069\n",
            "Epoch 77/100\n",
            "100/100 [==============================] - 0s 1ms/step - loss: 0.5627 - accuracy: 0.7094\n",
            "Epoch 78/100\n",
            "100/100 [==============================] - 0s 922us/step - loss: 0.5619 - accuracy: 0.7099\n",
            "Epoch 79/100\n",
            "100/100 [==============================] - 0s 944us/step - loss: 0.5613 - accuracy: 0.7084\n",
            "Epoch 80/100\n",
            "100/100 [==============================] - 0s 1ms/step - loss: 0.5607 - accuracy: 0.7084\n",
            "Epoch 81/100\n",
            "100/100 [==============================] - 0s 1ms/step - loss: 0.5601 - accuracy: 0.7094\n",
            "Epoch 82/100\n",
            "100/100 [==============================] - 0s 996us/step - loss: 0.5596 - accuracy: 0.7089\n",
            "Epoch 83/100\n",
            "100/100 [==============================] - 0s 948us/step - loss: 0.5591 - accuracy: 0.7074\n",
            "Epoch 84/100\n",
            "100/100 [==============================] - 0s 961us/step - loss: 0.5586 - accuracy: 0.7069\n",
            "Epoch 85/100\n",
            "100/100 [==============================] - 0s 1ms/step - loss: 0.5582 - accuracy: 0.7079\n",
            "Epoch 86/100\n",
            "100/100 [==============================] - 0s 951us/step - loss: 0.5575 - accuracy: 0.7124\n",
            "Epoch 87/100\n",
            "100/100 [==============================] - 0s 1ms/step - loss: 0.5570 - accuracy: 0.7109\n",
            "Epoch 88/100\n",
            "100/100 [==============================] - 0s 1ms/step - loss: 0.5568 - accuracy: 0.7124\n",
            "Epoch 89/100\n",
            "100/100 [==============================] - 0s 909us/step - loss: 0.5561 - accuracy: 0.7099\n",
            "Epoch 90/100\n",
            "100/100 [==============================] - 0s 992us/step - loss: 0.5555 - accuracy: 0.7134\n",
            "Epoch 91/100\n",
            "100/100 [==============================] - 0s 936us/step - loss: 0.5551 - accuracy: 0.7134\n",
            "Epoch 92/100\n",
            "100/100 [==============================] - 0s 940us/step - loss: 0.5544 - accuracy: 0.7114\n",
            "Epoch 93/100\n",
            "100/100 [==============================] - 0s 995us/step - loss: 0.5538 - accuracy: 0.7134\n",
            "Epoch 94/100\n",
            "100/100 [==============================] - 0s 1ms/step - loss: 0.5533 - accuracy: 0.7170\n",
            "Epoch 95/100\n",
            "100/100 [==============================] - 0s 1ms/step - loss: 0.5530 - accuracy: 0.7134\n",
            "Epoch 96/100\n",
            "100/100 [==============================] - 0s 999us/step - loss: 0.5523 - accuracy: 0.7119\n",
            "Epoch 97/100\n",
            "100/100 [==============================] - 0s 914us/step - loss: 0.5519 - accuracy: 0.7164\n",
            "Epoch 98/100\n",
            "100/100 [==============================] - 0s 985us/step - loss: 0.5514 - accuracy: 0.7149\n",
            "Epoch 99/100\n",
            "100/100 [==============================] - 0s 933us/step - loss: 0.5506 - accuracy: 0.7134\n",
            "Epoch 100/100\n",
            "100/100 [==============================] - 0s 949us/step - loss: 0.5502 - accuracy: 0.7164\n",
            "62/62 [==============================] - 0s 756us/step - loss: 0.5490 - accuracy: 0.7159\n",
            "Neural Network Trainset: \n",
            "accuracy: 71.59%\n",
            "16/16 [==============================] - 0s 972us/step - loss: 0.5693 - accuracy: 0.7137\n",
            "[0.569316029548645, 0.7137096524238586]\n",
            "Keras: \n",
            "accuracy: 71.37%\n",
            "[[0.34849444]\n",
            " [0.07270432]\n",
            " [0.6670228 ]\n",
            " [0.15952796]\n",
            " [0.47844085]\n",
            " [0.46896657]\n",
            " [0.21992141]\n",
            " [0.33305952]\n",
            " [0.33306113]\n",
            " [0.48691848]\n",
            " [0.36591253]\n",
            " [0.68643814]\n",
            " [0.4292071 ]\n",
            " [0.83146197]\n",
            " [0.82967055]\n",
            " [0.5736897 ]\n",
            " [0.47582924]\n",
            " [0.5355957 ]\n",
            " [0.74305284]\n",
            " [0.64101875]\n",
            " [0.24073595]\n",
            " [0.45680183]\n",
            " [0.62069154]\n",
            " [0.60320276]\n",
            " [0.4127934 ]\n",
            " [0.31470782]\n",
            " [0.50375164]\n",
            " [0.11395425]\n",
            " [0.14224428]\n",
            " [0.8139617 ]\n",
            " [0.12521207]\n",
            " [0.3330595 ]\n",
            " [0.67677367]\n",
            " [0.87242293]\n",
            " [0.3331735 ]\n",
            " [0.5941162 ]\n",
            " [0.7168325 ]\n",
            " [0.57282794]\n",
            " [0.45362315]\n",
            " [0.8042917 ]\n",
            " [0.269042  ]\n",
            " [0.64291996]\n",
            " [0.33207226]\n",
            " [0.6832588 ]\n",
            " [0.2983551 ]\n",
            " [0.5538963 ]\n",
            " [0.7249815 ]\n",
            " [0.41985428]\n",
            " [0.896316  ]\n",
            " [0.18404108]\n",
            " [0.62742525]\n",
            " [0.6905045 ]\n",
            " [0.48386708]\n",
            " [0.3793538 ]\n",
            " [0.4004004 ]\n",
            " [0.33425206]\n",
            " [0.5864038 ]\n",
            " [0.02892202]\n",
            " [0.61620873]\n",
            " [0.5784677 ]\n",
            " [0.47582924]\n",
            " [0.8363925 ]\n",
            " [0.45033002]\n",
            " [0.8781998 ]\n",
            " [0.4287152 ]\n",
            " [0.14641488]\n",
            " [0.71253157]\n",
            " [0.64456964]\n",
            " [0.06108931]\n",
            " [0.8048235 ]\n",
            " [0.17776087]\n",
            " [0.15152627]\n",
            " [0.70632267]\n",
            " [0.4654371 ]\n",
            " [0.87871313]\n",
            " [0.6898416 ]\n",
            " [0.22252384]\n",
            " [0.45152992]\n",
            " [0.13197395]\n",
            " [0.71598434]\n",
            " [0.75654143]\n",
            " [0.6977587 ]\n",
            " [0.51908314]\n",
            " [0.11576065]\n",
            " [0.5077573 ]\n",
            " [0.2167469 ]\n",
            " [0.3511734 ]\n",
            " [0.50167894]\n",
            " [0.7391325 ]\n",
            " [0.03728318]\n",
            " [0.52330923]\n",
            " [0.81142426]\n",
            " [0.08818373]\n",
            " [0.23847032]\n",
            " [0.0471811 ]\n",
            " [0.8022468 ]\n",
            " [0.41846362]\n",
            " [0.5456428 ]\n",
            " [0.15032336]\n",
            " [0.61620873]\n",
            " [0.73926026]\n",
            " [0.7031824 ]\n",
            " [0.48239386]\n",
            " [0.690975  ]\n",
            " [0.48743668]\n",
            " [0.21351916]\n",
            " [0.5081788 ]\n",
            " [0.5234921 ]\n",
            " [0.34137458]\n",
            " [0.86515105]\n",
            " [0.30896378]\n",
            " [0.5713362 ]\n",
            " [0.74545383]\n",
            " [0.41889888]\n",
            " [0.6386224 ]\n",
            " [0.435692  ]\n",
            " [0.7752675 ]\n",
            " [0.0956783 ]\n",
            " [0.4478954 ]\n",
            " [0.08825958]\n",
            " [0.64739466]\n",
            " [0.22935933]\n",
            " [0.14320612]\n",
            " [0.13043705]\n",
            " [0.09976736]\n",
            " [0.3791048 ]\n",
            " [0.9272571 ]\n",
            " [0.7764488 ]\n",
            " [0.49044308]\n",
            " [0.47673264]\n",
            " [0.21316332]\n",
            " [0.6761031 ]\n",
            " [0.30389348]\n",
            " [0.14831328]\n",
            " [0.43917298]\n",
            " [0.91375625]\n",
            " [0.7013199 ]\n",
            " [0.8474395 ]\n",
            " [0.04662776]\n",
            " [0.4260121 ]\n",
            " [0.3447665 ]\n",
            " [0.6761806 ]\n",
            " [0.06019321]\n",
            " [0.6264471 ]\n",
            " [0.40225554]\n",
            " [0.21454209]\n",
            " [0.48210302]\n",
            " [0.78794163]\n",
            " [0.7717721 ]\n",
            " [0.8383836 ]\n",
            " [0.5164115 ]\n",
            " [0.71155965]\n",
            " [0.84846795]\n",
            " [0.64866537]\n",
            " [0.2976455 ]\n",
            " [0.67423046]\n",
            " [0.55314094]\n",
            " [0.43991947]\n",
            " [0.6448908 ]\n",
            " [0.3248098 ]\n",
            " [0.2025452 ]\n",
            " [0.38380253]\n",
            " [0.6631492 ]\n",
            " [0.7165329 ]\n",
            " [0.32525253]\n",
            " [0.75597084]\n",
            " [0.51983   ]\n",
            " [0.74193615]\n",
            " [0.69629437]\n",
            " [0.7875688 ]\n",
            " [0.5083668 ]\n",
            " [0.46954176]\n",
            " [0.62865794]\n",
            " [0.15339148]\n",
            " [0.686462  ]\n",
            " [0.34006214]\n",
            " [0.14690438]\n",
            " [0.44590175]\n",
            " [0.3110429 ]\n",
            " [0.34328791]\n",
            " [0.711402  ]\n",
            " [0.38197535]\n",
            " [0.9169251 ]\n",
            " [0.13951138]\n",
            " [0.28223115]\n",
            " [0.08078474]\n",
            " [0.7192488 ]\n",
            " [0.81264186]\n",
            " [0.36029047]\n",
            " [0.29084218]\n",
            " [0.7303535 ]\n",
            " [0.48689634]\n",
            " [0.81965697]\n",
            " [0.07226759]\n",
            " [0.7012843 ]\n",
            " [0.04984421]\n",
            " [0.34529972]\n",
            " [0.26930255]\n",
            " [0.7726897 ]\n",
            " [0.6187599 ]\n",
            " [0.11881199]\n",
            " [0.30874467]\n",
            " [0.9551716 ]\n",
            " [0.9168184 ]\n",
            " [0.7539997 ]\n",
            " [0.78121674]\n",
            " [0.70344055]\n",
            " [0.39454734]\n",
            " [0.28437638]\n",
            " [0.87137735]\n",
            " [0.68710315]\n",
            " [0.7018938 ]\n",
            " [0.3504572 ]\n",
            " [0.65726113]\n",
            " [0.01619372]\n",
            " [0.6675121 ]\n",
            " [0.3596434 ]\n",
            " [0.20459506]\n",
            " [0.3609199 ]\n",
            " [0.54059935]\n",
            " [0.59338975]\n",
            " [0.27575618]\n",
            " [0.26350552]\n",
            " [0.30451208]\n",
            " [0.48287013]\n",
            " [0.5095126 ]\n",
            " [0.711402  ]\n",
            " [0.32041162]\n",
            " [0.7249815 ]\n",
            " [0.7245201 ]\n",
            " [0.75524044]\n",
            " [0.7896668 ]\n",
            " [0.681311  ]\n",
            " [0.7518532 ]\n",
            " [0.690975  ]\n",
            " [0.7803265 ]\n",
            " [0.15265381]\n",
            " [0.23636135]\n",
            " [0.47095937]\n",
            " [0.11491942]\n",
            " [0.16434267]\n",
            " [0.28820544]\n",
            " [0.10704714]\n",
            " [0.2983551 ]\n",
            " [0.6325073 ]\n",
            " [0.86874753]\n",
            " [0.5703464 ]\n",
            " [0.34639865]\n",
            " [0.40757737]\n",
            " [0.18027031]\n",
            " [0.19555393]\n",
            " [0.3460478 ]\n",
            " [0.56070215]\n",
            " [0.39106515]\n",
            " [0.80278695]\n",
            " [0.72663826]\n",
            " [0.13842753]\n",
            " [0.07553858]\n",
            " [0.8630443 ]\n",
            " [0.73689556]\n",
            " [0.74305284]\n",
            " [0.66781044]\n",
            " [0.6105853 ]\n",
            " [0.19787705]\n",
            " [0.0745106 ]\n",
            " [0.5044516 ]\n",
            " [0.19059312]\n",
            " [0.50835717]\n",
            " [0.69815016]\n",
            " [0.7803265 ]\n",
            " [0.22088239]\n",
            " [0.92605853]\n",
            " [0.5682757 ]\n",
            " [0.68982077]\n",
            " [0.7193221 ]\n",
            " [0.24719724]\n",
            " [0.24761233]\n",
            " [0.82524645]\n",
            " [0.52380455]\n",
            " [0.4535317 ]\n",
            " [0.55874   ]\n",
            " [0.28964576]\n",
            " [0.7483526 ]\n",
            " [0.3545276 ]\n",
            " [0.41512403]\n",
            " [0.04792684]\n",
            " [0.819065  ]\n",
            " [0.765504  ]\n",
            " [0.08958709]\n",
            " [0.78075796]\n",
            " [0.21285087]\n",
            " [0.35632235]\n",
            " [0.7152387 ]\n",
            " [0.8038182 ]\n",
            " [0.26949877]\n",
            " [0.7118759 ]\n",
            " [0.6651484 ]\n",
            " [0.10741425]\n",
            " [0.05234787]\n",
            " [0.36847   ]\n",
            " [0.09452999]\n",
            " [0.55938095]\n",
            " [0.67452633]\n",
            " [0.33939058]\n",
            " [0.9096886 ]\n",
            " [0.57803565]\n",
            " [0.18940827]\n",
            " [0.33700037]\n",
            " [0.58731455]\n",
            " [0.52566665]\n",
            " [0.09452999]\n",
            " [0.68379617]\n",
            " [0.5389067 ]\n",
            " [0.711402  ]\n",
            " [0.55953914]\n",
            " [0.2651605 ]\n",
            " [0.30896378]\n",
            " [0.46053225]\n",
            " [0.810889  ]\n",
            " [0.6356057 ]\n",
            " [0.8677132 ]\n",
            " [0.52117157]\n",
            " [0.4516767 ]\n",
            " [0.2959276 ]\n",
            " [0.72556317]\n",
            " [0.7677624 ]\n",
            " [0.20570406]\n",
            " [0.27873558]\n",
            " [0.2230154 ]\n",
            " [0.6428201 ]\n",
            " [0.79686326]\n",
            " [0.6796961 ]\n",
            " [0.10730147]\n",
            " [0.44499663]\n",
            " [0.515487  ]\n",
            " [0.30696815]\n",
            " [0.5595573 ]\n",
            " [0.3655144 ]\n",
            " [0.85848004]\n",
            " [0.8729725 ]\n",
            " [0.40486017]\n",
            " [0.4318383 ]\n",
            " [0.85379344]\n",
            " [0.60587907]\n",
            " [0.41903618]\n",
            " [0.7824633 ]\n",
            " [0.35421208]\n",
            " [0.4885284 ]\n",
            " [0.63379806]\n",
            " [0.7605988 ]\n",
            " [0.7248173 ]\n",
            " [0.21360087]\n",
            " [0.24015456]\n",
            " [0.71155965]\n",
            " [0.92110455]\n",
            " [0.35342243]\n",
            " [0.42054564]\n",
            " [0.888409  ]\n",
            " [0.26406932]\n",
            " [0.6464369 ]\n",
            " [0.4577112 ]\n",
            " [0.26299566]\n",
            " [0.49890336]\n",
            " [0.7522634 ]\n",
            " [0.40791696]\n",
            " [0.26546273]\n",
            " [0.51172155]\n",
            " [0.4368754 ]\n",
            " [0.1119667 ]\n",
            " [0.60105485]\n",
            " [0.6324436 ]\n",
            " [0.8572936 ]\n",
            " [0.5162486 ]\n",
            " [0.12567267]\n",
            " [0.18940827]\n",
            " [0.80851924]\n",
            " [0.49725184]\n",
            " [0.5019892 ]\n",
            " [0.52082235]\n",
            " [0.505302  ]\n",
            " [0.27109462]\n",
            " [0.5271512 ]\n",
            " [0.25045568]\n",
            " [0.35767132]\n",
            " [0.82871217]\n",
            " [0.06898946]\n",
            " [0.8872288 ]\n",
            " [0.2017881 ]\n",
            " [0.3905586 ]\n",
            " [0.4429353 ]\n",
            " [0.5658331 ]\n",
            " [0.04957059]\n",
            " [0.07081294]\n",
            " [0.2983551 ]\n",
            " [0.23668158]\n",
            " [0.7868974 ]\n",
            " [0.76107454]\n",
            " [0.84102285]\n",
            " [0.76620734]\n",
            " [0.34849444]\n",
            " [0.07579404]\n",
            " [0.14017484]\n",
            " [0.49346927]\n",
            " [0.6989846 ]\n",
            " [0.6988949 ]\n",
            " [0.37437648]\n",
            " [0.7992439 ]\n",
            " [0.8456675 ]\n",
            " [0.300869  ]\n",
            " [0.5840879 ]\n",
            " [0.51240724]\n",
            " [0.8248065 ]\n",
            " [0.84178716]\n",
            " [0.6775901 ]\n",
            " [0.49706057]\n",
            " [0.8368324 ]\n",
            " [0.7893873 ]\n",
            " [0.540302  ]\n",
            " [0.8576169 ]\n",
            " [0.5522853 ]\n",
            " [0.69960296]\n",
            " [0.5791265 ]\n",
            " [0.40921098]\n",
            " [0.69168556]\n",
            " [0.6833193 ]\n",
            " [0.34488636]\n",
            " [0.9048686 ]\n",
            " [0.15736258]\n",
            " [0.8459692 ]\n",
            " [0.04300827]\n",
            " [0.6027116 ]\n",
            " [0.34971207]\n",
            " [0.47128698]\n",
            " [0.7021257 ]\n",
            " [0.47277978]\n",
            " [0.0802938 ]\n",
            " [0.7016107 ]\n",
            " [0.3522772 ]\n",
            " [0.320548  ]\n",
            " [0.38407752]\n",
            " [0.43020734]\n",
            " [0.15360454]\n",
            " [0.5559023 ]\n",
            " [0.7614982 ]\n",
            " [0.584966  ]\n",
            " [0.86196375]\n",
            " [0.78773165]\n",
            " [0.8066101 ]\n",
            " [0.42647797]\n",
            " [0.3283751 ]\n",
            " [0.2821128 ]\n",
            " [0.3069169 ]\n",
            " [0.36483198]\n",
            " [0.65175533]\n",
            " [0.71858895]\n",
            " [0.8008151 ]\n",
            " [0.5296846 ]\n",
            " [0.12171859]\n",
            " [0.2723626 ]\n",
            " [0.9072323 ]\n",
            " [0.7075455 ]\n",
            " [0.05729407]\n",
            " [0.21038955]\n",
            " [0.5104373 ]\n",
            " [0.36654618]\n",
            " [0.87871313]\n",
            " [0.6696952 ]\n",
            " [0.65632683]\n",
            " [0.1008963 ]\n",
            " [0.8856785 ]\n",
            " [0.7081913 ]\n",
            " [0.878842  ]\n",
            " [0.71824247]\n",
            " [0.7791949 ]\n",
            " [0.4198483 ]\n",
            " [0.782037  ]\n",
            " [0.3389566 ]\n",
            " [0.29817146]\n",
            " [0.7795836 ]\n",
            " [0.5887643 ]\n",
            " [0.7553811 ]\n",
            " [0.5588198 ]\n",
            " [0.805735  ]\n",
            " [0.25677568]\n",
            " [0.5396354 ]\n",
            " [0.88895524]\n",
            " [0.44863287]\n",
            " [0.0329712 ]\n",
            " [0.17687264]\n",
            " [0.3286511 ]\n",
            " [0.6763619 ]\n",
            " [0.37061173]\n",
            " [0.86734325]\n",
            " [0.71381044]\n",
            " [0.5735479 ]\n",
            " [0.76587   ]]\n",
            "predictions shape: (496, 1)\n",
            "[[172  74]\n",
            " [ 68 182]]\n",
            "Epoch 1/100\n",
            "100/100 [==============================] - 0s 2ms/step - loss: 0.5497 - accuracy: 0.7164 - val_loss: 0.5698 - val_accuracy: 0.7077\n",
            "Epoch 2/100\n",
            "100/100 [==============================] - 0s 1ms/step - loss: 0.5494 - accuracy: 0.7154 - val_loss: 0.5698 - val_accuracy: 0.7056\n",
            "Epoch 3/100\n",
            "100/100 [==============================] - 0s 1ms/step - loss: 0.5491 - accuracy: 0.7170 - val_loss: 0.5700 - val_accuracy: 0.7137\n",
            "Epoch 4/100\n",
            "100/100 [==============================] - 0s 1ms/step - loss: 0.5487 - accuracy: 0.7144 - val_loss: 0.5702 - val_accuracy: 0.7137\n",
            "Epoch 5/100\n",
            "100/100 [==============================] - 0s 1ms/step - loss: 0.5484 - accuracy: 0.7144 - val_loss: 0.5702 - val_accuracy: 0.7097\n",
            "Epoch 6/100\n",
            "100/100 [==============================] - 0s 1ms/step - loss: 0.5479 - accuracy: 0.7154 - val_loss: 0.5708 - val_accuracy: 0.7077\n",
            "Epoch 7/100\n",
            "100/100 [==============================] - 0s 1ms/step - loss: 0.5475 - accuracy: 0.7200 - val_loss: 0.5707 - val_accuracy: 0.7097\n",
            "Epoch 8/100\n",
            "100/100 [==============================] - 0s 1ms/step - loss: 0.5470 - accuracy: 0.7190 - val_loss: 0.5710 - val_accuracy: 0.7016\n",
            "Epoch 9/100\n",
            "100/100 [==============================] - 0s 1ms/step - loss: 0.5468 - accuracy: 0.7180 - val_loss: 0.5714 - val_accuracy: 0.6996\n",
            "Epoch 10/100\n",
            "100/100 [==============================] - 0s 1ms/step - loss: 0.5464 - accuracy: 0.7175 - val_loss: 0.5715 - val_accuracy: 0.7036\n",
            "Epoch 11/100\n",
            "100/100 [==============================] - 0s 1ms/step - loss: 0.5460 - accuracy: 0.7159 - val_loss: 0.5720 - val_accuracy: 0.7036\n",
            "Epoch 12/100\n",
            "100/100 [==============================] - 0s 1ms/step - loss: 0.5457 - accuracy: 0.7205 - val_loss: 0.5716 - val_accuracy: 0.7016\n",
            "Epoch 13/100\n",
            "100/100 [==============================] - 0s 1ms/step - loss: 0.5454 - accuracy: 0.7159 - val_loss: 0.5724 - val_accuracy: 0.6976\n",
            "Epoch 14/100\n",
            "100/100 [==============================] - 0s 1ms/step - loss: 0.5448 - accuracy: 0.7205 - val_loss: 0.5724 - val_accuracy: 0.7016\n",
            "Epoch 15/100\n",
            "100/100 [==============================] - 0s 1ms/step - loss: 0.5442 - accuracy: 0.7225 - val_loss: 0.5733 - val_accuracy: 0.6996\n",
            "Epoch 16/100\n",
            "100/100 [==============================] - 0s 2ms/step - loss: 0.5439 - accuracy: 0.7195 - val_loss: 0.5736 - val_accuracy: 0.6935\n",
            "Epoch 17/100\n",
            "100/100 [==============================] - 0s 1ms/step - loss: 0.5433 - accuracy: 0.7205 - val_loss: 0.5738 - val_accuracy: 0.6996\n",
            "Epoch 18/100\n",
            "100/100 [==============================] - 0s 1ms/step - loss: 0.5429 - accuracy: 0.7205 - val_loss: 0.5743 - val_accuracy: 0.6915\n",
            "Epoch 19/100\n",
            "100/100 [==============================] - 0s 1ms/step - loss: 0.5422 - accuracy: 0.7215 - val_loss: 0.5743 - val_accuracy: 0.6956\n",
            "Epoch 20/100\n",
            "100/100 [==============================] - 0s 2ms/step - loss: 0.5417 - accuracy: 0.7215 - val_loss: 0.5745 - val_accuracy: 0.6935\n",
            "Epoch 21/100\n",
            "100/100 [==============================] - 0s 1ms/step - loss: 0.5412 - accuracy: 0.7205 - val_loss: 0.5748 - val_accuracy: 0.6956\n",
            "Epoch 22/100\n",
            "100/100 [==============================] - 0s 2ms/step - loss: 0.5409 - accuracy: 0.7220 - val_loss: 0.5749 - val_accuracy: 0.6976\n",
            "Epoch 23/100\n",
            "100/100 [==============================] - 0s 1ms/step - loss: 0.5403 - accuracy: 0.7240 - val_loss: 0.5751 - val_accuracy: 0.6976\n",
            "Epoch 24/100\n",
            "100/100 [==============================] - 0s 1ms/step - loss: 0.5403 - accuracy: 0.7250 - val_loss: 0.5756 - val_accuracy: 0.6915\n",
            "Epoch 25/100\n",
            "100/100 [==============================] - 0s 1ms/step - loss: 0.5396 - accuracy: 0.7215 - val_loss: 0.5747 - val_accuracy: 0.6956\n",
            "Epoch 26/100\n",
            "100/100 [==============================] - 0s 1ms/step - loss: 0.5391 - accuracy: 0.7245 - val_loss: 0.5749 - val_accuracy: 0.6956\n",
            "Epoch 27/100\n",
            "100/100 [==============================] - 0s 1ms/step - loss: 0.5387 - accuracy: 0.7255 - val_loss: 0.5752 - val_accuracy: 0.6976\n",
            "Epoch 28/100\n",
            "100/100 [==============================] - 0s 1ms/step - loss: 0.5382 - accuracy: 0.7215 - val_loss: 0.5754 - val_accuracy: 0.7016\n",
            "Epoch 29/100\n",
            "100/100 [==============================] - 0s 1ms/step - loss: 0.5378 - accuracy: 0.7245 - val_loss: 0.5757 - val_accuracy: 0.6956\n",
            "Epoch 30/100\n",
            "100/100 [==============================] - 0s 1ms/step - loss: 0.5378 - accuracy: 0.7260 - val_loss: 0.5759 - val_accuracy: 0.6935\n",
            "Epoch 31/100\n",
            "100/100 [==============================] - 0s 1ms/step - loss: 0.5373 - accuracy: 0.7275 - val_loss: 0.5763 - val_accuracy: 0.6976\n",
            "Epoch 32/100\n",
            "100/100 [==============================] - 0s 1ms/step - loss: 0.5367 - accuracy: 0.7260 - val_loss: 0.5765 - val_accuracy: 0.6976\n",
            "Epoch 33/100\n",
            "100/100 [==============================] - 0s 1ms/step - loss: 0.5364 - accuracy: 0.7270 - val_loss: 0.5766 - val_accuracy: 0.6935\n",
            "Epoch 34/100\n",
            "100/100 [==============================] - 0s 1ms/step - loss: 0.5367 - accuracy: 0.7260 - val_loss: 0.5765 - val_accuracy: 0.6996\n",
            "Epoch 35/100\n",
            "100/100 [==============================] - 0s 1ms/step - loss: 0.5359 - accuracy: 0.7275 - val_loss: 0.5769 - val_accuracy: 0.7016\n",
            "Epoch 36/100\n",
            "100/100 [==============================] - 0s 1ms/step - loss: 0.5354 - accuracy: 0.7275 - val_loss: 0.5771 - val_accuracy: 0.6996\n",
            "Epoch 37/100\n",
            "100/100 [==============================] - 0s 2ms/step - loss: 0.5350 - accuracy: 0.7275 - val_loss: 0.5771 - val_accuracy: 0.7016\n",
            "Epoch 38/100\n",
            "100/100 [==============================] - 0s 1ms/step - loss: 0.5351 - accuracy: 0.7275 - val_loss: 0.5780 - val_accuracy: 0.6915\n",
            "Epoch 39/100\n",
            "100/100 [==============================] - 0s 2ms/step - loss: 0.5343 - accuracy: 0.7275 - val_loss: 0.5780 - val_accuracy: 0.6956\n",
            "Epoch 40/100\n",
            "100/100 [==============================] - 0s 1ms/step - loss: 0.5337 - accuracy: 0.7296 - val_loss: 0.5783 - val_accuracy: 0.6956\n",
            "Epoch 41/100\n",
            "100/100 [==============================] - 0s 1ms/step - loss: 0.5334 - accuracy: 0.7301 - val_loss: 0.5786 - val_accuracy: 0.6996\n",
            "Epoch 42/100\n",
            "100/100 [==============================] - 0s 1ms/step - loss: 0.5330 - accuracy: 0.7286 - val_loss: 0.5789 - val_accuracy: 0.6996\n",
            "Epoch 43/100\n",
            "100/100 [==============================] - 0s 2ms/step - loss: 0.5326 - accuracy: 0.7301 - val_loss: 0.5789 - val_accuracy: 0.6976\n",
            "Epoch 44/100\n",
            "100/100 [==============================] - 0s 1ms/step - loss: 0.5326 - accuracy: 0.7286 - val_loss: 0.5793 - val_accuracy: 0.7016\n",
            "Epoch 45/100\n",
            "100/100 [==============================] - 0s 1ms/step - loss: 0.5320 - accuracy: 0.7291 - val_loss: 0.5798 - val_accuracy: 0.6935\n",
            "Epoch 46/100\n",
            "100/100 [==============================] - 0s 1ms/step - loss: 0.5318 - accuracy: 0.7296 - val_loss: 0.5796 - val_accuracy: 0.6996\n",
            "Epoch 47/100\n",
            "100/100 [==============================] - 0s 1ms/step - loss: 0.5318 - accuracy: 0.7306 - val_loss: 0.5802 - val_accuracy: 0.6996\n",
            "Epoch 48/100\n",
            "100/100 [==============================] - 0s 2ms/step - loss: 0.5310 - accuracy: 0.7291 - val_loss: 0.5807 - val_accuracy: 0.6976\n",
            "Epoch 49/100\n",
            "100/100 [==============================] - 0s 1ms/step - loss: 0.5308 - accuracy: 0.7321 - val_loss: 0.5809 - val_accuracy: 0.6996\n",
            "Epoch 50/100\n",
            "100/100 [==============================] - 0s 2ms/step - loss: 0.5304 - accuracy: 0.7291 - val_loss: 0.5815 - val_accuracy: 0.6996\n",
            "Epoch 51/100\n",
            "100/100 [==============================] - 0s 1ms/step - loss: 0.5301 - accuracy: 0.7331 - val_loss: 0.5814 - val_accuracy: 0.6976\n",
            "Epoch 52/100\n",
            "100/100 [==============================] - 0s 1ms/step - loss: 0.5299 - accuracy: 0.7316 - val_loss: 0.5818 - val_accuracy: 0.6976\n",
            "Epoch 53/100\n",
            "100/100 [==============================] - 0s 1ms/step - loss: 0.5294 - accuracy: 0.7336 - val_loss: 0.5818 - val_accuracy: 0.7016\n",
            "Epoch 54/100\n",
            "100/100 [==============================] - 0s 2ms/step - loss: 0.5286 - accuracy: 0.7331 - val_loss: 0.5817 - val_accuracy: 0.6996\n",
            "Epoch 55/100\n",
            "100/100 [==============================] - 0s 1ms/step - loss: 0.5285 - accuracy: 0.7371 - val_loss: 0.5824 - val_accuracy: 0.6976\n",
            "Epoch 56/100\n",
            "100/100 [==============================] - 0s 2ms/step - loss: 0.5279 - accuracy: 0.7361 - val_loss: 0.5824 - val_accuracy: 0.6976\n",
            "Epoch 57/100\n",
            "100/100 [==============================] - 0s 1ms/step - loss: 0.5279 - accuracy: 0.7356 - val_loss: 0.5829 - val_accuracy: 0.6956\n",
            "Epoch 58/100\n",
            "100/100 [==============================] - 0s 1ms/step - loss: 0.5276 - accuracy: 0.7346 - val_loss: 0.5829 - val_accuracy: 0.6935\n",
            "Epoch 59/100\n",
            "100/100 [==============================] - 0s 2ms/step - loss: 0.5269 - accuracy: 0.7386 - val_loss: 0.5832 - val_accuracy: 0.6935\n",
            "Epoch 60/100\n",
            "100/100 [==============================] - 0s 2ms/step - loss: 0.5269 - accuracy: 0.7366 - val_loss: 0.5833 - val_accuracy: 0.6996\n",
            "Epoch 61/100\n",
            "100/100 [==============================] - 0s 2ms/step - loss: 0.5265 - accuracy: 0.7381 - val_loss: 0.5834 - val_accuracy: 0.6996\n",
            "Epoch 62/100\n",
            "100/100 [==============================] - 0s 1ms/step - loss: 0.5264 - accuracy: 0.7386 - val_loss: 0.5841 - val_accuracy: 0.6915\n",
            "Epoch 63/100\n",
            "100/100 [==============================] - 0s 2ms/step - loss: 0.5258 - accuracy: 0.7397 - val_loss: 0.5850 - val_accuracy: 0.6976\n",
            "Epoch 64/100\n",
            "100/100 [==============================] - 0s 2ms/step - loss: 0.5255 - accuracy: 0.7376 - val_loss: 0.5849 - val_accuracy: 0.6935\n",
            "Epoch 65/100\n",
            "100/100 [==============================] - 0s 1ms/step - loss: 0.5251 - accuracy: 0.7392 - val_loss: 0.5855 - val_accuracy: 0.6935\n",
            "Epoch 66/100\n",
            "100/100 [==============================] - 0s 1ms/step - loss: 0.5245 - accuracy: 0.7427 - val_loss: 0.5858 - val_accuracy: 0.6915\n",
            "Epoch 67/100\n",
            "100/100 [==============================] - 0s 1ms/step - loss: 0.5246 - accuracy: 0.7417 - val_loss: 0.5861 - val_accuracy: 0.6935\n",
            "Epoch 68/100\n",
            "100/100 [==============================] - 0s 1ms/step - loss: 0.5240 - accuracy: 0.7407 - val_loss: 0.5867 - val_accuracy: 0.6935\n",
            "Epoch 69/100\n",
            "100/100 [==============================] - 0s 1ms/step - loss: 0.5235 - accuracy: 0.7442 - val_loss: 0.5865 - val_accuracy: 0.6915\n",
            "Epoch 70/100\n",
            "100/100 [==============================] - 0s 1ms/step - loss: 0.5232 - accuracy: 0.7427 - val_loss: 0.5872 - val_accuracy: 0.6935\n",
            "Epoch 71/100\n",
            "100/100 [==============================] - 0s 1ms/step - loss: 0.5227 - accuracy: 0.7427 - val_loss: 0.5876 - val_accuracy: 0.6956\n",
            "Epoch 72/100\n",
            "100/100 [==============================] - 0s 2ms/step - loss: 0.5225 - accuracy: 0.7452 - val_loss: 0.5882 - val_accuracy: 0.6895\n",
            "Epoch 73/100\n",
            "100/100 [==============================] - 0s 1ms/step - loss: 0.5223 - accuracy: 0.7472 - val_loss: 0.5881 - val_accuracy: 0.6956\n",
            "Epoch 74/100\n",
            "100/100 [==============================] - 0s 2ms/step - loss: 0.5217 - accuracy: 0.7452 - val_loss: 0.5886 - val_accuracy: 0.6956\n",
            "Epoch 75/100\n",
            "100/100 [==============================] - 0s 1ms/step - loss: 0.5215 - accuracy: 0.7482 - val_loss: 0.5887 - val_accuracy: 0.6935\n",
            "Epoch 76/100\n",
            "100/100 [==============================] - 0s 2ms/step - loss: 0.5209 - accuracy: 0.7462 - val_loss: 0.5888 - val_accuracy: 0.6935\n",
            "Epoch 77/100\n",
            "100/100 [==============================] - 0s 1ms/step - loss: 0.5209 - accuracy: 0.7452 - val_loss: 0.5892 - val_accuracy: 0.6935\n",
            "Epoch 78/100\n",
            "100/100 [==============================] - 0s 2ms/step - loss: 0.5203 - accuracy: 0.7452 - val_loss: 0.5896 - val_accuracy: 0.6875\n",
            "Epoch 79/100\n",
            "100/100 [==============================] - 0s 2ms/step - loss: 0.5199 - accuracy: 0.7472 - val_loss: 0.5892 - val_accuracy: 0.7016\n",
            "Epoch 80/100\n",
            "100/100 [==============================] - 0s 1ms/step - loss: 0.5195 - accuracy: 0.7467 - val_loss: 0.5893 - val_accuracy: 0.6935\n",
            "Epoch 81/100\n",
            "100/100 [==============================] - 0s 1ms/step - loss: 0.5192 - accuracy: 0.7487 - val_loss: 0.5896 - val_accuracy: 0.6956\n",
            "Epoch 82/100\n",
            "100/100 [==============================] - 0s 2ms/step - loss: 0.5188 - accuracy: 0.7508 - val_loss: 0.5895 - val_accuracy: 0.6956\n",
            "Epoch 83/100\n",
            "100/100 [==============================] - 0s 1ms/step - loss: 0.5185 - accuracy: 0.7482 - val_loss: 0.5898 - val_accuracy: 0.6956\n",
            "Epoch 84/100\n",
            "100/100 [==============================] - 0s 1ms/step - loss: 0.5182 - accuracy: 0.7508 - val_loss: 0.5906 - val_accuracy: 0.6855\n",
            "Epoch 85/100\n",
            "100/100 [==============================] - 0s 2ms/step - loss: 0.5181 - accuracy: 0.7528 - val_loss: 0.5909 - val_accuracy: 0.6835\n",
            "Epoch 86/100\n",
            "100/100 [==============================] - 0s 1ms/step - loss: 0.5176 - accuracy: 0.7492 - val_loss: 0.5912 - val_accuracy: 0.6855\n",
            "Epoch 87/100\n",
            "100/100 [==============================] - 0s 1ms/step - loss: 0.5172 - accuracy: 0.7528 - val_loss: 0.5912 - val_accuracy: 0.6875\n",
            "Epoch 88/100\n",
            "100/100 [==============================] - 0s 1ms/step - loss: 0.5173 - accuracy: 0.7508 - val_loss: 0.5916 - val_accuracy: 0.6956\n",
            "Epoch 89/100\n",
            "100/100 [==============================] - 0s 2ms/step - loss: 0.5168 - accuracy: 0.7477 - val_loss: 0.5919 - val_accuracy: 0.6875\n",
            "Epoch 90/100\n",
            "100/100 [==============================] - 0s 1ms/step - loss: 0.5163 - accuracy: 0.7503 - val_loss: 0.5922 - val_accuracy: 0.6875\n",
            "Epoch 91/100\n",
            "100/100 [==============================] - 0s 2ms/step - loss: 0.5160 - accuracy: 0.7513 - val_loss: 0.5925 - val_accuracy: 0.6875\n",
            "Epoch 92/100\n",
            "100/100 [==============================] - 0s 2ms/step - loss: 0.5155 - accuracy: 0.7523 - val_loss: 0.5930 - val_accuracy: 0.6875\n",
            "Epoch 93/100\n",
            "100/100 [==============================] - 0s 1ms/step - loss: 0.5151 - accuracy: 0.7558 - val_loss: 0.5935 - val_accuracy: 0.6895\n",
            "Epoch 94/100\n",
            "100/100 [==============================] - 0s 1ms/step - loss: 0.5148 - accuracy: 0.7543 - val_loss: 0.5938 - val_accuracy: 0.6875\n",
            "Epoch 95/100\n",
            "100/100 [==============================] - 0s 2ms/step - loss: 0.5145 - accuracy: 0.7497 - val_loss: 0.5943 - val_accuracy: 0.6895\n",
            "Epoch 96/100\n",
            "100/100 [==============================] - 0s 1ms/step - loss: 0.5141 - accuracy: 0.7513 - val_loss: 0.5942 - val_accuracy: 0.6895\n",
            "Epoch 97/100\n",
            "100/100 [==============================] - 0s 1ms/step - loss: 0.5140 - accuracy: 0.7513 - val_loss: 0.5942 - val_accuracy: 0.6915\n",
            "Epoch 98/100\n",
            "100/100 [==============================] - 0s 2ms/step - loss: 0.5135 - accuracy: 0.7533 - val_loss: 0.5952 - val_accuracy: 0.6815\n",
            "Epoch 99/100\n",
            "100/100 [==============================] - 0s 2ms/step - loss: 0.5129 - accuracy: 0.7548 - val_loss: 0.5951 - val_accuracy: 0.6915\n",
            "Epoch 100/100\n",
            "100/100 [==============================] - 0s 1ms/step - loss: 0.5126 - accuracy: 0.7528 - val_loss: 0.5954 - val_accuracy: 0.6895\n"
          ],
          "name": "stdout"
        },
        {
          "output_type": "display_data",
          "data": {
            "image/png": "[encoded data removed]",
            "text/plain": [
              "<Figure size 432x288 with 1 Axes>"
            ]
          },
          "metadata": {
            "tags": [],
            "needs_background": "light"
          }
        },
        {
          "output_type": "stream",
          "text": [
            "Confusion matrix:\n"
          ],
          "name": "stdout"
        },
        {
          "output_type": "display_data",
          "data": {
            "image/png": "[encoded data removed]",
            "text/plain": [
              "<Figure size 432x288 with 2 Axes>"
            ]
          },
          "metadata": {
            "tags": [],
            "needs_background": "light"
          }
        },
        {
          "output_type": "stream",
          "text": [
            "Classification report:\n",
            "              precision    recall  f1-score   support\n",
            "\n",
            "           0       0.72      0.70      0.71       246\n",
            "           1       0.71      0.73      0.72       250\n",
            "\n",
            "    accuracy                           0.71       496\n",
            "   macro avg       0.71      0.71      0.71       496\n",
            "weighted avg       0.71      0.71      0.71       496\n",
            "\n",
            "No Skill: ROC AUC=0.500\n",
            "Logistic: ROC AUC=0.714\n"
          ],
          "name": "stdout"
        },
        {
          "output_type": "display_data",
          "data": {
            "image/png": "[encoded data removed]",
            "text/plain": [
              "<Figure size 432x288 with 1 Axes>"
            ]
          },
          "metadata": {
            "tags": [],
            "needs_background": "light"
          }
        }
      ]
    },
    {
      "cell_type": "markdown",
      "metadata": {
        "id": "wVmdPYRMbynU"
      },
      "source": [
        " 3. insurance company model"
      ]
    },
    {
      "cell_type": "code",
      "metadata": {
        "id": "E66Offtjb2lN",
        "outputId": "6584262c-e9ec-414b-948c-d5f3aac478d3",
        "colab": {
          "base_uri": "https://localhost:8080/",
          "height": 269
        }
      },
      "source": [
        "#select variables for PISEV\n",
        "insur_data=df[df.columns[df.columns.isin(['C_RCFG','C_WTHR','C_RSUR','C_RALN','C_TRAF','V_TYPE','P_SEX','P_AGE','P_PSN','P_SAFE','P_USER','P_ISEV'])]]\n",
        "print(insur_data)"
      ],
      "execution_count": 495,
      "outputs": [
        {
          "output_type": "stream",
          "text": [
            "       C_RCFG C_WTHR C_RSUR C_RALN C_TRAF  ... P_AGE P_PSN P_ISEV P_SAFE P_USER\n",
            "0          03      1      3      2     18  ...    75    11      2     NN      1\n",
            "1          UU      1      5      1     UU  ...    21    11      2     02      1\n",
            "2          UU      7      3      1     UU  ...    34    11      2     02      1\n",
            "3          UU      1      1      1     18  ...    50    11      2     02      1\n",
            "4          UU      1      1      1     18  ...    63    11      1     NN      1\n",
            "...       ...    ...    ...    ...    ...  ...   ...   ...    ...    ...    ...\n",
            "297607     01      U      U      U     UU  ...    24    11      1     NN      1\n",
            "297608     05      1      1      U     18  ...    29    96      2     09      5\n",
            "297609     01      1      5      4     18  ...    UU    11      2     01      1\n",
            "297610     01      2      4      Q     18  ...    67    12      3     01      U\n",
            "297611     01      2      4      Q     18  ...    10    98      1     01      U\n",
            "\n",
            "[297452 rows x 12 columns]\n"
          ],
          "name": "stdout"
        }
      ]
    },
    {
      "cell_type": "code",
      "metadata": {
        "id": "phKs6Lv7jdDO",
        "outputId": "876af9ae-6789-41aa-edf6-418cc22ec74f",
        "colab": {
          "base_uri": "https://localhost:8080/",
          "height": 35
        }
      },
      "source": [
        "#check na\n",
        "x =  insur_data.isnull().sum().sum()\n",
        "print(x)"
      ],
      "execution_count": 496,
      "outputs": [
        {
          "output_type": "stream",
          "text": [
            "0\n"
          ],
          "name": "stdout"
        }
      ]
    },
    {
      "cell_type": "code",
      "metadata": {
        "id": "prbOm44EiwB0",
        "outputId": "d91cc644-ef37-43ff-f825-18769236d7f5",
        "colab": {
          "base_uri": "https://localhost:8080/",
          "height": 467
        }
      },
      "source": [
        "#The model is for person, thus replace with NAN in VTYPE and VYEAR, then fill in with adjacent methods\n",
        "insur_data.loc[insur_data['V_TYPE'] =='NN','V_TYPE'] = np.nan\n",
        "insur_data.loc[insur_data['V_TYPE'] =='QQ','V_TYPE'] = np.nan\n",
        "insur_data.loc[insur_data['V_TYPE'] =='UU','V_TYPE'] = np.nan\n",
        "insur_data.loc[insur_data['P_USER'] =='U','P_USER'] = np.nan\n",
        "insur_data = insur_data.replace('X',np.nan)\n",
        "insur_data = insur_data.replace('XX',np.nan)\n",
        "insur_data = insur_data.replace('QQ',np.nan)"
      ],
      "execution_count": 497,
      "outputs": [
        {
          "output_type": "stream",
          "text": [
            "/usr/local/lib/python3.6/dist-packages/pandas/core/indexing.py:670: SettingWithCopyWarning: \n",
            "A value is trying to be set on a copy of a slice from a DataFrame\n",
            "\n",
            "See the caveats in the documentation: https://pandas.pydata.org/pandas-docs/stable/user_guide/indexing.html#returning-a-view-versus-a-copy\n",
            "  iloc._setitem_with_indexer(indexer, value)\n",
            "/usr/local/lib/python3.6/dist-packages/ipykernel_launcher.py:2: SettingWithCopyWarning: \n",
            "A value is trying to be set on a copy of a slice from a DataFrame\n",
            "\n",
            "See the caveats in the documentation: https://pandas.pydata.org/pandas-docs/stable/user_guide/indexing.html#returning-a-view-versus-a-copy\n",
            "  \n",
            "/usr/local/lib/python3.6/dist-packages/ipykernel_launcher.py:3: SettingWithCopyWarning: \n",
            "A value is trying to be set on a copy of a slice from a DataFrame\n",
            "\n",
            "See the caveats in the documentation: https://pandas.pydata.org/pandas-docs/stable/user_guide/indexing.html#returning-a-view-versus-a-copy\n",
            "  This is separate from the ipykernel package so we can avoid doing imports until\n",
            "/usr/local/lib/python3.6/dist-packages/ipykernel_launcher.py:4: SettingWithCopyWarning: \n",
            "A value is trying to be set on a copy of a slice from a DataFrame\n",
            "\n",
            "See the caveats in the documentation: https://pandas.pydata.org/pandas-docs/stable/user_guide/indexing.html#returning-a-view-versus-a-copy\n",
            "  after removing the cwd from sys.path.\n",
            "/usr/local/lib/python3.6/dist-packages/ipykernel_launcher.py:5: SettingWithCopyWarning: \n",
            "A value is trying to be set on a copy of a slice from a DataFrame\n",
            "\n",
            "See the caveats in the documentation: https://pandas.pydata.org/pandas-docs/stable/user_guide/indexing.html#returning-a-view-versus-a-copy\n",
            "  \"\"\"\n"
          ],
          "name": "stderr"
        }
      ]
    },
    {
      "cell_type": "code",
      "metadata": {
        "id": "feJHmshW5Lx5"
      },
      "source": [
        "#Use the value in front of the missing value of each column to fill (fill according to the corresponding column, fill before and after the corresponding index)\n",
        "insur_data.fillna(method='ffill',inplace=True)\n",
        "insur_data.fillna(method='pad',inplace=True)\n",
        "#Use the value behind the missing value of each column to fill (fill according to the corresponding column, fill before and after the corresponding index)\n",
        "insur_data.fillna(method='backfill',inplace=True)\n",
        "insur_data.fillna(method='bfill',inplace=True)"
      ],
      "execution_count": 498,
      "outputs": []
    },
    {
      "cell_type": "code",
      "metadata": {
        "id": "YGdAEDvS6WUH"
      },
      "source": [
        "#The remained irrevalent can drop the row directly\n",
        "insur_data = insur_data.replace('N',np.nan)\n",
        "insur_data = insur_data.replace('NN',np.nan)\n",
        "insur_data = insur_data.replace('U',np.nan)\n",
        "insur_data = insur_data.replace('UU',np.nan)\n",
        "insur_data = insur_data.replace('Q',np.nan)\n",
        "insur_data=insur_data.dropna()"
      ],
      "execution_count": 499,
      "outputs": []
    },
    {
      "cell_type": "code",
      "metadata": {
        "id": "_2VKLcCDURP1"
      },
      "source": [
        "#Use the value in front of the missing value of each column to fill (fill according to the corresponding column, fill before and after the corresponding index)\n",
        "insur_data.fillna(method='ffill',inplace=True)\n",
        "insur_data.fillna(method='pad',inplace=True)\n",
        "#Use the value behind the missing value of each column to fill (fill according to the corresponding column, fill before and after the corresponding index)\n",
        "insur_data.fillna(method='backfill',inplace=True)\n",
        "insur_data.fillna(method='bfill',inplace=True)"
      ],
      "execution_count": 500,
      "outputs": []
    },
    {
      "cell_type": "code",
      "metadata": {
        "id": "8H3ylBvFBZOR"
      },
      "source": [
        "#switch string into numeric\n",
        "insur_data=insur_data.apply(pd.to_numeric,errors='ignore')"
      ],
      "execution_count": 501,
      "outputs": []
    },
    {
      "cell_type": "code",
      "metadata": {
        "id": "lAMIJJ8U--mV",
        "outputId": "0122cbfb-1f19-4963-85e6-7bc633521d32",
        "colab": {
          "base_uri": "https://localhost:8080/",
          "height": 269
        }
      },
      "source": [
        "#cut category variables into range\n",
        "insur_data['P_AGEGR']=pd.cut(insur_data['P_AGE'],[0,17,34,51,68,85,99],labels=['(0,17]','(17,34]','(34,51]','(51,68]','(68,85]','(85,99]'])\n",
        "insur_data['P_PSNGR']=pd.cut(insur_data['P_PSN'],[0,11,13,23,33,96,98,99],labels=['driver','front','second','third','others','out','Pedestrian'])\n",
        "insur_data=insur_data[insur_data.columns[insur_data.columns.isin(['C_RCFG','C_WTHR','C_RSUR','C_RALN','C_TRAF','V_TYPE','P_SEX','P_AGEGR','P_PSNGR','P_SAFE','P_USER','P_ISEV'])]]\n",
        "print(insur_data)"
      ],
      "execution_count": 502,
      "outputs": [
        {
          "output_type": "stream",
          "text": [
            "        C_RCFG  C_WTHR  C_RSUR  C_RALN  ...  P_SAFE  P_USER  P_AGEGR  P_PSNGR\n",
            "5            5       1       3       1  ...       2       1  (17,34]   driver\n",
            "6            2       4       3       4  ...       2       1  (17,34]   driver\n",
            "7            2       4       3       4  ...       2       1  (17,34]   driver\n",
            "8            2       1       1       1  ...       2       1  (68,85]   driver\n",
            "13           2       1       4       1  ...       2       1  (17,34]   driver\n",
            "...        ...     ...     ...     ...  ...     ...     ...      ...      ...\n",
            "297583       1       1       5       1  ...       2       1  (34,51]   driver\n",
            "297584       1       1       5       1  ...       2       2  (17,34]    front\n",
            "297585       1       1       3       4  ...       2       1  (34,51]   driver\n",
            "297586       1       1       3       4  ...       2       2  (17,34]    front\n",
            "297587       1       1       3       4  ...       2       2   (0,17]   second\n",
            "\n",
            "[194578 rows x 12 columns]\n"
          ],
          "name": "stdout"
        }
      ]
    },
    {
      "cell_type": "code",
      "metadata": {
        "id": "blpMvMOWFFH3",
        "outputId": "e8caacac-3331-40dc-8055-9b84106903e9",
        "colab": {
          "base_uri": "https://localhost:8080/",
          "height": 107
        }
      },
      "source": [
        "#check the imbalanced data problems\n",
        "groups = insur_data.groupby('P_ISEV')\n",
        "groups.size() "
      ],
      "execution_count": 503,
      "outputs": [
        {
          "output_type": "execute_result",
          "data": {
            "text/plain": [
              "P_ISEV\n",
              "1     81068\n",
              "2    112345\n",
              "3      1165\n",
              "dtype: int64"
            ]
          },
          "metadata": {
            "tags": []
          },
          "execution_count": 503
        }
      ]
    },
    {
      "cell_type": "code",
      "metadata": {
        "id": "kNZ9r12tFD3g"
      },
      "source": [
        "#under-sampling \n",
        "# Shuffle the Dataset.\n",
        "shuffled_insur_data = insur_data.sample(frac=1,random_state=4)\n",
        "# Put all the fraud class in a separate dataset.\n",
        "fraud_insur_data = shuffled_insur_data.loc[shuffled_insur_data['P_ISEV'] == 3]\n",
        "non_fraud_insur_data=shuffled_insur_data.loc[shuffled_insur_data['P_ISEV']==2].sample(n=616,random_state=42)\n",
        "non_fraud_insur_data1=shuffled_insur_data.loc[shuffled_insur_data['P_ISEV']==1].sample(n=616,random_state=42)\n",
        "# Concatenate both dataframes again\n",
        "normalized_insur_data = pd.concat([fraud_insur_data,non_fraud_insur_data])\n",
        "normalized_insur_data = pd.concat([normalized_insur_data,non_fraud_insur_data1])\n",
        "groups = normalized_insur_data.groupby('P_ISEV')\n",
        "groups.size() \n",
        "insur_data=normalized_insur_data"
      ],
      "execution_count": 504,
      "outputs": []
    },
    {
      "cell_type": "code",
      "metadata": {
        "id": "v4SBUxrFo5dK",
        "outputId": "f06485f2-42f5-4f0b-8eac-f8ecc544a177",
        "colab": {
          "base_uri": "https://localhost:8080/",
          "height": 269
        }
      },
      "source": [
        "#get dummy for categorical x variables\n",
        "insur_data= pd.get_dummies(insur_data, columns = ['C_RCFG','C_WTHR','C_RSUR','C_RALN','C_TRAF','V_TYPE','P_SEX','P_AGEGR','P_PSNGR','P_SAFE','P_USER'], drop_first= True)\n",
        "#switch y into 0 and 1\n",
        "insur_data.loc[insur_data['P_ISEV'] == 1,'P_ISEV'] = 0\n",
        "insur_data.loc[insur_data['P_ISEV'] == 2,'P_ISEV'] = 0\n",
        "insur_data.loc[insur_data['P_ISEV'] == 3,'P_ISEV'] = 1\n",
        "groups = insur_data.groupby('P_ISEV')\n",
        "print(insur_data)"
      ],
      "execution_count": 505,
      "outputs": [
        {
          "output_type": "stream",
          "text": [
            "        P_ISEV  C_RCFG_2  C_RCFG_3  ...  P_USER_3  P_USER_4  P_USER_5\n",
            "209095       1         1         0  ...         0         0         1\n",
            "45809        1         0         0  ...         0         0         0\n",
            "187061       1         0         0  ...         0         0         0\n",
            "59727        1         0         0  ...         0         0         0\n",
            "128902       1         1         0  ...         0         1         0\n",
            "...        ...       ...       ...  ...       ...       ...       ...\n",
            "197576       0         1         0  ...         0         0         0\n",
            "141369       0         1         0  ...         0         0         0\n",
            "208562       0         1         0  ...         0         0         0\n",
            "215285       0         1         0  ...         0         0         0\n",
            "266430       0         1         0  ...         0         0         0\n",
            "\n",
            "[2397 rows x 71 columns]\n"
          ],
          "name": "stdout"
        }
      ]
    },
    {
      "cell_type": "code",
      "metadata": {
        "id": "t3YTXmwnITW3",
        "outputId": "82927137-1262-4558-dd39-825373364f92",
        "colab": {
          "base_uri": "https://localhost:8080/",
          "height": 521
        }
      },
      "source": [
        "#set x and y\n",
        "y=insur_data[insur_data.columns[insur_data.columns.isin(['P_ISEV'])]]\n",
        "print(y)\n",
        "X = insur_data[insur_data.columns[~insur_data.columns.isin(['P_ISEV'])]]\n",
        "print(X)\n",
        "#spilt train and test set\n",
        "X_train, X_test, y_train, y_test = train_test_split(X, y, test_size=0.20, random_state=2020)"
      ],
      "execution_count": 506,
      "outputs": [
        {
          "output_type": "stream",
          "text": [
            "        P_ISEV\n",
            "209095       1\n",
            "45809        1\n",
            "187061       1\n",
            "59727        1\n",
            "128902       1\n",
            "...        ...\n",
            "197576       0\n",
            "141369       0\n",
            "208562       0\n",
            "215285       0\n",
            "266430       0\n",
            "\n",
            "[2397 rows x 1 columns]\n",
            "        C_RCFG_2  C_RCFG_3  C_RCFG_4  ...  P_USER_3  P_USER_4  P_USER_5\n",
            "209095         1         0         0  ...         0         0         1\n",
            "45809          0         0         0  ...         0         0         0\n",
            "187061         0         0         0  ...         0         0         0\n",
            "59727          0         0         0  ...         0         0         0\n",
            "128902         1         0         0  ...         0         1         0\n",
            "...          ...       ...       ...  ...       ...       ...       ...\n",
            "197576         1         0         0  ...         0         0         0\n",
            "141369         1         0         0  ...         0         0         0\n",
            "208562         1         0         0  ...         0         0         0\n",
            "215285         1         0         0  ...         0         0         0\n",
            "266430         1         0         0  ...         0         0         0\n",
            "\n",
            "[2397 rows x 70 columns]\n"
          ],
          "name": "stdout"
        }
      ]
    },
    {
      "cell_type": "code",
      "metadata": {
        "id": "6vWir5AqJBPc",
        "outputId": "21684f0a-8290-4e08-f475-5cdc001b31b9",
        "colab": {
          "base_uri": "https://localhost:8080/",
          "height": 1000
        }
      },
      "source": [
        "#Model 1 : linear regression\n",
        "#https://scikit-learn.org/stable/modules/generated/sklearn.linear_model.LogisticRegression.html\n",
        "#class sklearn.linear_model.LogisticRegression(penalty='l2', *, dual=False, tol=0.0001, C=1.0, fit_intercept=True, \n",
        "#intercept_scaling=1, class_weight=None, random_state=None, solver='lbfgs', max_iter=100, multi_class='auto', \n",
        "#verbose=0, warm_start=False, n_jobs=None, l1_ratio=None)\n",
        "\n",
        "linear_classifier = linear_model.LogisticRegression(random_state=123)\n",
        "linear_classifier.fit(X_train, y_train)\n",
        "y_pred_train1 = linear_classifier.predict(X_train)\n",
        "cm1_train = confusion_matrix(y_train,y_pred_train1)\n",
        "print(\"Regression\")\n",
        "print(\"================================\")\n",
        "print(cm1_train)\n",
        "acc_train1 = (cm1_train[0,0] + cm1_train[1,1]) / sum(sum(cm1_train))\n",
        "print(\"Regression TrainSet: Accurarcy %.2f%%\" % (acc_train1*100))\n",
        "print(\"================================\")\n",
        "y_pred1 = linear_classifier.predict(X_test)\n",
        "cm1 = confusion_matrix(y_test,y_pred1)\n",
        "print(cm1)\n",
        "acc1 = (cm1[0,0] + cm1[1,1]) / sum(sum(cm1))\n",
        "print(\"Regression Testset: Accurarcy %.2f%%\" % (acc1*100))\n",
        "print(\"================================\")\n",
        "print(\"================================\")\n",
        "print(\"================================\")\n",
        "\n",
        "#evaluate the result\n",
        "print(\"Confusion matrix:\")\n",
        "plot_confusion_matrix(confusion_matrix(y_test,y_pred1))\n",
        "print(\"Classification report:\")\n",
        "print(classification_report(y_test,y_pred1))\n",
        "\n",
        "\n",
        "plot_roc_curve(y_test,y_pred1)"
      ],
      "execution_count": 507,
      "outputs": [
        {
          "output_type": "stream",
          "text": [
            "/usr/local/lib/python3.6/dist-packages/sklearn/utils/validation.py:760: DataConversionWarning: A column-vector y was passed when a 1d array was expected. Please change the shape of y to (n_samples, ), for example using ravel().\n",
            "  y = column_or_1d(y, warn=True)\n"
          ],
          "name": "stderr"
        },
        {
          "output_type": "stream",
          "text": [
            "Regression\n",
            "================================\n",
            "[[781 212]\n",
            " [254 670]]\n",
            "Regression TrainSet: Accurarcy 75.69%\n",
            "================================\n",
            "[[189  50]\n",
            " [ 63 178]]\n",
            "Regression Testset: Accurarcy 76.46%\n",
            "================================\n",
            "================================\n",
            "================================\n",
            "Confusion matrix:\n"
          ],
          "name": "stdout"
        },
        {
          "output_type": "display_data",
          "data": {
            "image/png": "[encoded data removed]",
            "text/plain": [
              "<Figure size 432x288 with 2 Axes>"
            ]
          },
          "metadata": {
            "tags": [],
            "needs_background": "light"
          }
        },
        {
          "output_type": "stream",
          "text": [
            "Classification report:\n",
            "              precision    recall  f1-score   support\n",
            "\n",
            "           0       0.75      0.79      0.77       239\n",
            "           1       0.78      0.74      0.76       241\n",
            "\n",
            "    accuracy                           0.76       480\n",
            "   macro avg       0.77      0.76      0.76       480\n",
            "weighted avg       0.77      0.76      0.76       480\n",
            "\n",
            "No Skill: ROC AUC=0.500\n",
            "Logistic: ROC AUC=0.765\n"
          ],
          "name": "stdout"
        },
        {
          "output_type": "display_data",
          "data": {
            "image/png": "[encoded data removed]",
            "text/plain": [
              "<Figure size 432x288 with 1 Axes>"
            ]
          },
          "metadata": {
            "tags": [],
            "needs_background": "light"
          }
        }
      ]
    },
    {
      "cell_type": "code",
      "metadata": {
        "id": "leJx_MDs77E9",
        "outputId": "a36fea19-acac-417f-9a72-14b65c3de722",
        "colab": {
          "base_uri": "https://localhost:8080/",
          "height": 897
        }
      },
      "source": [
        "#plot variable importance\n",
        "#plot the variable importance\n",
        "import matplotlib.pyplot as plt\n",
        "plt.rcParams['font.sans-serif']=['SimHei'] \n",
        "plt.rcParams['axes.unicode_minus']=False \n",
        "\n",
        "coef_LR = pd.Series(linear_classifier.coef_.flatten(),index = X_test.columns,name = 'Var')\n",
        "\n",
        "plt.figure(figsize=(15,15))\n",
        "coef_LR.sort_values().plot(kind='barh')\n",
        "plt.title(\"Variances Importances\")"
      ],
      "execution_count": 508,
      "outputs": [
        {
          "output_type": "execute_result",
          "data": {
            "text/plain": [
              "Text(0.5, 1.0, 'Variances Importances')"
            ]
          },
          "metadata": {
            "tags": []
          },
          "execution_count": 508
        },
        {
          "output_type": "display_data",
          "data": {
            "image/png": "[encoded data removed]",
            "text/plain": [
              "<Figure size 1080x1080 with 1 Axes>"
            ]
          },
          "metadata": {
            "tags": [],
            "needs_background": "light"
          }
        }
      ]
    },
    {
      "cell_type": "code",
      "metadata": {
        "id": "JuyAygiUGlEW",
        "outputId": "9dd950b6-ad05-486b-c7f0-5681da9171b0",
        "colab": {
          "base_uri": "https://localhost:8080/",
          "height": 1000
        }
      },
      "source": [
        "from sklearn.tree import DecisionTreeClassifier\n",
        "\n",
        "path = DecisionTreeClassifier(criterion = \"gini\",random_state = 2020).cost_complexity_pruning_path(X_train, y_train)\n",
        "ccp_alphas, impurities = path.ccp_alphas, path.impurities\n",
        "print(\"Cost complexity pruning alphas:\")\n",
        "print(ccp_alphas)"
      ],
      "execution_count": 509,
      "outputs": [
        {
          "output_type": "stream",
          "text": [
            "Cost complexity pruning alphas:\n",
            "[0.00000000e+00 0.00000000e+00 0.00000000e+00 0.00000000e+00\n",
            " 2.25821822e-06 3.16150551e-06 4.96808009e-06 6.68780012e-06\n",
            " 7.17967703e-06 7.45212013e-06 8.02536014e-06 9.44160016e-06\n",
            " 1.24202002e-05 1.44902336e-05 1.49042403e-05 1.63654403e-05\n",
            " 1.86303003e-05 1.88832003e-05 1.88832003e-05 1.93203114e-05\n",
            " 1.95561304e-05 2.07003337e-05 2.10767034e-05 2.12436004e-05\n",
            " 2.41142194e-05 2.48404004e-05 2.52920441e-05 2.58401689e-05\n",
            " 2.60824204e-05 2.60824204e-05 2.60824204e-05 2.68727968e-05\n",
            " 3.00951005e-05 3.13553442e-05 3.15619205e-05 3.47765606e-05\n",
            " 3.47765606e-05 3.47765606e-05 3.92350940e-05 4.02414487e-05\n",
            " 4.18364639e-05 4.34707007e-05 4.34707007e-05 4.81521608e-05\n",
            " 4.96808009e-05 5.21648409e-05 5.21648409e-05 5.21648409e-05\n",
            " 5.40008705e-05 5.58909010e-05 5.79609343e-05 5.79609343e-05\n",
            " 5.79609343e-05 5.96169610e-05 6.32301102e-05 6.62410678e-05\n",
            " 6.95531212e-05 6.95531212e-05 7.06749457e-05 7.07084887e-05\n",
            " 8.69414015e-05 8.69414015e-05 9.07214624e-05 9.93616017e-05\n",
            " 1.00104672e-04 1.04329682e-04 1.14167220e-04 1.15921869e-04\n",
            " 1.15921869e-04 1.17370892e-04 1.24202002e-04 1.24202002e-04\n",
            " 1.30412102e-04 1.30412102e-04 1.31729396e-04 1.32482136e-04\n",
            " 1.34138162e-04 1.34138162e-04 1.39106242e-04 1.49042403e-04\n",
            " 1.51752264e-04 1.54691724e-04 1.67672703e-04 1.73882803e-04\n",
            " 1.73882803e-04 1.73882803e-04 1.73882803e-04 1.73882803e-04\n",
            " 1.73882803e-04 1.73882803e-04 1.73882803e-04 1.73882803e-04\n",
            " 1.73882803e-04 1.73882803e-04 1.76323263e-04 1.78850883e-04\n",
            " 1.90604634e-04 1.95618153e-04 1.98723203e-04 2.01337982e-04\n",
            " 2.02166124e-04 2.02179259e-04 2.04568004e-04 2.16512135e-04\n",
            " 2.23563604e-04 2.29809295e-04 2.33465022e-04 2.34741784e-04\n",
            " 2.37112913e-04 2.43078784e-04 2.44947949e-04 2.52920441e-04\n",
            " 2.60824204e-04 2.61248309e-04 2.62161765e-04 2.63053471e-04\n",
            " 2.63458792e-04 2.65268688e-04 2.67512005e-04 2.72534679e-04\n",
            " 2.72757338e-04 2.78212485e-04 2.78711670e-04 2.90441605e-04\n",
            " 2.92934257e-04 2.95600765e-04 3.01945365e-04 3.08234480e-04\n",
            " 3.12989045e-04 3.13051805e-04 3.17957125e-04 3.17957125e-04\n",
            " 3.18785139e-04 3.21906112e-04 3.22925206e-04 3.30186246e-04\n",
            " 3.33965384e-04 3.35076861e-04 3.36938299e-04 3.39921269e-04\n",
            " 3.40740038e-04 3.47765606e-04 3.47765606e-04 3.47765606e-04\n",
            " 3.47765606e-04 3.47765606e-04 3.47765606e-04 3.52112676e-04\n",
            " 3.52282042e-04 3.64325873e-04 3.67421923e-04 3.82259430e-04\n",
            " 3.91236307e-04 4.06924845e-04 4.11827691e-04 4.14006674e-04\n",
            " 4.17318727e-04 4.17318727e-04 4.22738451e-04 4.23942834e-04\n",
            " 4.26012867e-04 4.26012867e-04 4.27035707e-04 4.27156265e-04\n",
            " 4.29305714e-04 4.29735268e-04 4.34707007e-04 4.45309617e-04\n",
            " 4.47127208e-04 4.52095288e-04 4.56442358e-04 4.59993764e-04\n",
            " 4.62370181e-04 4.69483568e-04 4.74225826e-04 4.80910152e-04\n",
            " 4.96808009e-04 5.00782473e-04 5.01191609e-04 5.03018109e-04\n",
            " 5.03925072e-04 5.05333739e-04 5.21648409e-04 5.29928542e-04\n",
            " 5.41711809e-04 5.42577099e-04 5.43383759e-04 5.45069358e-04\n",
            " 5.46241894e-04 5.48411937e-04 5.50310409e-04 5.55333497e-04\n",
            " 5.65749120e-04 5.73240010e-04 5.75095836e-04 5.78103864e-04\n",
            " 5.90892307e-04 6.26981261e-04 6.34470556e-04 6.67390529e-04\n",
            " 6.69448792e-04 6.76067674e-04 6.76108662e-04 6.95531212e-04\n",
            " 6.95531212e-04 7.07541955e-04 7.29615916e-04 7.30307773e-04\n",
            " 7.41899959e-04 7.45020933e-04 7.79650003e-04 7.82472613e-04\n",
            " 7.82472613e-04 8.22760225e-04 8.30352970e-04 8.34637454e-04\n",
            " 8.40774494e-04 8.68599991e-04 9.12716442e-04 9.27374949e-04\n",
            " 9.31977306e-04 9.32288117e-04 9.47426300e-04 9.71068577e-04\n",
            " 9.94303681e-04 1.01325821e-03 1.03275847e-03 1.12364099e-03\n",
            " 1.13260706e-03 1.13595549e-03 1.14451218e-03 1.18703994e-03\n",
            " 1.23471402e-03 1.25195618e-03 1.29054872e-03 1.30715707e-03\n",
            " 1.36239011e-03 1.36324118e-03 1.39106242e-03 1.42627919e-03\n",
            " 1.45231659e-03 1.54751632e-03 1.64112824e-03 1.64277916e-03\n",
            " 1.71073402e-03 1.80148597e-03 1.84291206e-03 1.84619358e-03\n",
            " 1.91398722e-03 2.36441724e-03 2.90123475e-03 3.02570434e-03\n",
            " 3.22615527e-03 3.33760205e-03 3.45172291e-03 4.82814985e-03\n",
            " 4.99881993e-03 6.79005106e-03 3.52195986e-02 7.30730123e-02]\n"
          ],
          "name": "stdout"
        }
      ]
    },
    {
      "cell_type": "code",
      "metadata": {
        "id": "mzNLMIYNGuMq",
        "outputId": "52ddbc31-daaf-4fd3-8ba0-519d8dc7b52b",
        "colab": {
          "base_uri": "https://localhost:8080/",
          "height": 297
        }
      },
      "source": [
        "paths = []\n",
        "for ccp_alpha in ccp_alphas:\n",
        "    path = DecisionTreeClassifier(criterion = \"gini\",random_state = 2020,ccp_alpha = ccp_alpha)\n",
        "    path.fit(X_train, y_train)\n",
        "    paths.append(path)\n",
        "\n",
        "node_counts = [path.tree_.node_count for path in paths]\n",
        "depth = [path.tree_.max_depth for path in paths]\n",
        "fig, ax = plt.subplots(2,1)\n",
        "ax[0].plot(ccp_alphas,node_counts,marker = \"o\",drawstyle = \"steps-post\")\n",
        "ax[0].set_xlabel(\"ccp alpha\")\n",
        "ax[0].set_ylabel(\"number of nodes\")\n",
        "ax[0].set_title(\"Number of nodes vs ccp alpha\")\n",
        "ax[1].plot(ccp_alphas,depth,marker = \"o\",drawstyle = \"steps-post\")\n",
        "ax[1].set_xlabel(\"ccp alpha\")\n",
        "ax[1].set_ylabel(\"depth of tree\")\n",
        "ax[1].set_title(\"Depth vs ccp alpha\")\n",
        "fig.tight_layout();\n",
        "plt.show()"
      ],
      "execution_count": 510,
      "outputs": [
        {
          "output_type": "display_data",
          "data": {
            "image/png": "[encoded data removed]",
            "text/plain": [
              "<Figure size 432x288 with 2 Axes>"
            ]
          },
          "metadata": {
            "tags": [],
            "needs_background": "light"
          }
        }
      ]
    },
    {
      "cell_type": "code",
      "metadata": {
        "id": "uoD3mpRkG6BM",
        "outputId": "86dc7c69-c0b0-41cb-df43-99d78ddde84b",
        "colab": {
          "base_uri": "https://localhost:8080/",
          "height": 349
        }
      },
      "source": [
        "from sklearn.model_selection import cross_val_score\n",
        "\n",
        "parameter_scores = []\n",
        "for ccp_alpha in ccp_alphas:\n",
        "    decision_tree_model_cv = DecisionTreeClassifier(criterion = \"gini\",random_state = 2020,ccp_alpha = ccp_alpha)\n",
        "    scores = 1 - cross_val_score(decision_tree_model_cv,X_train, y_train,cv = 10,scoring = \"accuracy\") \n",
        "    parameter_scores.append(scores.mean())\n",
        "cross_validation_score_optimal = min(parameter_scores)\n",
        "optimal_parameter = ccp_alphas[parameter_scores.index(min(parameter_scores))]\n",
        "print(\"Optimal cost complexity pruning alpha:\",optimal_parameter)\n",
        "print(\"Minimum average cross validation error:\",cross_validation_score_optimal)\n",
        "print()\n",
        "plt.plot(ccp_alphas,parameter_scores,marker = \"o\")\n",
        "plt.xlabel(\"ccp alpha\")\n",
        "plt.ylabel(\"average cross validation error\")\n",
        "plt.title(\"Average cross validation error vs ccp alpha\")\n",
        "plt.show()"
      ],
      "execution_count": 511,
      "outputs": [
        {
          "output_type": "stream",
          "text": [
            "Optimal cost complexity pruning alpha: 0.0008303529703698494\n",
            "Minimum average cross validation error: 0.25665357766143104\n",
            "\n"
          ],
          "name": "stdout"
        },
        {
          "output_type": "display_data",
          "data": {
            "image/png": "[encoded data removed]",
            "text/plain": [
              "<Figure size 432x288 with 1 Axes>"
            ]
          },
          "metadata": {
            "tags": [],
            "needs_background": "light"
          }
        }
      ]
    },
    {
      "cell_type": "code",
      "metadata": {
        "id": "SgXJT-XJHSII",
        "outputId": "d0dcf39a-f02f-4097-84dd-653b613461ad",
        "colab": {
          "base_uri": "https://localhost:8080/",
          "height": 833
        }
      },
      "source": [
        "pruned_decision_tree = DecisionTreeClassifier(criterion = \"gini\",random_state = 2020,ccp_alpha = optimal_parameter)\n",
        "pruned_decision_tree.fit(X_train, y_train)\n",
        "pred_pruned_tree = pruned_decision_tree.predict(X_test)\n",
        "\n",
        "print(\"Confusion matrix:\")\n",
        "plot_confusion_matrix(confusion_matrix(y_test,pred_pruned_tree,labels = [0,1]))\n",
        "print(\"Accuracy:\")\n",
        "print(\"{0:.2f}%\".format(accuracy_score(y_test,pred_pruned_tree) * 100))\n",
        "print()\n",
        "print(\"Classification report:\")\n",
        "print(classification_report(y_test,pred_pruned_tree))\n",
        "\n",
        "#evaluate the result\n",
        "plot_roc_curve(y_test,y_pred1)\n"
      ],
      "execution_count": 462,
      "outputs": [
        {
          "output_type": "stream",
          "text": [
            "Confusion matrix:\n"
          ],
          "name": "stdout"
        },
        {
          "output_type": "display_data",
          "data": {
            "image/png": "[encoded data removed]",
            "text/plain": [
              "<Figure size 432x288 with 2 Axes>"
            ]
          },
          "metadata": {
            "tags": [],
            "needs_background": "light"
          }
        },
        {
          "output_type": "stream",
          "text": [
            "Accuracy:\n",
            "75.42%\n",
            "\n",
            "Classification report:\n",
            "              precision    recall  f1-score   support\n",
            "\n",
            "           0       0.74      0.79      0.76       239\n",
            "           1       0.77      0.72      0.75       241\n",
            "\n",
            "    accuracy                           0.75       480\n",
            "   macro avg       0.76      0.75      0.75       480\n",
            "weighted avg       0.76      0.75      0.75       480\n",
            "\n",
            "No Skill: ROC AUC=0.500\n",
            "Logistic: ROC AUC=0.765\n"
          ],
          "name": "stdout"
        },
        {
          "output_type": "display_data",
          "data": {
            "image/png": "[encoded data removed]",
            "text/plain": [
              "<Figure size 432x288 with 1 Axes>"
            ]
          },
          "metadata": {
            "tags": [],
            "needs_background": "light"
          }
        }
      ]
    },
    {
      "cell_type": "code",
      "metadata": {
        "id": "IZMoKHjyLLH0",
        "outputId": "df03931e-5ffe-4afe-b471-1e072b045318",
        "colab": {
          "base_uri": "https://localhost:8080/",
          "height": 1000
        }
      },
      "source": [
        "from keras.models import Sequential\n",
        "from keras.layers import Dense, Dropout\n",
        "from sklearn.metrics import classification_report, confusion_matrix\n",
        "from numpy.random import seed\n",
        "from tensorflow.random import set_seed\n",
        "seed(0)\n",
        "set_seed(0)\n",
        "\n",
        "\n",
        "model = Sequential()\n",
        "model.add(Dense(12, kernel_initializer = 'he_uniform',activation='relu',input_dim = 70))\n",
        "model.add(Dropout(0.1))\n",
        "model.add(Dense(6, kernel_initializer = 'he_uniform',activation='relu'))\n",
        "model.add(Dropout(0.1))\n",
        "model.add(Dense(1, kernel_initializer = 'glorot_uniform', activation = 'sigmoid'))\n",
        "\n",
        "model.compile(loss='binary_crossentropy', optimizer='Nadam', metrics=['AUC'])\n",
        "# Fit the model\n",
        "model.fit(X_train, y_train, epochs=100, batch_size = 64)\n",
        "# evaluate the model\n",
        "\n",
        "predictions = model.predict(X_test)\n",
        "\n",
        "print(\"Confusion matrix:\")\n",
        "plot_confusion_matrix(confusion_matrix(y_test,(predictions > 0.5)*1))\n",
        "print(\"Accuracy:\")\n",
        "print(\"{0:.2f}%\".format(accuracy_score(y_test,(predictions > 0.5)*1) * 100))\n",
        "print(\"Classification report:\")\n",
        "print(classification_report(y_test,(predictions > 0.5)*1))\n",
        "\n",
        "#evaluate the result\n",
        "plot_roc_curve(y_test, predictions)"
      ],
      "execution_count": 463,
      "outputs": [
        {
          "output_type": "stream",
          "text": [
            "Epoch 1/100\n",
            "30/30 [==============================] - 0s 2ms/step - loss: 0.6706 - auc: 0.6649\n",
            "Epoch 2/100\n",
            "30/30 [==============================] - 0s 1ms/step - loss: 0.6505 - auc: 0.7159\n",
            "Epoch 3/100\n",
            "30/30 [==============================] - 0s 1ms/step - loss: 0.6285 - auc: 0.7375\n",
            "Epoch 4/100\n",
            "30/30 [==============================] - 0s 1ms/step - loss: 0.6069 - auc: 0.7571\n",
            "Epoch 5/100\n",
            "30/30 [==============================] - 0s 1ms/step - loss: 0.5806 - auc: 0.7785\n",
            "Epoch 6/100\n",
            "30/30 [==============================] - 0s 1ms/step - loss: 0.5767 - auc: 0.7747\n",
            "Epoch 7/100\n",
            "30/30 [==============================] - 0s 1ms/step - loss: 0.5592 - auc: 0.7928\n",
            "Epoch 8/100\n",
            "30/30 [==============================] - 0s 1ms/step - loss: 0.5511 - auc: 0.7966\n",
            "Epoch 9/100\n",
            "30/30 [==============================] - 0s 1ms/step - loss: 0.5444 - auc: 0.8006\n",
            "Epoch 10/100\n",
            "30/30 [==============================] - 0s 1ms/step - loss: 0.5471 - auc: 0.7994\n",
            "Epoch 11/100\n",
            "30/30 [==============================] - 0s 1ms/step - loss: 0.5344 - auc: 0.8101\n",
            "Epoch 12/100\n",
            "30/30 [==============================] - 0s 2ms/step - loss: 0.5287 - auc: 0.8174\n",
            "Epoch 13/100\n",
            "30/30 [==============================] - 0s 2ms/step - loss: 0.5217 - auc: 0.8205\n",
            "Epoch 14/100\n",
            "30/30 [==============================] - 0s 1ms/step - loss: 0.5270 - auc: 0.8177\n",
            "Epoch 15/100\n",
            "30/30 [==============================] - 0s 1ms/step - loss: 0.5262 - auc: 0.8184\n",
            "Epoch 16/100\n",
            "30/30 [==============================] - 0s 1ms/step - loss: 0.5123 - auc: 0.8298\n",
            "Epoch 17/100\n",
            "30/30 [==============================] - 0s 1ms/step - loss: 0.5146 - auc: 0.8243\n",
            "Epoch 18/100\n",
            "30/30 [==============================] - 0s 1ms/step - loss: 0.5016 - auc: 0.8383\n",
            "Epoch 19/100\n",
            "30/30 [==============================] - 0s 1ms/step - loss: 0.5101 - auc: 0.8309\n",
            "Epoch 20/100\n",
            "30/30 [==============================] - 0s 1ms/step - loss: 0.5068 - auc: 0.8320\n",
            "Epoch 21/100\n",
            "30/30 [==============================] - 0s 1ms/step - loss: 0.5023 - auc: 0.8372\n",
            "Epoch 22/100\n",
            "30/30 [==============================] - 0s 1ms/step - loss: 0.5014 - auc: 0.8368\n",
            "Epoch 23/100\n",
            "30/30 [==============================] - 0s 1ms/step - loss: 0.5045 - auc: 0.8340\n",
            "Epoch 24/100\n",
            "30/30 [==============================] - 0s 1ms/step - loss: 0.4960 - auc: 0.8399\n",
            "Epoch 25/100\n",
            "30/30 [==============================] - 0s 1ms/step - loss: 0.4882 - auc: 0.8468\n",
            "Epoch 26/100\n",
            "30/30 [==============================] - 0s 1ms/step - loss: 0.4866 - auc: 0.8472\n",
            "Epoch 27/100\n",
            "30/30 [==============================] - 0s 1ms/step - loss: 0.4965 - auc: 0.8425\n",
            "Epoch 28/100\n",
            "30/30 [==============================] - 0s 1ms/step - loss: 0.4890 - auc: 0.8453\n",
            "Epoch 29/100\n",
            "30/30 [==============================] - 0s 1ms/step - loss: 0.4867 - auc: 0.8482\n",
            "Epoch 30/100\n",
            "30/30 [==============================] - 0s 1ms/step - loss: 0.4878 - auc: 0.8471\n",
            "Epoch 31/100\n",
            "30/30 [==============================] - 0s 1ms/step - loss: 0.4865 - auc: 0.8482\n",
            "Epoch 32/100\n",
            "30/30 [==============================] - 0s 2ms/step - loss: 0.4829 - auc: 0.8515\n",
            "Epoch 33/100\n",
            "30/30 [==============================] - 0s 2ms/step - loss: 0.4840 - auc: 0.8493\n",
            "Epoch 34/100\n",
            "30/30 [==============================] - 0s 1ms/step - loss: 0.4766 - auc: 0.8544\n",
            "Epoch 35/100\n",
            "30/30 [==============================] - 0s 1ms/step - loss: 0.4852 - auc: 0.8502\n",
            "Epoch 36/100\n",
            "30/30 [==============================] - 0s 1ms/step - loss: 0.4832 - auc: 0.8510\n",
            "Epoch 37/100\n",
            "30/30 [==============================] - 0s 1ms/step - loss: 0.4742 - auc: 0.8560\n",
            "Epoch 38/100\n",
            "30/30 [==============================] - 0s 1ms/step - loss: 0.4805 - auc: 0.8527\n",
            "Epoch 39/100\n",
            "30/30 [==============================] - 0s 1ms/step - loss: 0.4723 - auc: 0.8589\n",
            "Epoch 40/100\n",
            "30/30 [==============================] - 0s 1ms/step - loss: 0.4736 - auc: 0.8560\n",
            "Epoch 41/100\n",
            "30/30 [==============================] - 0s 1ms/step - loss: 0.4702 - auc: 0.8597\n",
            "Epoch 42/100\n",
            "30/30 [==============================] - 0s 1ms/step - loss: 0.4699 - auc: 0.8590\n",
            "Epoch 43/100\n",
            "30/30 [==============================] - 0s 1ms/step - loss: 0.4685 - auc: 0.8601\n",
            "Epoch 44/100\n",
            "30/30 [==============================] - 0s 1ms/step - loss: 0.4686 - auc: 0.8602\n",
            "Epoch 45/100\n",
            "30/30 [==============================] - 0s 1ms/step - loss: 0.4635 - auc: 0.8645\n",
            "Epoch 46/100\n",
            "30/30 [==============================] - 0s 1ms/step - loss: 0.4677 - auc: 0.8617\n",
            "Epoch 47/100\n",
            "30/30 [==============================] - 0s 1ms/step - loss: 0.4644 - auc: 0.8630\n",
            "Epoch 48/100\n",
            "30/30 [==============================] - 0s 1ms/step - loss: 0.4624 - auc: 0.8649\n",
            "Epoch 49/100\n",
            "30/30 [==============================] - 0s 1ms/step - loss: 0.4667 - auc: 0.8613\n",
            "Epoch 50/100\n",
            "30/30 [==============================] - 0s 1ms/step - loss: 0.4655 - auc: 0.8625\n",
            "Epoch 51/100\n",
            "30/30 [==============================] - 0s 1ms/step - loss: 0.4489 - auc: 0.8742\n",
            "Epoch 52/100\n",
            "30/30 [==============================] - 0s 1ms/step - loss: 0.4691 - auc: 0.8595\n",
            "Epoch 53/100\n",
            "30/30 [==============================] - 0s 1ms/step - loss: 0.4619 - auc: 0.8655\n",
            "Epoch 54/100\n",
            "30/30 [==============================] - 0s 2ms/step - loss: 0.4477 - auc: 0.8731\n",
            "Epoch 55/100\n",
            "30/30 [==============================] - 0s 1ms/step - loss: 0.4589 - auc: 0.8659\n",
            "Epoch 56/100\n",
            "30/30 [==============================] - 0s 1ms/step - loss: 0.4540 - auc: 0.8712\n",
            "Epoch 57/100\n",
            "30/30 [==============================] - 0s 1ms/step - loss: 0.4532 - auc: 0.8704\n",
            "Epoch 58/100\n",
            "30/30 [==============================] - 0s 1ms/step - loss: 0.4520 - auc: 0.8721\n",
            "Epoch 59/100\n",
            "30/30 [==============================] - 0s 1ms/step - loss: 0.4458 - auc: 0.8754\n",
            "Epoch 60/100\n",
            "30/30 [==============================] - 0s 1ms/step - loss: 0.4555 - auc: 0.8682\n",
            "Epoch 61/100\n",
            "30/30 [==============================] - 0s 1ms/step - loss: 0.4547 - auc: 0.8690\n",
            "Epoch 62/100\n",
            "30/30 [==============================] - 0s 1ms/step - loss: 0.4440 - auc: 0.8753\n",
            "Epoch 63/100\n",
            "30/30 [==============================] - 0s 1ms/step - loss: 0.4541 - auc: 0.8693\n",
            "Epoch 64/100\n",
            "30/30 [==============================] - 0s 1ms/step - loss: 0.4416 - auc: 0.8777\n",
            "Epoch 65/100\n",
            "30/30 [==============================] - 0s 1ms/step - loss: 0.4438 - auc: 0.8765\n",
            "Epoch 66/100\n",
            "30/30 [==============================] - 0s 1ms/step - loss: 0.4456 - auc: 0.8756\n",
            "Epoch 67/100\n",
            "30/30 [==============================] - 0s 1ms/step - loss: 0.4436 - auc: 0.8750\n",
            "Epoch 68/100\n",
            "30/30 [==============================] - 0s 1ms/step - loss: 0.4464 - auc: 0.8736\n",
            "Epoch 69/100\n",
            "30/30 [==============================] - 0s 1ms/step - loss: 0.4433 - auc: 0.8751\n",
            "Epoch 70/100\n",
            "30/30 [==============================] - 0s 2ms/step - loss: 0.4369 - auc: 0.8802\n",
            "Epoch 71/100\n",
            "30/30 [==============================] - 0s 1ms/step - loss: 0.4390 - auc: 0.8789\n",
            "Epoch 72/100\n",
            "30/30 [==============================] - 0s 1ms/step - loss: 0.4383 - auc: 0.8791\n",
            "Epoch 73/100\n",
            "30/30 [==============================] - 0s 1ms/step - loss: 0.4429 - auc: 0.8761\n",
            "Epoch 74/100\n",
            "30/30 [==============================] - 0s 2ms/step - loss: 0.4446 - auc: 0.8740\n",
            "Epoch 75/100\n",
            "30/30 [==============================] - 0s 1ms/step - loss: 0.4318 - auc: 0.8821\n",
            "Epoch 76/100\n",
            "30/30 [==============================] - 0s 1ms/step - loss: 0.4482 - auc: 0.8746\n",
            "Epoch 77/100\n",
            "30/30 [==============================] - 0s 1ms/step - loss: 0.4406 - auc: 0.8782\n",
            "Epoch 78/100\n",
            "30/30 [==============================] - 0s 1ms/step - loss: 0.4334 - auc: 0.8830\n",
            "Epoch 79/100\n",
            "30/30 [==============================] - 0s 1ms/step - loss: 0.4408 - auc: 0.8772\n",
            "Epoch 80/100\n",
            "30/30 [==============================] - 0s 1ms/step - loss: 0.4467 - auc: 0.8739\n",
            "Epoch 81/100\n",
            "30/30 [==============================] - 0s 1ms/step - loss: 0.4382 - auc: 0.8796\n",
            "Epoch 82/100\n",
            "30/30 [==============================] - 0s 1ms/step - loss: 0.4303 - auc: 0.8834\n",
            "Epoch 83/100\n",
            "30/30 [==============================] - 0s 1ms/step - loss: 0.4426 - auc: 0.8766\n",
            "Epoch 84/100\n",
            "30/30 [==============================] - 0s 2ms/step - loss: 0.4211 - auc: 0.8892\n",
            "Epoch 85/100\n",
            "30/30 [==============================] - 0s 2ms/step - loss: 0.4347 - auc: 0.8805\n",
            "Epoch 86/100\n",
            "30/30 [==============================] - 0s 1ms/step - loss: 0.4290 - auc: 0.8847\n",
            "Epoch 87/100\n",
            "30/30 [==============================] - 0s 1ms/step - loss: 0.4315 - auc: 0.8828\n",
            "Epoch 88/100\n",
            "30/30 [==============================] - 0s 1ms/step - loss: 0.4222 - auc: 0.8884\n",
            "Epoch 89/100\n",
            "30/30 [==============================] - 0s 1ms/step - loss: 0.4243 - auc: 0.8873\n",
            "Epoch 90/100\n",
            "30/30 [==============================] - 0s 1ms/step - loss: 0.4382 - auc: 0.8797\n",
            "Epoch 91/100\n",
            "30/30 [==============================] - 0s 1ms/step - loss: 0.4363 - auc: 0.8791\n",
            "Epoch 92/100\n",
            "30/30 [==============================] - 0s 1ms/step - loss: 0.4267 - auc: 0.8860\n",
            "Epoch 93/100\n",
            "30/30 [==============================] - 0s 2ms/step - loss: 0.4303 - auc: 0.8828\n",
            "Epoch 94/100\n",
            "30/30 [==============================] - 0s 2ms/step - loss: 0.4376 - auc: 0.8796\n",
            "Epoch 95/100\n",
            "30/30 [==============================] - 0s 1ms/step - loss: 0.4297 - auc: 0.8845\n",
            "Epoch 96/100\n",
            "30/30 [==============================] - 0s 1ms/step - loss: 0.4270 - auc: 0.8854\n",
            "Epoch 97/100\n",
            "30/30 [==============================] - 0s 1ms/step - loss: 0.4387 - auc: 0.8781\n",
            "Epoch 98/100\n",
            "30/30 [==============================] - 0s 1ms/step - loss: 0.4235 - auc: 0.8877\n",
            "Epoch 99/100\n",
            "30/30 [==============================] - 0s 1ms/step - loss: 0.4253 - auc: 0.8873\n",
            "Epoch 100/100\n",
            "30/30 [==============================] - 0s 1ms/step - loss: 0.4252 - auc: 0.8863\n",
            "Confusion matrix:\n"
          ],
          "name": "stdout"
        },
        {
          "output_type": "display_data",
          "data": {
            "image/png": "[encoded data removed]",
            "text/plain": [
              "<Figure size 432x288 with 2 Axes>"
            ]
          },
          "metadata": {
            "tags": [],
            "needs_background": "light"
          }
        },
        {
          "output_type": "stream",
          "text": [
            "Accuracy:\n",
            "75.42%\n",
            "Classification report:\n",
            "              precision    recall  f1-score   support\n",
            "\n",
            "           0       0.75      0.76      0.76       239\n",
            "           1       0.76      0.75      0.75       241\n",
            "\n",
            "    accuracy                           0.75       480\n",
            "   macro avg       0.75      0.75      0.75       480\n",
            "weighted avg       0.75      0.75      0.75       480\n",
            "\n",
            "No Skill: ROC AUC=0.500\n",
            "Logistic: ROC AUC=0.828\n"
          ],
          "name": "stdout"
        },
        {
          "output_type": "display_data",
          "data": {
            "image/png": "[encoded data removed]",
            "text/plain": [
              "<Figure size 432x288 with 1 Axes>"
            ]
          },
          "metadata": {
            "tags": [],
            "needs_background": "light"
          }
        }
      ]
    }
  ]
}