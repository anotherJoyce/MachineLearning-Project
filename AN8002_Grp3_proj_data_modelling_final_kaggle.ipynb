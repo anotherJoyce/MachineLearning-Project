{
  "nbformat": 4,
  "nbformat_minor": 0,
  "metadata": {
    "colab": {
      "name": "Group Project finance",
      "provenance": [],
      "collapsed_sections": []
    },
    "kernelspec": {
      "display_name": "Python 3",
      "name": "python3"
    }
  },
  "cells": [
    {
      "cell_type": "code",
      "metadata": {
        "colab": {
          "base_uri": "https://localhost:8080/"
        },
        "id": "N-Ujag4XFgQG",
        "outputId": "e56c1a9e-6536-4eb8-fe90-a8d900aad3ee"
      },
      "source": [
        "# mount google colab\n",
        "from google.colab import drive\n",
        "drive.mount('/content/drive')"
      ],
      "execution_count": 1,
      "outputs": [
        {
          "output_type": "stream",
          "text": [
            "Mounted at /content/drive\n"
          ],
          "name": "stdout"
        }
      ]
    },
    {
      "cell_type": "code",
      "metadata": {
        "id": "0asvrBPG0TYl"
      },
      "source": [
        "import pandas as pd\n",
        "import numpy as np"
      ],
      "execution_count": 2,
      "outputs": []
    },
    {
      "cell_type": "code",
      "metadata": {
        "id": "9abes5BQ3Mf-"
      },
      "source": [
        "# draw ROC curve\n",
        "from sklearn.metrics import roc_curve\n",
        "from sklearn.metrics import roc_auc_score\n",
        "from sklearn.metrics import confusion_matrix\n",
        "import matplotlib.pyplot as plt\n",
        "\n",
        "\n",
        "def plot_roc_curve(test_y, probs):\n",
        "    # generate a no skill prediction (majority class)\n",
        "    ns_probs = [0 for _ in range(len(test_y))]\n",
        "    # calculate scores\n",
        "    ns_auc = roc_auc_score(test_y, ns_probs)\n",
        "    auc = roc_auc_score(test_y, probs)\n",
        "    # summarize scores\n",
        "    print('No Skill: ROC AUC=%.3f' % (ns_auc))\n",
        "    print('Model: ROC AUC=%.3f' % (auc))\n",
        "    # calculate roc curves\n",
        "    ns_fpr, ns_tpr, _ = roc_curve(test_y, ns_probs)\n",
        "    fpr, tpr, _ = roc_curve(test_y, probs)\n",
        "\n",
        "    # plot the roc curve for the model\n",
        "    plt.plot(ns_fpr, ns_tpr, linestyle='--', label='No Skill')\n",
        "    plt.plot(fpr, tpr, linestyle='--', label='Model')\n",
        "    # axis labels\n",
        "    plt.xlabel('False Positive Rate')\n",
        "    plt.ylabel('True Positive Rate')\n",
        "    # show the legend\n",
        "    plt.ylim((0,1))\n",
        "    plt.xlim((0,1))\n",
        "    plt.legend()\n",
        "    # show the plot\n",
        "    plt.show()"
      ],
      "execution_count": 4,
      "outputs": []
    },
    {
      "cell_type": "code",
      "metadata": {
        "id": "rZhXm3NHFhqT",
        "outputId": "456d0da3-0c1a-4be3-f45c-0a56b4f40a45",
        "colab": {
          "base_uri": "https://localhost:8080/"
        }
      },
      "source": [
        "def missing_values_table(df):\n",
        "    # Number of missing values\n",
        "    missing_val = df.isnull().sum()\n",
        "    # Percentage of missing values\n",
        "    missing_per = 100*df.isnull().sum()/len(df)\n",
        "    missing_val_table = pd.concat([missing_val,missing_per],axis=1)\n",
        "    missing_val_table_columns = missing_val_table.rename(columns={0 : 'Missing Values',1 : '% of Missing Values'})\n",
        "    missing_val_table_columns = missing_val_table_columns[missing_val_table_columns.iloc[:,1] != 0].sort_values('% of Missing Values',ascending=False).round(1)\n",
        "    return missing_val_table_columns\n",
        "\n",
        "print(missing_values_table(X_test))"
      ],
      "execution_count": 23,
      "outputs": [
        {
          "output_type": "stream",
          "text": [
            "                            Missing Values  % of Missing Values\n",
            "EMERGENCYSTATE_MODE                  22209                 45.6\n",
            "AMT_REQ_CREDIT_BUREAU_HOUR            6049                 12.4\n",
            "AMT_REQ_CREDIT_BUREAU_DAY             6049                 12.4\n",
            "AMT_REQ_CREDIT_BUREAU_WEEK            6049                 12.4\n"
          ],
          "name": "stdout"
        }
      ]
    },
    {
      "cell_type": "code",
      "metadata": {
        "id": "MffZwWMB3SNM"
      },
      "source": [
        "from sklearn.model_selection import train_test_split\n",
        "# df = pd.read_csv(\"/content/drive/My Drive/Colab Notebooks/application_train_cleaned_use_new.csv\", index_col=False).iloc[:,1:]\n",
        "df = pd.read_csv(\"/content/drive/MyDrive/kaggle/credit-default-risk/application_train_use.csv\", index_col=False).iloc[:,1:]\n",
        "df1 = pd.read_csv(\"/content/drive/MyDrive/kaggle/credit-default-risk/application_test_use.csv\", index_col=False).iloc[:,1:]\n",
        "df1\n",
        "# df_y = df.TARGET\n",
        "# df_x = df.drop(columns='TARGET')\n",
        "X_train=df.drop(columns='TARGET')\n",
        "X_test=df1.copy()\n",
        "\n",
        "# X_train, X_test, y_train, y_test = train_test_split(df_x, df_y, test_size=0.33, random_state=2020, shuffle = True)\n",
        "\n",
        "#remove col whose missing value is greater than 1000\n",
        "# X_train = df.loc[:,col_selected]\n",
        "# X_test = df1.loc[:,col_selected]\n",
        "# print(\"Train: \" , X_train.shape)\n",
        "# print(\"Test: \" , X_test.shape)"
      ],
      "execution_count": 5,
      "outputs": []
    },
    {
      "cell_type": "code",
      "metadata": {
        "id": "dkOU8T8cFv8l"
      },
      "source": [
        "X_train=X_train[X_train.columns[~X_train.columns.isin([\"EMERGENCYSTATE_MODE\",\"AMT_REQ_CREDIT_BUREAU_HOUR\",\"AMT_REQ_CREDIT_BUREAU_DAY\",\"AMT_REQ_CREDIT_BUREAU_WEEK\"])]]\n",
        "X_test = X_test[X_test.columns[~X_test.columns.isin([\"EMERGENCYSTATE_MODE\",\"AMT_REQ_CREDIT_BUREAU_HOUR\",\"AMT_REQ_CREDIT_BUREAU_DAY\",\"AMT_REQ_CREDIT_BUREAU_WEEK\"])]]"
      ],
      "execution_count": 6,
      "outputs": []
    },
    {
      "cell_type": "code",
      "metadata": {
        "id": "Gmu6zAk9GZEv"
      },
      "source": [
        "y_train = df.TARGET"
      ],
      "execution_count": 7,
      "outputs": []
    },
    {
      "cell_type": "code",
      "metadata": {
        "id": "dyhdnB-UDvMS",
        "outputId": "019b2453-db18-49a0-cbe6-7b445e6d221e",
        "colab": {
          "base_uri": "https://localhost:8080/"
        }
      },
      "source": [
        "print(missing_values_table(X_train))"
      ],
      "execution_count": 27,
      "outputs": [
        {
          "output_type": "stream",
          "text": [
            "Empty DataFrame\n",
            "Columns: [Missing Values, % of Missing Values]\n",
            "Index: []\n"
          ],
          "name": "stdout"
        }
      ]
    },
    {
      "cell_type": "code",
      "metadata": {
        "id": "Z9Ng-xdoDZSJ",
        "outputId": "953c406c-5d9f-4b41-8320-ea3c83f6396d",
        "colab": {
          "base_uri": "https://localhost:8080/"
        }
      },
      "source": [
        "print(X_train.shape)\n",
        "# X_test=X_test.dropna()\n",
        "print(X_test.shape)"
      ],
      "execution_count": 8,
      "outputs": [
        {
          "output_type": "stream",
          "text": [
            "(102087, 114)\n",
            "(48744, 114)\n"
          ],
          "name": "stdout"
        }
      ]
    },
    {
      "cell_type": "code",
      "metadata": {
        "id": "eW-iiH4p9UA7"
      },
      "source": [
        "from sklearn.preprocessing import OrdinalEncoder\n",
        "X_train_categorical = X_train.loc[:, X_train.dtypes == np.object]\n",
        "X_train_continuous = X_train.loc[:, X_train.dtypes != np.object]\n",
        "X_test_categorical = X_test.loc[:, X_test.dtypes == np.object]\n",
        "X_test_continuous = X_test.loc[:, X_test.dtypes != np.object]\n",
        "\n",
        "enc = OrdinalEncoder()\n",
        "enc.fit(X_train_categorical)\n",
        "X_train_categorical_enc = enc.transform(X_train_categorical)\n",
        "X_test_categorical_enc = enc.transform(X_test_categorical)\n",
        "\n",
        "X_train_enc = pd.concat([pd.DataFrame(X_train_categorical_enc, columns = X_train_categorical.columns, index = X_train_categorical.index), X_train_continuous], axis=1) \n",
        "X_test_enc = pd.concat([pd.DataFrame(X_test_categorical_enc, columns = X_test_categorical.columns, index = X_test_categorical.index), X_test_continuous], axis=1)"
      ],
      "execution_count": 9,
      "outputs": []
    },
    {
      "cell_type": "code",
      "metadata": {
        "colab": {
          "base_uri": "https://localhost:8080/",
          "height": 296
        },
        "id": "7ekqnbqYKTew",
        "outputId": "d62a740d-cc10-4517-f77b-ed510c4fbbd7"
      },
      "source": [
        "# from sklearn.feature_selection import SelectKBest, chi2, mutual_info_classif\n",
        "from sklearn.tree import DecisionTreeClassifier\n",
        "from sklearn.feature_selection import RFECV\n",
        "from sklearn.model_selection import StratifiedKFold\n",
        "\n",
        "# sk = SelectKBest(mutual_info_classif, k=15)\n",
        "# sk.fit(X_train_enc, y_train)\n",
        "# col_selected = X_train_enc.columns[sk.get_support(indices=True)]\n",
        "# print(col_selected)\n",
        "\n",
        "rfecv = RFECV(DecisionTreeClassifier(), step = 1, cv=StratifiedKFold(5), scoring='roc_auc')\n",
        "rfecv.fit(X_train_enc, y_train)\n",
        "col_selected = X_train_enc.columns[rfecv.get_support(indices=True)]\n",
        "\n",
        "print(\"Optimal number of features : %d\" % rfecv.n_features_)\n",
        "\n",
        "# Plot number of features VS. cross-validation scores\n",
        "plt.figure()\n",
        "plt.xlabel(\"Number of features selected\")\n",
        "plt.ylabel(\"Cross validation score (roc_auc)\")\n",
        "plt.plot(range(1,len(rfecv.grid_scores_) + 1),\n",
        "         rfecv.grid_scores_)\n",
        "plt.show()"
      ],
      "execution_count": 10,
      "outputs": [
        {
          "output_type": "stream",
          "text": [
            "Optimal number of features : 52\n"
          ],
          "name": "stdout"
        },
        {
          "output_type": "display_data",
          "data": {
            "image/png": "[encoded data removed]",
            "text/plain": [
              "<Figure size 432x288 with 1 Axes>"
            ]
          },
          "metadata": {
            "tags": [],
            "needs_background": "light"
          }
        }
      ]
    },
    {
      "cell_type": "code",
      "metadata": {
        "colab": {
          "base_uri": "https://localhost:8080/"
        },
        "id": "ZJmfJweqLFgW",
        "outputId": "7c07c8af-5abe-4eb1-bfaa-ed1f0d745daa"
      },
      "source": [
        "trainlen = X_train_enc.shape[0]\n",
        "dataset = pd.concat([X_train.loc[:,col_selected], X_test.loc[:,col_selected]], axis = 0)\n",
        "dataset_dummies = pd.get_dummies(dataset)\n",
        "X_train_dummies = dataset_dummies.iloc[:trainlen, :]\n",
        "X_test_dummies = dataset_dummies.iloc[trainlen:, :]\n",
        "print(\"Train: \" , X_train_dummies.shape)\n",
        "print(\"Test: \" , X_test_dummies.shape)"
      ],
      "execution_count": 11,
      "outputs": [
        {
          "output_type": "stream",
          "text": [
            "Train:  (102087, 122)\n",
            "Test:  (48744, 122)\n"
          ],
          "name": "stdout"
        }
      ]
    },
    {
      "cell_type": "code",
      "metadata": {
        "colab": {
          "base_uri": "https://localhost:8080/"
        },
        "id": "9CEy0BlsO3S3",
        "outputId": "cefa4fae-b55b-4608-b1de-8078de11ec35"
      },
      "source": [
        "from imblearn.over_sampling import SMOTENC\n",
        "from imblearn.under_sampling import TomekLinks, NeighbourhoodCleaningRule\n",
        "print(\"Train: \" , X_train_dummies.shape)\n",
        "print(\"positive: \" , np.sum(y_train == 1))\n",
        "print(\"negative \" , np.sum(y_train == 0))\n",
        "cf = (X_train_dummies.dtypes == np.int64) | (X_train_dummies.dtypes == np.uint8)\n",
        "smote = SMOTENC(categorical_features = cf, sampling_strategy=0.5, random_state=2020)\n",
        "X_train_dummies_resampled, y_train_resampled = smote.fit_resample(X_train_dummies, y_train)\n",
        "tl = TomekLinks(random_state=2020)\n",
        "X_train_dummies_resampled, y_train_resampled = tl.fit_resample(X_train_dummies_resampled, y_train_resampled)\n",
        "nc = NeighbourhoodCleaningRule(random_state=2020)\n",
        "X_train_dummies_resampled, y_train_resampled = nc.fit_resample(X_train_dummies_resampled, y_train_resampled)\n",
        "print(\"-----------resampling-----------------\")\n",
        "print(\"Train: \" , X_train_dummies_resampled.shape)\n",
        "print(\"positive: \" , np.sum(y_train_resampled == 1))\n",
        "print(\"negative \" , np.sum(y_train_resampled == 0))\n",
        "\n",
        "X_train_dummies_resampled = pd.DataFrame(X_train_dummies_resampled, columns = X_train_dummies.columns)\n"
      ],
      "execution_count": 13,
      "outputs": [
        {
          "output_type": "stream",
          "text": [
            "Train:  (102087, 122)\n",
            "positive:  8227\n",
            "negative  93860\n"
          ],
          "name": "stdout"
        },
        {
          "output_type": "stream",
          "text": [
            "/usr/local/lib/python3.7/dist-packages/sklearn/utils/deprecation.py:87: FutureWarning: Function safe_indexing is deprecated; safe_indexing is deprecated in version 0.22 and will be removed in version 0.24.\n",
            "  warnings.warn(msg, category=FutureWarning)\n",
            "/usr/local/lib/python3.7/dist-packages/sklearn/utils/deprecation.py:87: FutureWarning: Function safe_indexing is deprecated; safe_indexing is deprecated in version 0.22 and will be removed in version 0.24.\n",
            "  warnings.warn(msg, category=FutureWarning)\n",
            "/usr/local/lib/python3.7/dist-packages/sklearn/utils/deprecation.py:87: FutureWarning: Function safe_indexing is deprecated; safe_indexing is deprecated in version 0.22 and will be removed in version 0.24.\n",
            "  warnings.warn(msg, category=FutureWarning)\n",
            "/usr/local/lib/python3.7/dist-packages/sklearn/utils/deprecation.py:87: FutureWarning: Function safe_indexing is deprecated; safe_indexing is deprecated in version 0.22 and will be removed in version 0.24.\n",
            "  warnings.warn(msg, category=FutureWarning)\n",
            "/usr/local/lib/python3.7/dist-packages/sklearn/utils/deprecation.py:87: FutureWarning: Function safe_indexing is deprecated; safe_indexing is deprecated in version 0.22 and will be removed in version 0.24.\n",
            "  warnings.warn(msg, category=FutureWarning)\n",
            "/usr/local/lib/python3.7/dist-packages/sklearn/utils/deprecation.py:87: FutureWarning: Function safe_indexing is deprecated; safe_indexing is deprecated in version 0.22 and will be removed in version 0.24.\n",
            "  warnings.warn(msg, category=FutureWarning)\n"
          ],
          "name": "stderr"
        },
        {
          "output_type": "stream",
          "text": [
            "-----------resampling-----------------\n",
            "Train:  (114143, 122)\n",
            "positive:  46930\n",
            "negative  67213\n"
          ],
          "name": "stdout"
        },
        {
          "output_type": "stream",
          "text": [
            "/usr/local/lib/python3.7/dist-packages/sklearn/utils/deprecation.py:87: FutureWarning: Function safe_indexing is deprecated; safe_indexing is deprecated in version 0.22 and will be removed in version 0.24.\n",
            "  warnings.warn(msg, category=FutureWarning)\n"
          ],
          "name": "stderr"
        }
      ]
    },
    {
      "cell_type": "code",
      "metadata": {
        "colab": {
          "base_uri": "https://localhost:8080/"
        },
        "id": "1Eb9MVIKb4yu",
        "outputId": "7d2d6d1d-bb1e-44c5-eb0a-43654cc6dfce"
      },
      "source": [
        "from sklearn.model_selection import RandomizedSearchCV\n",
        "from sklearn.ensemble import RandomForestClassifier\n",
        "\n",
        "# Number of trees in random forest\n",
        "n_estimators = [100]\n",
        "# Number of features to consider at every split\n",
        "max_features = ['log2', 'sqrt', None]\n",
        "# Maximum number of levels in tree\n",
        "max_depth = [int(x) for x in np.linspace(50, 100, num = 22)]\n",
        "max_depth.append(None)\n",
        "# Minimum number of samples required to split a node\n",
        "min_samples_split = [1,2,3,4, 5, 6]\n",
        "# Minimum number of samples required at each leaf node\n",
        "min_samples_leaf = [1,2,3]\n",
        "# Method of selecting samples for training each tree\n",
        "bootstrap = [True]\n",
        "#The function to measure the quality of a split.\n",
        "criterion = ['gini', 'entropy']\n",
        "# Create the random grid\n",
        "random_grid = {'n_estimators': n_estimators,\n",
        "               'max_features': max_features,\n",
        "               'max_depth': max_depth,\n",
        "               'min_samples_split': min_samples_split,\n",
        "               'min_samples_leaf': min_samples_leaf,\n",
        "               'bootstrap': bootstrap,\n",
        "               'criterion': criterion}\n",
        "print(random_grid)\n",
        "\n",
        "\n",
        "\n",
        "\n",
        "# initialize the model \n",
        "rf = RandomForestClassifier()\n",
        "# search across 100 different combinations, and use all available cores\n",
        "rf_random = RandomizedSearchCV(estimator = rf, param_distributions = random_grid, n_iter = 100, scoring = 'roc_auc', cv = 3, verbose=2, random_state=2020)\n",
        "# Fit the random search model\n",
        "rf_random.fit(X_train_dummies_resampled, y_train_resampled)\n",
        "print(xgb_random.best_params_)\n",
        "\n",
        "y_pred = xgb_random.predict(X_test_dummies.to_numpy())\n",
        "print('accuracy: {:.2f}%'.format(accuracy_score(y_test, y_pred)*100))\n",
        "print('precision: {:.2f}%'.format(precision_score(y_test, y_pred)*100))\n",
        "print('recall: {:.2f}%'.format(recall_score(y_test, y_pred)*100))\n",
        "print(confusion_matrix(y_test, y_pred))\n",
        "\n",
        "# predict probabilities\n",
        "xgb_probs = xgb_random.predict_proba(X_test_dummies.to_numpy())\n",
        "# keep for the positive outcome only\n",
        "xgb_probs = xgb_probs[:,1]\n",
        "plot_roc_curve(y_test, xgb_probs)"
      ],
      "execution_count": null,
      "outputs": [
        {
          "output_type": "stream",
          "text": [
            "{'n_estimators': [100], 'max_features': ['log2', 'sqrt', None], 'max_depth': [50, 52, 54, 57, 59, 61, 64, 66, 69, 71, 73, 76, 78, 80, 83, 85, 88, 90, 92, 95, 97, 100, None], 'min_samples_split': [1, 2, 3, 4, 5, 6], 'min_samples_leaf': [1, 2, 3], 'bootstrap': [True], 'criterion': ['gini', 'entropy']}\n",
            "Fitting 3 folds for each of 100 candidates, totalling 300 fits\n",
            "[CV] n_estimators=100, min_samples_split=1, min_samples_leaf=1, max_features=log2, max_depth=73, criterion=gini, bootstrap=True \n",
            "[CV]  n_estimators=100, min_samples_split=1, min_samples_leaf=1, max_features=log2, max_depth=73, criterion=gini, bootstrap=True, total=   0.1s\n",
            "[CV] n_estimators=100, min_samples_split=1, min_samples_leaf=1, max_features=log2, max_depth=73, criterion=gini, bootstrap=True \n"
          ],
          "name": "stdout"
        },
        {
          "output_type": "stream",
          "text": [
            "[Parallel(n_jobs=1)]: Using backend SequentialBackend with 1 concurrent workers.\n",
            "/usr/local/lib/python3.7/dist-packages/sklearn/model_selection/_validation.py:536: FitFailedWarning: Estimator fit failed. The score on this train-test partition for these parameters will be set to nan. Details: \n",
            "ValueError: min_samples_split must be an integer greater than 1 or a float in (0.0, 1.0]; got the integer 1\n",
            "\n",
            "  FitFailedWarning)\n",
            "[Parallel(n_jobs=1)]: Done   1 out of   1 | elapsed:    0.1s remaining:    0.0s\n",
            "/usr/local/lib/python3.7/dist-packages/sklearn/model_selection/_validation.py:536: FitFailedWarning: Estimator fit failed. The score on this train-test partition for these parameters will be set to nan. Details: \n",
            "ValueError: min_samples_split must be an integer greater than 1 or a float in (0.0, 1.0]; got the integer 1\n",
            "\n",
            "  FitFailedWarning)\n",
            "/usr/local/lib/python3.7/dist-packages/sklearn/model_selection/_validation.py:536: FitFailedWarning: Estimator fit failed. The score on this train-test partition for these parameters will be set to nan. Details: \n",
            "ValueError: min_samples_split must be an integer greater than 1 or a float in (0.0, 1.0]; got the integer 1\n",
            "\n",
            "  FitFailedWarning)\n"
          ],
          "name": "stderr"
        },
        {
          "output_type": "stream",
          "text": [
            "[CV]  n_estimators=100, min_samples_split=1, min_samples_leaf=1, max_features=log2, max_depth=73, criterion=gini, bootstrap=True, total=   0.1s\n",
            "[CV] n_estimators=100, min_samples_split=1, min_samples_leaf=1, max_features=log2, max_depth=73, criterion=gini, bootstrap=True \n",
            "[CV]  n_estimators=100, min_samples_split=1, min_samples_leaf=1, max_features=log2, max_depth=73, criterion=gini, bootstrap=True, total=   0.1s\n",
            "[CV] n_estimators=100, min_samples_split=5, min_samples_leaf=1, max_features=sqrt, max_depth=71, criterion=gini, bootstrap=True \n",
            "[CV]  n_estimators=100, min_samples_split=5, min_samples_leaf=1, max_features=sqrt, max_depth=71, criterion=gini, bootstrap=True, total=  45.3s\n",
            "[CV] n_estimators=100, min_samples_split=5, min_samples_leaf=1, max_features=sqrt, max_depth=71, criterion=gini, bootstrap=True \n",
            "[CV]  n_estimators=100, min_samples_split=5, min_samples_leaf=1, max_features=sqrt, max_depth=71, criterion=gini, bootstrap=True, total=  45.2s\n",
            "[CV] n_estimators=100, min_samples_split=5, min_samples_leaf=1, max_features=sqrt, max_depth=71, criterion=gini, bootstrap=True \n",
            "[CV]  n_estimators=100, min_samples_split=5, min_samples_leaf=1, max_features=sqrt, max_depth=71, criterion=gini, bootstrap=True, total=  43.3s\n",
            "[CV] n_estimators=100, min_samples_split=3, min_samples_leaf=3, max_features=log2, max_depth=61, criterion=entropy, bootstrap=True \n",
            "[CV]  n_estimators=100, min_samples_split=3, min_samples_leaf=3, max_features=log2, max_depth=61, criterion=entropy, bootstrap=True, total=  36.8s\n",
            "[CV] n_estimators=100, min_samples_split=3, min_samples_leaf=3, max_features=log2, max_depth=61, criterion=entropy, bootstrap=True \n",
            "[CV]  n_estimators=100, min_samples_split=3, min_samples_leaf=3, max_features=log2, max_depth=61, criterion=entropy, bootstrap=True, total=  37.1s\n",
            "[CV] n_estimators=100, min_samples_split=3, min_samples_leaf=3, max_features=log2, max_depth=61, criterion=entropy, bootstrap=True \n",
            "[CV]  n_estimators=100, min_samples_split=3, min_samples_leaf=3, max_features=log2, max_depth=61, criterion=entropy, bootstrap=True, total=  36.5s\n",
            "[CV] n_estimators=100, min_samples_split=2, min_samples_leaf=3, max_features=log2, max_depth=76, criterion=entropy, bootstrap=True \n",
            "[CV]  n_estimators=100, min_samples_split=2, min_samples_leaf=3, max_features=log2, max_depth=76, criterion=entropy, bootstrap=True, total=  37.2s\n",
            "[CV] n_estimators=100, min_samples_split=2, min_samples_leaf=3, max_features=log2, max_depth=76, criterion=entropy, bootstrap=True \n",
            "[CV]  n_estimators=100, min_samples_split=2, min_samples_leaf=3, max_features=log2, max_depth=76, criterion=entropy, bootstrap=True, total=  36.3s\n",
            "[CV] n_estimators=100, min_samples_split=2, min_samples_leaf=3, max_features=log2, max_depth=76, criterion=entropy, bootstrap=True \n",
            "[CV]  n_estimators=100, min_samples_split=2, min_samples_leaf=3, max_features=log2, max_depth=76, criterion=entropy, bootstrap=True, total=  36.8s\n",
            "[CV] n_estimators=100, min_samples_split=1, min_samples_leaf=1, max_features=None, max_depth=54, criterion=entropy, bootstrap=True \n"
          ],
          "name": "stdout"
        },
        {
          "output_type": "stream",
          "text": [
            "/usr/local/lib/python3.7/dist-packages/sklearn/model_selection/_validation.py:536: FitFailedWarning: Estimator fit failed. The score on this train-test partition for these parameters will be set to nan. Details: \n",
            "ValueError: min_samples_split must be an integer greater than 1 or a float in (0.0, 1.0]; got the integer 1\n",
            "\n",
            "  FitFailedWarning)\n",
            "/usr/local/lib/python3.7/dist-packages/sklearn/model_selection/_validation.py:536: FitFailedWarning: Estimator fit failed. The score on this train-test partition for these parameters will be set to nan. Details: \n",
            "ValueError: min_samples_split must be an integer greater than 1 or a float in (0.0, 1.0]; got the integer 1\n",
            "\n",
            "  FitFailedWarning)\n"
          ],
          "name": "stderr"
        },
        {
          "output_type": "stream",
          "text": [
            "[CV]  n_estimators=100, min_samples_split=1, min_samples_leaf=1, max_features=None, max_depth=54, criterion=entropy, bootstrap=True, total=   0.1s\n",
            "[CV] n_estimators=100, min_samples_split=1, min_samples_leaf=1, max_features=None, max_depth=54, criterion=entropy, bootstrap=True \n",
            "[CV]  n_estimators=100, min_samples_split=1, min_samples_leaf=1, max_features=None, max_depth=54, criterion=entropy, bootstrap=True, total=   0.1s\n",
            "[CV] n_estimators=100, min_samples_split=1, min_samples_leaf=1, max_features=None, max_depth=54, criterion=entropy, bootstrap=True \n"
          ],
          "name": "stdout"
        },
        {
          "output_type": "stream",
          "text": [
            "/usr/local/lib/python3.7/dist-packages/sklearn/model_selection/_validation.py:536: FitFailedWarning: Estimator fit failed. The score on this train-test partition for these parameters will be set to nan. Details: \n",
            "ValueError: min_samples_split must be an integer greater than 1 or a float in (0.0, 1.0]; got the integer 1\n",
            "\n",
            "  FitFailedWarning)\n",
            "/usr/local/lib/python3.7/dist-packages/sklearn/model_selection/_validation.py:536: FitFailedWarning: Estimator fit failed. The score on this train-test partition for these parameters will be set to nan. Details: \n",
            "ValueError: min_samples_split must be an integer greater than 1 or a float in (0.0, 1.0]; got the integer 1\n",
            "\n",
            "  FitFailedWarning)\n"
          ],
          "name": "stderr"
        },
        {
          "output_type": "stream",
          "text": [
            "[CV]  n_estimators=100, min_samples_split=1, min_samples_leaf=1, max_features=None, max_depth=54, criterion=entropy, bootstrap=True, total=   0.1s\n",
            "[CV] n_estimators=100, min_samples_split=1, min_samples_leaf=2, max_features=None, max_depth=64, criterion=gini, bootstrap=True \n",
            "[CV]  n_estimators=100, min_samples_split=1, min_samples_leaf=2, max_features=None, max_depth=64, criterion=gini, bootstrap=True, total=   0.1s\n",
            "[CV] n_estimators=100, min_samples_split=1, min_samples_leaf=2, max_features=None, max_depth=64, criterion=gini, bootstrap=True \n"
          ],
          "name": "stdout"
        },
        {
          "output_type": "stream",
          "text": [
            "/usr/local/lib/python3.7/dist-packages/sklearn/model_selection/_validation.py:536: FitFailedWarning: Estimator fit failed. The score on this train-test partition for these parameters will be set to nan. Details: \n",
            "ValueError: min_samples_split must be an integer greater than 1 or a float in (0.0, 1.0]; got the integer 1\n",
            "\n",
            "  FitFailedWarning)\n",
            "/usr/local/lib/python3.7/dist-packages/sklearn/model_selection/_validation.py:536: FitFailedWarning: Estimator fit failed. The score on this train-test partition for these parameters will be set to nan. Details: \n",
            "ValueError: min_samples_split must be an integer greater than 1 or a float in (0.0, 1.0]; got the integer 1\n",
            "\n",
            "  FitFailedWarning)\n"
          ],
          "name": "stderr"
        },
        {
          "output_type": "stream",
          "text": [
            "[CV]  n_estimators=100, min_samples_split=1, min_samples_leaf=2, max_features=None, max_depth=64, criterion=gini, bootstrap=True, total=   0.1s\n",
            "[CV] n_estimators=100, min_samples_split=1, min_samples_leaf=2, max_features=None, max_depth=64, criterion=gini, bootstrap=True \n",
            "[CV]  n_estimators=100, min_samples_split=1, min_samples_leaf=2, max_features=None, max_depth=64, criterion=gini, bootstrap=True, total=   0.1s\n",
            "[CV] n_estimators=100, min_samples_split=2, min_samples_leaf=1, max_features=None, max_depth=61, criterion=gini, bootstrap=True \n",
            "[CV]  n_estimators=100, min_samples_split=2, min_samples_leaf=1, max_features=None, max_depth=61, criterion=gini, bootstrap=True, total= 6.9min\n",
            "[CV] n_estimators=100, min_samples_split=2, min_samples_leaf=1, max_features=None, max_depth=61, criterion=gini, bootstrap=True \n",
            "[CV]  n_estimators=100, min_samples_split=2, min_samples_leaf=1, max_features=None, max_depth=61, criterion=gini, bootstrap=True, total= 7.1min\n",
            "[CV] n_estimators=100, min_samples_split=2, min_samples_leaf=1, max_features=None, max_depth=61, criterion=gini, bootstrap=True \n",
            "[CV]  n_estimators=100, min_samples_split=2, min_samples_leaf=1, max_features=None, max_depth=61, criterion=gini, bootstrap=True, total= 7.1min\n",
            "[CV] n_estimators=100, min_samples_split=6, min_samples_leaf=3, max_features=sqrt, max_depth=92, criterion=entropy, bootstrap=True \n",
            "[CV]  n_estimators=100, min_samples_split=6, min_samples_leaf=3, max_features=sqrt, max_depth=92, criterion=entropy, bootstrap=True, total=  56.3s\n",
            "[CV] n_estimators=100, min_samples_split=6, min_samples_leaf=3, max_features=sqrt, max_depth=92, criterion=entropy, bootstrap=True \n",
            "[CV]  n_estimators=100, min_samples_split=6, min_samples_leaf=3, max_features=sqrt, max_depth=92, criterion=entropy, bootstrap=True, total=  58.1s\n",
            "[CV] n_estimators=100, min_samples_split=6, min_samples_leaf=3, max_features=sqrt, max_depth=92, criterion=entropy, bootstrap=True \n",
            "[CV]  n_estimators=100, min_samples_split=6, min_samples_leaf=3, max_features=sqrt, max_depth=92, criterion=entropy, bootstrap=True, total=  57.9s\n",
            "[CV] n_estimators=100, min_samples_split=4, min_samples_leaf=2, max_features=sqrt, max_depth=76, criterion=gini, bootstrap=True \n",
            "[CV]  n_estimators=100, min_samples_split=4, min_samples_leaf=2, max_features=sqrt, max_depth=76, criterion=gini, bootstrap=True, total=  44.8s\n",
            "[CV] n_estimators=100, min_samples_split=4, min_samples_leaf=2, max_features=sqrt, max_depth=76, criterion=gini, bootstrap=True \n",
            "[CV]  n_estimators=100, min_samples_split=4, min_samples_leaf=2, max_features=sqrt, max_depth=76, criterion=gini, bootstrap=True, total=  43.6s\n",
            "[CV] n_estimators=100, min_samples_split=4, min_samples_leaf=2, max_features=sqrt, max_depth=76, criterion=gini, bootstrap=True \n",
            "[CV]  n_estimators=100, min_samples_split=4, min_samples_leaf=2, max_features=sqrt, max_depth=76, criterion=gini, bootstrap=True, total=  43.2s\n",
            "[CV] n_estimators=100, min_samples_split=2, min_samples_leaf=3, max_features=sqrt, max_depth=100, criterion=gini, bootstrap=True \n",
            "[CV]  n_estimators=100, min_samples_split=2, min_samples_leaf=3, max_features=sqrt, max_depth=100, criterion=gini, bootstrap=True, total=  44.3s\n",
            "[CV] n_estimators=100, min_samples_split=2, min_samples_leaf=3, max_features=sqrt, max_depth=100, criterion=gini, bootstrap=True \n",
            "[CV]  n_estimators=100, min_samples_split=2, min_samples_leaf=3, max_features=sqrt, max_depth=100, criterion=gini, bootstrap=True, total=  41.8s\n",
            "[CV] n_estimators=100, min_samples_split=2, min_samples_leaf=3, max_features=sqrt, max_depth=100, criterion=gini, bootstrap=True \n",
            "[CV]  n_estimators=100, min_samples_split=2, min_samples_leaf=3, max_features=sqrt, max_depth=100, criterion=gini, bootstrap=True, total=  41.4s\n",
            "[CV] n_estimators=100, min_samples_split=6, min_samples_leaf=1, max_features=log2, max_depth=97, criterion=entropy, bootstrap=True \n",
            "[CV]  n_estimators=100, min_samples_split=6, min_samples_leaf=1, max_features=log2, max_depth=97, criterion=entropy, bootstrap=True, total=  39.9s\n",
            "[CV] n_estimators=100, min_samples_split=6, min_samples_leaf=1, max_features=log2, max_depth=97, criterion=entropy, bootstrap=True \n",
            "[CV]  n_estimators=100, min_samples_split=6, min_samples_leaf=1, max_features=log2, max_depth=97, criterion=entropy, bootstrap=True, total=  40.2s\n",
            "[CV] n_estimators=100, min_samples_split=6, min_samples_leaf=1, max_features=log2, max_depth=97, criterion=entropy, bootstrap=True \n",
            "[CV]  n_estimators=100, min_samples_split=6, min_samples_leaf=1, max_features=log2, max_depth=97, criterion=entropy, bootstrap=True, total=  39.5s\n",
            "[CV] n_estimators=100, min_samples_split=4, min_samples_leaf=2, max_features=None, max_depth=50, criterion=entropy, bootstrap=True \n",
            "[CV]  n_estimators=100, min_samples_split=4, min_samples_leaf=2, max_features=None, max_depth=50, criterion=entropy, bootstrap=True, total= 7.3min\n",
            "[CV] n_estimators=100, min_samples_split=4, min_samples_leaf=2, max_features=None, max_depth=50, criterion=entropy, bootstrap=True \n",
            "[CV]  n_estimators=100, min_samples_split=4, min_samples_leaf=2, max_features=None, max_depth=50, criterion=entropy, bootstrap=True, total= 7.8min\n",
            "[CV] n_estimators=100, min_samples_split=4, min_samples_leaf=2, max_features=None, max_depth=50, criterion=entropy, bootstrap=True \n",
            "[CV]  n_estimators=100, min_samples_split=4, min_samples_leaf=2, max_features=None, max_depth=50, criterion=entropy, bootstrap=True, total= 7.8min\n",
            "[CV] n_estimators=100, min_samples_split=6, min_samples_leaf=2, max_features=sqrt, max_depth=61, criterion=entropy, bootstrap=True \n",
            "[CV]  n_estimators=100, min_samples_split=6, min_samples_leaf=2, max_features=sqrt, max_depth=61, criterion=entropy, bootstrap=True, total=  55.6s\n",
            "[CV] n_estimators=100, min_samples_split=6, min_samples_leaf=2, max_features=sqrt, max_depth=61, criterion=entropy, bootstrap=True \n",
            "[CV]  n_estimators=100, min_samples_split=6, min_samples_leaf=2, max_features=sqrt, max_depth=61, criterion=entropy, bootstrap=True, total=  56.3s\n",
            "[CV] n_estimators=100, min_samples_split=6, min_samples_leaf=2, max_features=sqrt, max_depth=61, criterion=entropy, bootstrap=True \n",
            "[CV]  n_estimators=100, min_samples_split=6, min_samples_leaf=2, max_features=sqrt, max_depth=61, criterion=entropy, bootstrap=True, total=  56.7s\n",
            "[CV] n_estimators=100, min_samples_split=5, min_samples_leaf=2, max_features=None, max_depth=90, criterion=entropy, bootstrap=True \n",
            "[CV]  n_estimators=100, min_samples_split=5, min_samples_leaf=2, max_features=None, max_depth=90, criterion=entropy, bootstrap=True, total= 7.1min\n",
            "[CV] n_estimators=100, min_samples_split=5, min_samples_leaf=2, max_features=None, max_depth=90, criterion=entropy, bootstrap=True \n",
            "[CV]  n_estimators=100, min_samples_split=5, min_samples_leaf=2, max_features=None, max_depth=90, criterion=entropy, bootstrap=True, total= 7.7min\n",
            "[CV] n_estimators=100, min_samples_split=5, min_samples_leaf=2, max_features=None, max_depth=90, criterion=entropy, bootstrap=True \n",
            "[CV]  n_estimators=100, min_samples_split=5, min_samples_leaf=2, max_features=None, max_depth=90, criterion=entropy, bootstrap=True, total= 7.8min\n",
            "[CV] n_estimators=100, min_samples_split=4, min_samples_leaf=2, max_features=None, max_depth=88, criterion=entropy, bootstrap=True \n",
            "[CV]  n_estimators=100, min_samples_split=4, min_samples_leaf=2, max_features=None, max_depth=88, criterion=entropy, bootstrap=True, total= 7.3min\n",
            "[CV] n_estimators=100, min_samples_split=4, min_samples_leaf=2, max_features=None, max_depth=88, criterion=entropy, bootstrap=True \n",
            "[CV]  n_estimators=100, min_samples_split=4, min_samples_leaf=2, max_features=None, max_depth=88, criterion=entropy, bootstrap=True, total= 7.8min\n",
            "[CV] n_estimators=100, min_samples_split=4, min_samples_leaf=2, max_features=None, max_depth=88, criterion=entropy, bootstrap=True \n",
            "[CV]  n_estimators=100, min_samples_split=4, min_samples_leaf=2, max_features=None, max_depth=88, criterion=entropy, bootstrap=True, total= 7.8min\n",
            "[CV] n_estimators=100, min_samples_split=6, min_samples_leaf=3, max_features=None, max_depth=92, criterion=gini, bootstrap=True \n",
            "[CV]  n_estimators=100, min_samples_split=6, min_samples_leaf=3, max_features=None, max_depth=92, criterion=gini, bootstrap=True, total= 6.7min\n",
            "[CV] n_estimators=100, min_samples_split=6, min_samples_leaf=3, max_features=None, max_depth=92, criterion=gini, bootstrap=True \n",
            "[CV]  n_estimators=100, min_samples_split=6, min_samples_leaf=3, max_features=None, max_depth=92, criterion=gini, bootstrap=True, total= 6.6min\n",
            "[CV] n_estimators=100, min_samples_split=6, min_samples_leaf=3, max_features=None, max_depth=92, criterion=gini, bootstrap=True \n",
            "[CV]  n_estimators=100, min_samples_split=6, min_samples_leaf=3, max_features=None, max_depth=92, criterion=gini, bootstrap=True, total= 6.4min\n",
            "[CV] n_estimators=100, min_samples_split=5, min_samples_leaf=2, max_features=log2, max_depth=66, criterion=gini, bootstrap=True \n",
            "[CV]  n_estimators=100, min_samples_split=5, min_samples_leaf=2, max_features=log2, max_depth=66, criterion=gini, bootstrap=True, total=  28.1s\n",
            "[CV] n_estimators=100, min_samples_split=5, min_samples_leaf=2, max_features=log2, max_depth=66, criterion=gini, bootstrap=True \n",
            "[CV]  n_estimators=100, min_samples_split=5, min_samples_leaf=2, max_features=log2, max_depth=66, criterion=gini, bootstrap=True, total=  26.6s\n",
            "[CV] n_estimators=100, min_samples_split=5, min_samples_leaf=2, max_features=log2, max_depth=66, criterion=gini, bootstrap=True \n",
            "[CV]  n_estimators=100, min_samples_split=5, min_samples_leaf=2, max_features=log2, max_depth=66, criterion=gini, bootstrap=True, total=  26.2s\n",
            "[CV] n_estimators=100, min_samples_split=5, min_samples_leaf=1, max_features=None, max_depth=95, criterion=gini, bootstrap=True \n",
            "[CV]  n_estimators=100, min_samples_split=5, min_samples_leaf=1, max_features=None, max_depth=95, criterion=gini, bootstrap=True, total= 6.9min\n",
            "[CV] n_estimators=100, min_samples_split=5, min_samples_leaf=1, max_features=None, max_depth=95, criterion=gini, bootstrap=True \n"
          ],
          "name": "stdout"
        }
      ]
    },
    {
      "cell_type": "code",
      "metadata": {
        "colab": {
          "base_uri": "https://localhost:8080/",
          "height": 1000
        },
        "id": "DSylPxA9ImGt",
        "outputId": "561eabbb-ca6d-48ef-d424-a3c8b3e49a12"
      },
      "source": [
        "from sklearn.ensemble import RandomForestClassifier\n",
        "\n",
        "rf = RandomForestClassifier(n_estimators=100, min_samples_split=5, min_samples_leaf=1, max_features=None, max_depth=19, bootstrap=True)\n",
        "\n",
        "\n",
        "rf.fit(X_train_dummies_resampled, y_train_resampled)\n",
        "\n",
        "# predict probabilities\n",
        "rf_probs = rf.predict_proba(X_test_dummies.to_numpy())\n",
        "rf_probs = rf_probs[:,1]\n",
        "plot_roc_curve(y_test, rf_probs)\n",
        "# keep for the positive outcome only\n",
        "y_pred = (rf_probs > 0.3).astype(int)\n",
        "# print('accuracy: {:.2f}%'.format(accuracy_score(y_test, y_pred)*100))\n",
        "# print('precision: {:.2f}%'.format(precision_score(y_test, y_pred)*100))\n",
        "# print('recall: {:.2f}%'.format(recall_score(y_test, y_pred)*100))\n",
        "# print(confusion_matrix(y_test, y_pred))"
      ],
      "execution_count": null,
      "outputs": [
        {
          "output_type": "stream",
          "text": [
            "No Skill: ROC AUC=0.500\n",
            "Model: ROC AUC=0.713\n"
          ],
          "name": "stdout"
        },
        {
          "output_type": "display_data",
          "data": {
            "image/png": "[encoded data removed]",
            "text/plain": [
              "<Figure size 432x288 with 1 Axes>"
            ]
          },
          "metadata": {
            "tags": [],
            "needs_background": "light"
          }
        },
        {
          "output_type": "stream",
          "text": [
            "accuracy: 82.44%\n",
            "precision: 20.49%\n",
            "recall: 40.39%\n",
            "[[17310  2782]\n",
            " [ 1058   717]]\n"
          ],
          "name": "stdout"
        },
        {
          "output_type": "execute_result",
          "data": {
            "text/plain": [
              "array([9.32655175e-04, 1.33975248e-04, 9.58617246e-04, 1.10478262e-03,\n",
              "       1.58710332e-03, 6.97074534e-03, 3.55566744e-04, 3.11525199e-04,\n",
              "       4.09066301e-04, 5.14490717e-04, 1.15382362e-03, 3.57117434e-04,\n",
              "       3.52476293e-04, 1.13782107e-03, 1.44814412e-04, 3.47783399e-05,\n",
              "       1.82604928e-04, 9.86563089e-05, 7.25375616e-03, 9.26346414e-03,\n",
              "       7.61272120e-03, 9.62107358e-03, 1.32852237e-01, 1.65007101e-02,\n",
              "       1.16787717e-02, 6.02215939e-02, 2.14288571e-02, 7.00489920e-03,\n",
              "       8.81200534e-03, 8.45675253e-03, 8.78168115e-03, 5.38809351e-02,\n",
              "       1.23998459e-01, 2.12313889e-03, 2.63350204e-03, 2.56578182e-03,\n",
              "       4.34250198e-03, 3.90715831e-03, 1.22863751e-03, 2.36188961e-03,\n",
              "       3.24322957e-03, 7.75819320e-03, 3.32865326e-03, 2.72159425e-03,\n",
              "       2.44139245e-03, 6.36712529e-03, 3.00350416e-03, 2.58521795e-03,\n",
              "       3.39169609e-03, 2.96617092e-03, 5.33800048e-03, 4.93133262e-03,\n",
              "       7.03522394e-03, 3.87032005e-03, 6.55004756e-03, 2.09136887e-02,\n",
              "       4.26684901e-03, 3.37363010e-03, 3.17893484e-03, 6.77256472e-02,\n",
              "       3.37046938e-03, 1.96166039e-03, 2.56486328e-03, 2.61072481e-03,\n",
              "       3.96720798e-03, 3.65528407e-03, 1.56088634e-03, 2.08865067e-03,\n",
              "       5.07650525e-03, 9.25595023e-03, 3.25805284e-03, 2.66960607e-03,\n",
              "       2.25952442e-03, 1.90465084e-02, 2.66582925e-03, 4.44084975e-03,\n",
              "       4.89826108e-03, 3.71372433e-03, 5.17330546e-03, 2.34464075e-03,\n",
              "       8.58861261e-03, 1.71999874e-02, 4.13754488e-03, 3.68926899e-03,\n",
              "       5.60400065e-03, 8.55405046e-03, 4.15099782e-04, 3.90613688e-04,\n",
              "       1.03480304e-03, 8.93156580e-04, 6.11223310e-04, 5.32738766e-04,\n",
              "       5.51122785e-04, 5.66219085e-04, 3.27520919e-04, 1.13278328e-03,\n",
              "       1.70352813e-06, 8.51907130e-04, 1.20106019e-03, 3.50865659e-04,\n",
              "       1.38405091e-03, 1.84511027e-05, 2.23925903e-02, 1.55746885e-03,\n",
              "       1.15782795e-03, 0.00000000e+00, 5.54052682e-03, 4.37268313e-04,\n",
              "       3.34050604e-04, 2.80487173e-03, 9.31908582e-04, 2.53537462e-03,\n",
              "       1.57301184e-03, 8.22852831e-04, 1.36371158e-03, 2.11153430e-04,\n",
              "       5.56528935e-04, 5.63521520e-04, 2.23001337e-04, 3.34530529e-04,\n",
              "       4.97789902e-04, 5.97696373e-04, 9.97828093e-04, 5.93889627e-04,\n",
              "       7.53376998e-03, 1.44217471e-03, 7.04762720e-05, 1.67182580e-03,\n",
              "       2.09603217e-05, 8.92439439e-04, 3.45108821e-04, 1.86792621e-03,\n",
              "       4.22045411e-04, 3.39478891e-04, 5.79737717e-05, 1.28596819e-03,\n",
              "       1.78803667e-04, 1.57750021e-03, 1.34393681e-03, 2.58235838e-04,\n",
              "       1.82226875e-03, 4.04715644e-03, 1.97140465e-03, 2.19331809e-03,\n",
              "       2.10511259e-03, 1.65613458e-03, 1.38451933e-03, 1.96705549e-04,\n",
              "       1.55222169e-04, 1.50284678e-04, 9.06067190e-04, 8.64937919e-07,\n",
              "       7.31391645e-04, 9.51208867e-05, 1.92440223e-04, 9.22526162e-05,\n",
              "       2.05213478e-03, 1.42835984e-04, 7.73200067e-04, 2.62695436e-03,\n",
              "       6.62576548e-05, 3.35823119e-04, 1.03409780e-04, 5.15257058e-03,\n",
              "       1.54384617e-04, 1.12776437e-04, 2.28674705e-04, 1.09243589e-04,\n",
              "       1.59468640e-04, 0.00000000e+00, 3.37910197e-04, 6.44908292e-04,\n",
              "       5.35439049e-04, 1.76036643e-04, 1.14957932e-03, 1.68594221e-04,\n",
              "       5.83698860e-05, 1.19152872e-03, 1.17333607e-03, 1.00075057e-04,\n",
              "       5.12552698e-02, 1.69907563e-03, 2.49613424e-03, 6.19940953e-04,\n",
              "       5.72615518e-03, 1.63245287e-04, 2.10883362e-04, 2.52161137e-04,\n",
              "       7.04315929e-05, 1.18937781e-03, 3.36681773e-04, 1.82131341e-04,\n",
              "       9.89402211e-04, 7.42970193e-04, 3.01850045e-04, 2.93596671e-04])"
            ]
          },
          "metadata": {
            "tags": []
          },
          "execution_count": 38
        }
      ]
    },
    {
      "cell_type": "code",
      "metadata": {
        "colab": {
          "base_uri": "https://localhost:8080/",
          "height": 550
        },
        "id": "XMo-JioF4OOo",
        "outputId": "d4545748-a76c-4160-f82f-7da1dc5bdf41"
      },
      "source": [
        "# from sklearn.model_selection import RandomizedSearchCV\n",
        "# from xgboost import XGBClassifier\n",
        "# from sklearn.metrics import accuracy_score, confusion_matrix, precision_score, recall_score\n",
        "# import math\n",
        "\n",
        "# n_estimators =  [100]\n",
        "# max_depth = [19]\n",
        "# learning_rate = [0.01, 0.001, 0.1]\n",
        "# min_child_weight = [1]\n",
        "# gamma =  [0.2]\n",
        "# reg_alpha = [0]\n",
        "# subsample = [0.9]\n",
        "# colsample_bytree = [0.6]\n",
        "# #max_delta_step = [int(x) for x in np.linspace(start=0, stop=5, num=6)]\n",
        "# scale_pos_weight = [np.sum(y_train_resampled == 0)/np.sum(y_train_resampled == 1)]\n",
        "# # Create the random grid\n",
        "# random_grid = {'n_estimators': n_estimators,\n",
        "#                'max_depth': max_depth,\n",
        "#                'learning_rate': learning_rate,\n",
        "#                'min_child_weight':min_child_weight,\n",
        "#                'gamma': gamma,\n",
        "#                #'max_delta_step' : max_delta_step \n",
        "#                'colsample_bytree':colsample_bytree,\n",
        "#                'subsample': subsample,\n",
        "#                'reg_alpha': reg_alpha,\n",
        "#                'scale_pos_weight':scale_pos_weight\n",
        "#                }\n",
        "# print(random_grid)\n",
        "# # initialize the model \n",
        "# xgb = XGBClassifier()\n",
        "# # search across 100 different combinations, and use all available cores\n",
        "# xgb_random = RandomizedSearchCV(estimator = xgb, param_distributions = random_grid, scoring = 'roc_auc', n_iter = 482, cv = 3, verbose=2, random_state=2020)\n",
        "# # Fit the random search model\n",
        "# #xgb_random.fit(train_x_selected.to_numpy(), train_y)\n",
        "# xgb_random.fit(X_train_dummies_resampled, y_train_resampled)\n",
        "# print(xgb_random.best_params_)\n",
        "\n",
        "# y_pred = xgb_random.predict(X_test_dummies.to_numpy())\n",
        "# print('accuracy: {:.2f}%'.format(accuracy_score(y_test, y_pred)*100))\n",
        "# print('precision: {:.2f}%'.format(precision_score(y_test, y_pred)*100))\n",
        "# print('recall: {:.2f}%'.format(recall_score(y_test, y_pred)*100))\n",
        "# print(confusion_matrix(y_test, y_pred))\n",
        "\n",
        "# # predict probabilities\n",
        "# xgb_probs = xgb_random.predict_proba(X_test_dummies.to_numpy())\n",
        "# # keep for the positive outcome only\n",
        "# xgb_probs = xgb_probs[:,1]\n",
        "# plot_roc_curve(y_test, xgb_probs)"
      ],
      "execution_count": null,
      "outputs": [
        {
          "output_type": "stream",
          "text": [
            "{'n_estimators': [100], 'max_depth': [19], 'learning_rate': [0.01, 0.001, 0.1], 'min_child_weight': [1], 'gamma': [0.2], 'colsample_bytree': [0.6], 'subsample': [0.9], 'reg_alpha': [0], 'scale_pos_weight': [1.4310091203295088]}\n",
            "Fitting 3 folds for each of 3 candidates, totalling 9 fits\n",
            "[CV] subsample=0.9, scale_pos_weight=1.4310091203295088, reg_alpha=0, n_estimators=100, min_child_weight=1, max_depth=19, learning_rate=0.01, gamma=0.2, colsample_bytree=0.6 \n"
          ],
          "name": "stdout"
        },
        {
          "output_type": "stream",
          "text": [
            "/usr/local/lib/python3.6/dist-packages/sklearn/model_selection/_search.py:281: UserWarning: The total space of parameters 3 is smaller than n_iter=482. Running 3 iterations. For exhaustive searches, use GridSearchCV.\n",
            "  % (grid_size, self.n_iter, grid_size), UserWarning)\n",
            "[Parallel(n_jobs=1)]: Using backend SequentialBackend with 1 concurrent workers.\n"
          ],
          "name": "stderr"
        },
        {
          "output_type": "error",
          "ename": "KeyboardInterrupt",
          "evalue": "ignored",
          "traceback": [
            "\u001b[0;31m---------------------------------------------------------------------------\u001b[0m",
            "\u001b[0;31mKeyboardInterrupt\u001b[0m                         Traceback (most recent call last)",
            "\u001b[0;32m<ipython-input-22-8fc3f6b24761>\u001b[0m in \u001b[0;36m<module>\u001b[0;34m()\u001b[0m\n\u001b[1;32m     33\u001b[0m \u001b[0;31m# Fit the random search model\u001b[0m\u001b[0;34m\u001b[0m\u001b[0;34m\u001b[0m\u001b[0;34m\u001b[0m\u001b[0m\n\u001b[1;32m     34\u001b[0m \u001b[0;31m#xgb_random.fit(train_x_selected.to_numpy(), train_y)\u001b[0m\u001b[0;34m\u001b[0m\u001b[0;34m\u001b[0m\u001b[0;34m\u001b[0m\u001b[0m\n\u001b[0;32m---> 35\u001b[0;31m \u001b[0mxgb_random\u001b[0m\u001b[0;34m.\u001b[0m\u001b[0mfit\u001b[0m\u001b[0;34m(\u001b[0m\u001b[0mX_train_dummies_resampled\u001b[0m\u001b[0;34m,\u001b[0m \u001b[0my_train_resampled\u001b[0m\u001b[0;34m)\u001b[0m\u001b[0;34m\u001b[0m\u001b[0;34m\u001b[0m\u001b[0m\n\u001b[0m\u001b[1;32m     36\u001b[0m \u001b[0mprint\u001b[0m\u001b[0;34m(\u001b[0m\u001b[0mxgb_random\u001b[0m\u001b[0;34m.\u001b[0m\u001b[0mbest_params_\u001b[0m\u001b[0;34m)\u001b[0m\u001b[0;34m\u001b[0m\u001b[0;34m\u001b[0m\u001b[0m\n\u001b[1;32m     37\u001b[0m \u001b[0;34m\u001b[0m\u001b[0m\n",
            "\u001b[0;32m/usr/local/lib/python3.6/dist-packages/sklearn/model_selection/_search.py\u001b[0m in \u001b[0;36mfit\u001b[0;34m(self, X, y, groups, **fit_params)\u001b[0m\n\u001b[1;32m    708\u001b[0m                 \u001b[0;32mreturn\u001b[0m \u001b[0mresults\u001b[0m\u001b[0;34m\u001b[0m\u001b[0;34m\u001b[0m\u001b[0m\n\u001b[1;32m    709\u001b[0m \u001b[0;34m\u001b[0m\u001b[0m\n\u001b[0;32m--> 710\u001b[0;31m             \u001b[0mself\u001b[0m\u001b[0;34m.\u001b[0m\u001b[0m_run_search\u001b[0m\u001b[0;34m(\u001b[0m\u001b[0mevaluate_candidates\u001b[0m\u001b[0;34m)\u001b[0m\u001b[0;34m\u001b[0m\u001b[0;34m\u001b[0m\u001b[0m\n\u001b[0m\u001b[1;32m    711\u001b[0m \u001b[0;34m\u001b[0m\u001b[0m\n\u001b[1;32m    712\u001b[0m         \u001b[0;31m# For multi-metric evaluation, store the best_index_, best_params_ and\u001b[0m\u001b[0;34m\u001b[0m\u001b[0;34m\u001b[0m\u001b[0;34m\u001b[0m\u001b[0m\n",
            "\u001b[0;32m/usr/local/lib/python3.6/dist-packages/sklearn/model_selection/_search.py\u001b[0m in \u001b[0;36m_run_search\u001b[0;34m(self, evaluate_candidates)\u001b[0m\n\u001b[1;32m   1482\u001b[0m         evaluate_candidates(ParameterSampler(\n\u001b[1;32m   1483\u001b[0m             \u001b[0mself\u001b[0m\u001b[0;34m.\u001b[0m\u001b[0mparam_distributions\u001b[0m\u001b[0;34m,\u001b[0m \u001b[0mself\u001b[0m\u001b[0;34m.\u001b[0m\u001b[0mn_iter\u001b[0m\u001b[0;34m,\u001b[0m\u001b[0;34m\u001b[0m\u001b[0;34m\u001b[0m\u001b[0m\n\u001b[0;32m-> 1484\u001b[0;31m             random_state=self.random_state))\n\u001b[0m",
            "\u001b[0;32m/usr/local/lib/python3.6/dist-packages/sklearn/model_selection/_search.py\u001b[0m in \u001b[0;36mevaluate_candidates\u001b[0;34m(candidate_params)\u001b[0m\n\u001b[1;32m    687\u001b[0m                                \u001b[0;32mfor\u001b[0m \u001b[0mparameters\u001b[0m\u001b[0;34m,\u001b[0m \u001b[0;34m(\u001b[0m\u001b[0mtrain\u001b[0m\u001b[0;34m,\u001b[0m \u001b[0mtest\u001b[0m\u001b[0;34m)\u001b[0m\u001b[0;34m\u001b[0m\u001b[0;34m\u001b[0m\u001b[0m\n\u001b[1;32m    688\u001b[0m                                in product(candidate_params,\n\u001b[0;32m--> 689\u001b[0;31m                                           cv.split(X, y, groups)))\n\u001b[0m\u001b[1;32m    690\u001b[0m \u001b[0;34m\u001b[0m\u001b[0m\n\u001b[1;32m    691\u001b[0m                 \u001b[0;32mif\u001b[0m \u001b[0mlen\u001b[0m\u001b[0;34m(\u001b[0m\u001b[0mout\u001b[0m\u001b[0;34m)\u001b[0m \u001b[0;34m<\u001b[0m \u001b[0;36m1\u001b[0m\u001b[0;34m:\u001b[0m\u001b[0;34m\u001b[0m\u001b[0;34m\u001b[0m\u001b[0m\n",
            "\u001b[0;32m/usr/local/lib/python3.6/dist-packages/joblib/parallel.py\u001b[0m in \u001b[0;36m__call__\u001b[0;34m(self, iterable)\u001b[0m\n\u001b[1;32m   1039\u001b[0m             \u001b[0;31m# remaining jobs.\u001b[0m\u001b[0;34m\u001b[0m\u001b[0;34m\u001b[0m\u001b[0;34m\u001b[0m\u001b[0m\n\u001b[1;32m   1040\u001b[0m             \u001b[0mself\u001b[0m\u001b[0;34m.\u001b[0m\u001b[0m_iterating\u001b[0m \u001b[0;34m=\u001b[0m \u001b[0;32mFalse\u001b[0m\u001b[0;34m\u001b[0m\u001b[0;34m\u001b[0m\u001b[0m\n\u001b[0;32m-> 1041\u001b[0;31m             \u001b[0;32mif\u001b[0m \u001b[0mself\u001b[0m\u001b[0;34m.\u001b[0m\u001b[0mdispatch_one_batch\u001b[0m\u001b[0;34m(\u001b[0m\u001b[0miterator\u001b[0m\u001b[0;34m)\u001b[0m\u001b[0;34m:\u001b[0m\u001b[0;34m\u001b[0m\u001b[0;34m\u001b[0m\u001b[0m\n\u001b[0m\u001b[1;32m   1042\u001b[0m                 \u001b[0mself\u001b[0m\u001b[0;34m.\u001b[0m\u001b[0m_iterating\u001b[0m \u001b[0;34m=\u001b[0m \u001b[0mself\u001b[0m\u001b[0;34m.\u001b[0m\u001b[0m_original_iterator\u001b[0m \u001b[0;32mis\u001b[0m \u001b[0;32mnot\u001b[0m \u001b[0;32mNone\u001b[0m\u001b[0;34m\u001b[0m\u001b[0;34m\u001b[0m\u001b[0m\n\u001b[1;32m   1043\u001b[0m \u001b[0;34m\u001b[0m\u001b[0m\n",
            "\u001b[0;32m/usr/local/lib/python3.6/dist-packages/joblib/parallel.py\u001b[0m in \u001b[0;36mdispatch_one_batch\u001b[0;34m(self, iterator)\u001b[0m\n\u001b[1;32m    857\u001b[0m                 \u001b[0;32mreturn\u001b[0m \u001b[0;32mFalse\u001b[0m\u001b[0;34m\u001b[0m\u001b[0;34m\u001b[0m\u001b[0m\n\u001b[1;32m    858\u001b[0m             \u001b[0;32melse\u001b[0m\u001b[0;34m:\u001b[0m\u001b[0;34m\u001b[0m\u001b[0;34m\u001b[0m\u001b[0m\n\u001b[0;32m--> 859\u001b[0;31m                 \u001b[0mself\u001b[0m\u001b[0;34m.\u001b[0m\u001b[0m_dispatch\u001b[0m\u001b[0;34m(\u001b[0m\u001b[0mtasks\u001b[0m\u001b[0;34m)\u001b[0m\u001b[0;34m\u001b[0m\u001b[0;34m\u001b[0m\u001b[0m\n\u001b[0m\u001b[1;32m    860\u001b[0m                 \u001b[0;32mreturn\u001b[0m \u001b[0;32mTrue\u001b[0m\u001b[0;34m\u001b[0m\u001b[0;34m\u001b[0m\u001b[0m\n\u001b[1;32m    861\u001b[0m \u001b[0;34m\u001b[0m\u001b[0m\n",
            "\u001b[0;32m/usr/local/lib/python3.6/dist-packages/joblib/parallel.py\u001b[0m in \u001b[0;36m_dispatch\u001b[0;34m(self, batch)\u001b[0m\n\u001b[1;32m    775\u001b[0m         \u001b[0;32mwith\u001b[0m \u001b[0mself\u001b[0m\u001b[0;34m.\u001b[0m\u001b[0m_lock\u001b[0m\u001b[0;34m:\u001b[0m\u001b[0;34m\u001b[0m\u001b[0;34m\u001b[0m\u001b[0m\n\u001b[1;32m    776\u001b[0m             \u001b[0mjob_idx\u001b[0m \u001b[0;34m=\u001b[0m \u001b[0mlen\u001b[0m\u001b[0;34m(\u001b[0m\u001b[0mself\u001b[0m\u001b[0;34m.\u001b[0m\u001b[0m_jobs\u001b[0m\u001b[0;34m)\u001b[0m\u001b[0;34m\u001b[0m\u001b[0;34m\u001b[0m\u001b[0m\n\u001b[0;32m--> 777\u001b[0;31m             \u001b[0mjob\u001b[0m \u001b[0;34m=\u001b[0m \u001b[0mself\u001b[0m\u001b[0;34m.\u001b[0m\u001b[0m_backend\u001b[0m\u001b[0;34m.\u001b[0m\u001b[0mapply_async\u001b[0m\u001b[0;34m(\u001b[0m\u001b[0mbatch\u001b[0m\u001b[0;34m,\u001b[0m \u001b[0mcallback\u001b[0m\u001b[0;34m=\u001b[0m\u001b[0mcb\u001b[0m\u001b[0;34m)\u001b[0m\u001b[0;34m\u001b[0m\u001b[0;34m\u001b[0m\u001b[0m\n\u001b[0m\u001b[1;32m    778\u001b[0m             \u001b[0;31m# A job can complete so quickly than its callback is\u001b[0m\u001b[0;34m\u001b[0m\u001b[0;34m\u001b[0m\u001b[0;34m\u001b[0m\u001b[0m\n\u001b[1;32m    779\u001b[0m             \u001b[0;31m# called before we get here, causing self._jobs to\u001b[0m\u001b[0;34m\u001b[0m\u001b[0;34m\u001b[0m\u001b[0;34m\u001b[0m\u001b[0m\n",
            "\u001b[0;32m/usr/local/lib/python3.6/dist-packages/joblib/_parallel_backends.py\u001b[0m in \u001b[0;36mapply_async\u001b[0;34m(self, func, callback)\u001b[0m\n\u001b[1;32m    206\u001b[0m     \u001b[0;32mdef\u001b[0m \u001b[0mapply_async\u001b[0m\u001b[0;34m(\u001b[0m\u001b[0mself\u001b[0m\u001b[0;34m,\u001b[0m \u001b[0mfunc\u001b[0m\u001b[0;34m,\u001b[0m \u001b[0mcallback\u001b[0m\u001b[0;34m=\u001b[0m\u001b[0;32mNone\u001b[0m\u001b[0;34m)\u001b[0m\u001b[0;34m:\u001b[0m\u001b[0;34m\u001b[0m\u001b[0;34m\u001b[0m\u001b[0m\n\u001b[1;32m    207\u001b[0m         \u001b[0;34m\"\"\"Schedule a func to be run\"\"\"\u001b[0m\u001b[0;34m\u001b[0m\u001b[0;34m\u001b[0m\u001b[0m\n\u001b[0;32m--> 208\u001b[0;31m         \u001b[0mresult\u001b[0m \u001b[0;34m=\u001b[0m \u001b[0mImmediateResult\u001b[0m\u001b[0;34m(\u001b[0m\u001b[0mfunc\u001b[0m\u001b[0;34m)\u001b[0m\u001b[0;34m\u001b[0m\u001b[0;34m\u001b[0m\u001b[0m\n\u001b[0m\u001b[1;32m    209\u001b[0m         \u001b[0;32mif\u001b[0m \u001b[0mcallback\u001b[0m\u001b[0;34m:\u001b[0m\u001b[0;34m\u001b[0m\u001b[0;34m\u001b[0m\u001b[0m\n\u001b[1;32m    210\u001b[0m             \u001b[0mcallback\u001b[0m\u001b[0;34m(\u001b[0m\u001b[0mresult\u001b[0m\u001b[0;34m)\u001b[0m\u001b[0;34m\u001b[0m\u001b[0;34m\u001b[0m\u001b[0m\n",
            "\u001b[0;32m/usr/local/lib/python3.6/dist-packages/joblib/_parallel_backends.py\u001b[0m in \u001b[0;36m__init__\u001b[0;34m(self, batch)\u001b[0m\n\u001b[1;32m    570\u001b[0m         \u001b[0;31m# Don't delay the application, to avoid keeping the input\u001b[0m\u001b[0;34m\u001b[0m\u001b[0;34m\u001b[0m\u001b[0;34m\u001b[0m\u001b[0m\n\u001b[1;32m    571\u001b[0m         \u001b[0;31m# arguments in memory\u001b[0m\u001b[0;34m\u001b[0m\u001b[0;34m\u001b[0m\u001b[0;34m\u001b[0m\u001b[0m\n\u001b[0;32m--> 572\u001b[0;31m         \u001b[0mself\u001b[0m\u001b[0;34m.\u001b[0m\u001b[0mresults\u001b[0m \u001b[0;34m=\u001b[0m \u001b[0mbatch\u001b[0m\u001b[0;34m(\u001b[0m\u001b[0;34m)\u001b[0m\u001b[0;34m\u001b[0m\u001b[0;34m\u001b[0m\u001b[0m\n\u001b[0m\u001b[1;32m    573\u001b[0m \u001b[0;34m\u001b[0m\u001b[0m\n\u001b[1;32m    574\u001b[0m     \u001b[0;32mdef\u001b[0m \u001b[0mget\u001b[0m\u001b[0;34m(\u001b[0m\u001b[0mself\u001b[0m\u001b[0;34m)\u001b[0m\u001b[0;34m:\u001b[0m\u001b[0;34m\u001b[0m\u001b[0;34m\u001b[0m\u001b[0m\n",
            "\u001b[0;32m/usr/local/lib/python3.6/dist-packages/joblib/parallel.py\u001b[0m in \u001b[0;36m__call__\u001b[0;34m(self)\u001b[0m\n\u001b[1;32m    261\u001b[0m         \u001b[0;32mwith\u001b[0m \u001b[0mparallel_backend\u001b[0m\u001b[0;34m(\u001b[0m\u001b[0mself\u001b[0m\u001b[0;34m.\u001b[0m\u001b[0m_backend\u001b[0m\u001b[0;34m,\u001b[0m \u001b[0mn_jobs\u001b[0m\u001b[0;34m=\u001b[0m\u001b[0mself\u001b[0m\u001b[0;34m.\u001b[0m\u001b[0m_n_jobs\u001b[0m\u001b[0;34m)\u001b[0m\u001b[0;34m:\u001b[0m\u001b[0;34m\u001b[0m\u001b[0;34m\u001b[0m\u001b[0m\n\u001b[1;32m    262\u001b[0m             return [func(*args, **kwargs)\n\u001b[0;32m--> 263\u001b[0;31m                     for func, args, kwargs in self.items]\n\u001b[0m\u001b[1;32m    264\u001b[0m \u001b[0;34m\u001b[0m\u001b[0m\n\u001b[1;32m    265\u001b[0m     \u001b[0;32mdef\u001b[0m \u001b[0m__reduce__\u001b[0m\u001b[0;34m(\u001b[0m\u001b[0mself\u001b[0m\u001b[0;34m)\u001b[0m\u001b[0;34m:\u001b[0m\u001b[0;34m\u001b[0m\u001b[0;34m\u001b[0m\u001b[0m\n",
            "\u001b[0;32m/usr/local/lib/python3.6/dist-packages/joblib/parallel.py\u001b[0m in \u001b[0;36m<listcomp>\u001b[0;34m(.0)\u001b[0m\n\u001b[1;32m    261\u001b[0m         \u001b[0;32mwith\u001b[0m \u001b[0mparallel_backend\u001b[0m\u001b[0;34m(\u001b[0m\u001b[0mself\u001b[0m\u001b[0;34m.\u001b[0m\u001b[0m_backend\u001b[0m\u001b[0;34m,\u001b[0m \u001b[0mn_jobs\u001b[0m\u001b[0;34m=\u001b[0m\u001b[0mself\u001b[0m\u001b[0;34m.\u001b[0m\u001b[0m_n_jobs\u001b[0m\u001b[0;34m)\u001b[0m\u001b[0;34m:\u001b[0m\u001b[0;34m\u001b[0m\u001b[0;34m\u001b[0m\u001b[0m\n\u001b[1;32m    262\u001b[0m             return [func(*args, **kwargs)\n\u001b[0;32m--> 263\u001b[0;31m                     for func, args, kwargs in self.items]\n\u001b[0m\u001b[1;32m    264\u001b[0m \u001b[0;34m\u001b[0m\u001b[0m\n\u001b[1;32m    265\u001b[0m     \u001b[0;32mdef\u001b[0m \u001b[0m__reduce__\u001b[0m\u001b[0;34m(\u001b[0m\u001b[0mself\u001b[0m\u001b[0;34m)\u001b[0m\u001b[0;34m:\u001b[0m\u001b[0;34m\u001b[0m\u001b[0;34m\u001b[0m\u001b[0m\n",
            "\u001b[0;32m/usr/local/lib/python3.6/dist-packages/sklearn/model_selection/_validation.py\u001b[0m in \u001b[0;36m_fit_and_score\u001b[0;34m(estimator, X, y, scorer, train, test, verbose, parameters, fit_params, return_train_score, return_parameters, return_n_test_samples, return_times, return_estimator, error_score)\u001b[0m\n\u001b[1;32m    513\u001b[0m             \u001b[0mestimator\u001b[0m\u001b[0;34m.\u001b[0m\u001b[0mfit\u001b[0m\u001b[0;34m(\u001b[0m\u001b[0mX_train\u001b[0m\u001b[0;34m,\u001b[0m \u001b[0;34m**\u001b[0m\u001b[0mfit_params\u001b[0m\u001b[0;34m)\u001b[0m\u001b[0;34m\u001b[0m\u001b[0;34m\u001b[0m\u001b[0m\n\u001b[1;32m    514\u001b[0m         \u001b[0;32melse\u001b[0m\u001b[0;34m:\u001b[0m\u001b[0;34m\u001b[0m\u001b[0;34m\u001b[0m\u001b[0m\n\u001b[0;32m--> 515\u001b[0;31m             \u001b[0mestimator\u001b[0m\u001b[0;34m.\u001b[0m\u001b[0mfit\u001b[0m\u001b[0;34m(\u001b[0m\u001b[0mX_train\u001b[0m\u001b[0;34m,\u001b[0m \u001b[0my_train\u001b[0m\u001b[0;34m,\u001b[0m \u001b[0;34m**\u001b[0m\u001b[0mfit_params\u001b[0m\u001b[0;34m)\u001b[0m\u001b[0;34m\u001b[0m\u001b[0;34m\u001b[0m\u001b[0m\n\u001b[0m\u001b[1;32m    516\u001b[0m \u001b[0;34m\u001b[0m\u001b[0m\n\u001b[1;32m    517\u001b[0m     \u001b[0;32mexcept\u001b[0m \u001b[0mException\u001b[0m \u001b[0;32mas\u001b[0m \u001b[0me\u001b[0m\u001b[0;34m:\u001b[0m\u001b[0;34m\u001b[0m\u001b[0;34m\u001b[0m\u001b[0m\n",
            "\u001b[0;32m/usr/local/lib/python3.6/dist-packages/xgboost/sklearn.py\u001b[0m in \u001b[0;36mfit\u001b[0;34m(self, X, y, sample_weight, eval_set, eval_metric, early_stopping_rounds, verbose, xgb_model, sample_weight_eval_set, callbacks)\u001b[0m\n\u001b[1;32m    730\u001b[0m                               \u001b[0mevals_result\u001b[0m\u001b[0;34m=\u001b[0m\u001b[0mevals_result\u001b[0m\u001b[0;34m,\u001b[0m \u001b[0mobj\u001b[0m\u001b[0;34m=\u001b[0m\u001b[0mobj\u001b[0m\u001b[0;34m,\u001b[0m \u001b[0mfeval\u001b[0m\u001b[0;34m=\u001b[0m\u001b[0mfeval\u001b[0m\u001b[0;34m,\u001b[0m\u001b[0;34m\u001b[0m\u001b[0;34m\u001b[0m\u001b[0m\n\u001b[1;32m    731\u001b[0m                               \u001b[0mverbose_eval\u001b[0m\u001b[0;34m=\u001b[0m\u001b[0mverbose\u001b[0m\u001b[0;34m,\u001b[0m \u001b[0mxgb_model\u001b[0m\u001b[0;34m=\u001b[0m\u001b[0mxgb_model\u001b[0m\u001b[0;34m,\u001b[0m\u001b[0;34m\u001b[0m\u001b[0;34m\u001b[0m\u001b[0m\n\u001b[0;32m--> 732\u001b[0;31m                               callbacks=callbacks)\n\u001b[0m\u001b[1;32m    733\u001b[0m \u001b[0;34m\u001b[0m\u001b[0m\n\u001b[1;32m    734\u001b[0m         \u001b[0mself\u001b[0m\u001b[0;34m.\u001b[0m\u001b[0mobjective\u001b[0m \u001b[0;34m=\u001b[0m \u001b[0mxgb_options\u001b[0m\u001b[0;34m[\u001b[0m\u001b[0;34m\"objective\"\u001b[0m\u001b[0;34m]\u001b[0m\u001b[0;34m\u001b[0m\u001b[0;34m\u001b[0m\u001b[0m\n",
            "\u001b[0;32m/usr/local/lib/python3.6/dist-packages/xgboost/training.py\u001b[0m in \u001b[0;36mtrain\u001b[0;34m(params, dtrain, num_boost_round, evals, obj, feval, maximize, early_stopping_rounds, evals_result, verbose_eval, xgb_model, callbacks, learning_rates)\u001b[0m\n\u001b[1;32m    214\u001b[0m                            \u001b[0mevals\u001b[0m\u001b[0;34m=\u001b[0m\u001b[0mevals\u001b[0m\u001b[0;34m,\u001b[0m\u001b[0;34m\u001b[0m\u001b[0;34m\u001b[0m\u001b[0m\n\u001b[1;32m    215\u001b[0m                            \u001b[0mobj\u001b[0m\u001b[0;34m=\u001b[0m\u001b[0mobj\u001b[0m\u001b[0;34m,\u001b[0m \u001b[0mfeval\u001b[0m\u001b[0;34m=\u001b[0m\u001b[0mfeval\u001b[0m\u001b[0;34m,\u001b[0m\u001b[0;34m\u001b[0m\u001b[0;34m\u001b[0m\u001b[0m\n\u001b[0;32m--> 216\u001b[0;31m                            xgb_model=xgb_model, callbacks=callbacks)\n\u001b[0m\u001b[1;32m    217\u001b[0m \u001b[0;34m\u001b[0m\u001b[0m\n\u001b[1;32m    218\u001b[0m \u001b[0;34m\u001b[0m\u001b[0m\n",
            "\u001b[0;32m/usr/local/lib/python3.6/dist-packages/xgboost/training.py\u001b[0m in \u001b[0;36m_train_internal\u001b[0;34m(params, dtrain, num_boost_round, evals, obj, feval, xgb_model, callbacks)\u001b[0m\n\u001b[1;32m     72\u001b[0m         \u001b[0;31m# Skip the first update if it is a recovery step.\u001b[0m\u001b[0;34m\u001b[0m\u001b[0;34m\u001b[0m\u001b[0;34m\u001b[0m\u001b[0m\n\u001b[1;32m     73\u001b[0m         \u001b[0;32mif\u001b[0m \u001b[0mversion\u001b[0m \u001b[0;34m%\u001b[0m \u001b[0;36m2\u001b[0m \u001b[0;34m==\u001b[0m \u001b[0;36m0\u001b[0m\u001b[0;34m:\u001b[0m\u001b[0;34m\u001b[0m\u001b[0;34m\u001b[0m\u001b[0m\n\u001b[0;32m---> 74\u001b[0;31m             \u001b[0mbst\u001b[0m\u001b[0;34m.\u001b[0m\u001b[0mupdate\u001b[0m\u001b[0;34m(\u001b[0m\u001b[0mdtrain\u001b[0m\u001b[0;34m,\u001b[0m \u001b[0mi\u001b[0m\u001b[0;34m,\u001b[0m \u001b[0mobj\u001b[0m\u001b[0;34m)\u001b[0m\u001b[0;34m\u001b[0m\u001b[0;34m\u001b[0m\u001b[0m\n\u001b[0m\u001b[1;32m     75\u001b[0m             \u001b[0mbst\u001b[0m\u001b[0;34m.\u001b[0m\u001b[0msave_rabit_checkpoint\u001b[0m\u001b[0;34m(\u001b[0m\u001b[0;34m)\u001b[0m\u001b[0;34m\u001b[0m\u001b[0;34m\u001b[0m\u001b[0m\n\u001b[1;32m     76\u001b[0m             \u001b[0mversion\u001b[0m \u001b[0;34m+=\u001b[0m \u001b[0;36m1\u001b[0m\u001b[0;34m\u001b[0m\u001b[0;34m\u001b[0m\u001b[0m\n",
            "\u001b[0;32m/usr/local/lib/python3.6/dist-packages/xgboost/core.py\u001b[0m in \u001b[0;36mupdate\u001b[0;34m(self, dtrain, iteration, fobj)\u001b[0m\n\u001b[1;32m   1107\u001b[0m         \u001b[0;32mif\u001b[0m \u001b[0mfobj\u001b[0m \u001b[0;32mis\u001b[0m \u001b[0;32mNone\u001b[0m\u001b[0;34m:\u001b[0m\u001b[0;34m\u001b[0m\u001b[0;34m\u001b[0m\u001b[0m\n\u001b[1;32m   1108\u001b[0m             _check_call(_LIB.XGBoosterUpdateOneIter(self.handle, ctypes.c_int(iteration),\n\u001b[0;32m-> 1109\u001b[0;31m                                                     dtrain.handle))\n\u001b[0m\u001b[1;32m   1110\u001b[0m         \u001b[0;32melse\u001b[0m\u001b[0;34m:\u001b[0m\u001b[0;34m\u001b[0m\u001b[0;34m\u001b[0m\u001b[0m\n\u001b[1;32m   1111\u001b[0m             \u001b[0mpred\u001b[0m \u001b[0;34m=\u001b[0m \u001b[0mself\u001b[0m\u001b[0;34m.\u001b[0m\u001b[0mpredict\u001b[0m\u001b[0;34m(\u001b[0m\u001b[0mdtrain\u001b[0m\u001b[0;34m)\u001b[0m\u001b[0;34m\u001b[0m\u001b[0;34m\u001b[0m\u001b[0m\n",
            "\u001b[0;31mKeyboardInterrupt\u001b[0m: "
          ]
        }
      ]
    },
    {
      "cell_type": "code",
      "metadata": {
        "colab": {
          "base_uri": "https://localhost:8080/",
          "height": 406
        },
        "id": "3IB1Rayo-PSg",
        "outputId": "d890f271-cac6-483f-c047-44e312ba55f6"
      },
      "source": [
        "from xgboost import XGBClassifier\n",
        "from sklearn.metrics import accuracy_score, confusion_matrix, precision_score, recall_score\n",
        "param_dist = {'subsample': 0.9, \n",
        "              'scale_pos_weight': 1.4364028635873296, \n",
        "              'reg_alpha': 0, 'n_estimators': 100, \n",
        "              'min_child_weight': 1, \n",
        "              'max_depth': 19, \n",
        "              'learning_rate': 0.01, \n",
        "              'gamma': 0.2, \n",
        "              'colsample_bytree': 0.6}\n",
        "xgb = XGBClassifier(**param_dist)\n",
        "\n",
        "\n",
        "xgb.fit(X_train_dummies_resampled, y_train_resampled)\n",
        "\n",
        "# predict probabilities\n",
        "xgb_probs = xgb.predict_proba(X_test_dummies)\n",
        "xgb_probs = xgb_probs[:,1]\n",
        "plot_roc_curve(y_test, xgb_probs)\n",
        "# keep for the positive outcome only\n",
        "y_pred = (xgb_probs > 0.3).astype(int)\n",
        "print('accuracy: {:.2f}%'.format(accuracy_score(y_test, y_pred)*100))\n",
        "print('precision: {:.2f}%'.format(precision_score(y_test, y_pred)*100))\n",
        "print('recall: {:.2f}%'.format(recall_score(y_test, y_pred)*100))\n",
        "print(confusion_matrix(y_test, y_pred))"
      ],
      "execution_count": null,
      "outputs": [
        {
          "output_type": "stream",
          "text": [
            "No Skill: ROC AUC=0.500\n",
            "Model: ROC AUC=0.731\n"
          ],
          "name": "stdout"
        },
        {
          "output_type": "display_data",
          "data": {
            "image/png": "[encoded data removed]",
            "text/plain": [
              "<Figure size 432x288 with 1 Axes>"
            ]
          },
          "metadata": {
            "tags": [],
            "needs_background": "light"
          }
        },
        {
          "output_type": "stream",
          "text": [
            "accuracy: 67.05%\n",
            "precision: 14.97%\n",
            "recall: 65.35%\n",
            "[[13502  6590]\n",
            " [  615  1160]]\n"
          ],
          "name": "stdout"
        }
      ]
    },
    {
      "cell_type": "code",
      "metadata": {
        "colab": {
          "base_uri": "https://localhost:8080/",
          "height": 282
        },
        "id": "fT85ERe1KUQJ",
        "outputId": "33f2e218-9842-4122-d628-be07b17c16a2"
      },
      "source": [
        "feature_important = xgb.get_booster().get_score(importance_type=\"gain\")\n",
        "keys = list(feature_important.keys())\n",
        "values = list(feature_important.values())\n",
        "\n",
        "data = pd.DataFrame(data=values, index=keys, columns=[\"score\"]).sort_values(by = \"score\", ascending=False)\n",
        "data[0:10].plot(kind='barh')"
      ],
      "execution_count": null,
      "outputs": [
        {
          "output_type": "execute_result",
          "data": {
            "text/plain": [
              "<matplotlib.axes._subplots.AxesSubplot at 0x7f625c58f828>"
            ]
          },
          "metadata": {
            "tags": []
          },
          "execution_count": 35
        },
        {
          "output_type": "display_data",
          "data": {
            "image/png": "[encoded data removed]",
            "text/plain": [
              "<Figure size 432x288 with 1 Axes>"
            ]
          },
          "metadata": {
            "tags": [],
            "needs_background": "light"
          }
        }
      ]
    }
  ]
}